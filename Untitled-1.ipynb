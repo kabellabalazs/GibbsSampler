{
 "cells": [
  {
   "cell_type": "code",
   "execution_count": 1,
   "metadata": {},
   "outputs": [
    {
     "name": "stderr",
     "output_type": "stream",
     "text": [
      "/home/kabel/miniconda3/envs/gibbssampler/lib/python3.12/site-packages/cotengra/hyperoptimizers/hyper.py:57: UserWarning: Couldn't find `optuna`, `cmaes`, `baytune (btb)`, `chocolate`, or `nevergrad` so will use completely random sampling in place of hyper-optimization.\n",
      "  warnings.warn(\n",
      "/home/kabel/miniconda3/envs/gibbssampler/lib/python3.12/site-packages/cotengra/hyperoptimizers/hyper.py:39: UserWarning: Couldn't import `kahypar` - skipping from default hyper optimizer and using basic `labels` method instead.\n",
      "  warnings.warn(\n",
      "/home/kabel/miniconda3/envs/gibbssampler/lib/python3.12/site-packages/cotengra/hyperoptimizers/hyper.py:76: UserWarning: Couldn't find `optuna`, `cmaes`, `baytune (btb)`, `chocolate`, or `nevergrad` so will use completely random sampling in place of hyper-optimization.\n",
      "  warnings.warn(\n"
     ]
    }
   ],
   "source": [
    "import quimb.tensor as qtn\n",
    "import numpy as np"
   ]
  },
  {
   "cell_type": "code",
   "execution_count": 2,
   "metadata": {},
   "outputs": [],
   "source": [
    "L=4 #use even numbers\n",
    "J=1\n",
    "h=1.5\n",
    "tol=1e-8\n",
    "delta_t=.08\n",
    "final_t=3.2\n",
    "\n",
    "a=33 #0.05 33 #0.1 #32\n",
    "num_steps=int(final_t/delta_t)\n",
    "\n",
    "\n",
    "I=np.eye(2)\n",
    "X=np.array([[0,1],[1,0]])\n",
    "Y=np.array([[0,-1j][1j,0]])\n",
    "Z=np.array([[1,0],[0,-1]])\n",
    "\n",
    "\n",
    "h2=-J*(np.kron(np.kron(Z,I),np.kron(Z,I))-np.kron(np.kron(I,Z),np.kron(I,Z)))\n",
    "h1=h*(np.kron(X,I)-np.kron(I,X))\n"
   ]
  },
  {
   "cell_type": "code",
   "execution_count": null,
   "metadata": {},
   "outputs": [],
   "source": [
    "h=1.5\n",
    "J=1\n",
    "L=6\n",
    "tebd_tol=tol\n",
    "split_opts={'method':'svd','cutoff':1e-10,'cutoff_mode':'rel','max_bond':100}\n",
    "\n",
    "local_ham = qtn.LocalHam1D(L=L, H2=h2, H1=h1,cyclic=False)\n",
    "psi0=qtn.MPS_product_state([np.eye(2)]*L)\n",
    "tebd=qtn.TEBD(psi0,local_ham,imag=True,progbar=False,split_opts=split_opts)\n",
    "psi=tebd.update_to(.5,tol=tebd_tol)\n",
    "tebd"
   ]
  }
 ],
 "metadata": {
  "kernelspec": {
   "display_name": "gibbssampler",
   "language": "python",
   "name": "python3"
  },
  "language_info": {
   "codemirror_mode": {
    "name": "ipython",
    "version": 3
   },
   "file_extension": ".py",
   "mimetype": "text/x-python",
   "name": "python",
   "nbconvert_exporter": "python",
   "pygments_lexer": "ipython3",
   "version": "3.12.8"
  }
 },
 "nbformat": 4,
 "nbformat_minor": 2
}
