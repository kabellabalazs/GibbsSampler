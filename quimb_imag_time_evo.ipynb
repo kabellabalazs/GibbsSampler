{
 "cells": [
  {
   "cell_type": "code",
   "execution_count": 1,
   "metadata": {},
   "outputs": [
    {
     "name": "stderr",
     "output_type": "stream",
     "text": [
      "/home/kabel/miniconda3/envs/gibbssampler/lib/python3.12/site-packages/cotengra/hyperoptimizers/hyper.py:33: UserWarning: Couldn't import `kahypar` - skipping from default hyper optimizer and using basic `labels` method instead.\n",
      "  warnings.warn(\n"
     ]
    }
   ],
   "source": [
    "import pickle\n",
    "import numpy as np\n",
    "import quimb.tensor as qtn\n",
    "import quimb as qu\n",
    "import scipy.linalg as la\n",
    "from mpo_utils import mpo_to_mps, mps_to_mpo\n",
    "from exact_construct import create_hamiltonian\n",
    "from scipy.linalg import expm"
   ]
  },
  {
   "cell_type": "code",
   "execution_count": 2,
   "metadata": {},
   "outputs": [],
   "source": [
    "\n",
    "L=6\n",
    "J=1\n",
    "h=1.5\n"
   ]
  },
  {
   "cell_type": "code",
   "execution_count": 3,
   "metadata": {},
   "outputs": [],
   "source": [
    "split_opts={'method':'svd','cutoff':1e-9,'cutoff_mode':'rel','max_bond':100}\n",
    "h2=-J*(qu.pauli('Z') & qu.pauli('I')) & (qu.pauli('Z') & qu.pauli('I'))\n",
    "h1=h*qu.pauli('X') & qu.pauli('I')\n",
    "local_ham = qtn.LocalHam1D(L=L, H2=h2, H1=h1,cyclic=False)\n",
    "def gibbs_mpo(local_ham,tebd_tol,split_opts):\n",
    "    tebd_tol=1e-10\n",
    "    rho0=qtn.MPS_product_state([np.eye(2)]*L)\n",
    "    tebd=qtn.TEBD(rho0,local_ham,imag=True,progbar=False,split_opts=split_opts)\n",
    "    tebd.update_to(1,tol=tebd_tol)\n",
    "    rho=mps_to_mpo(tebd.pt)\n",
    "    rho=rho*(1/rho.trace())\n",
    "    return rho\n",
    "rho=gibbs_mpo(local_ham,1e-10,split_opts)"
   ]
  },
  {
   "cell_type": "code",
   "execution_count": 4,
   "metadata": {},
   "outputs": [],
   "source": [
    "\n",
    "x=np.array([[0,1],[1,0]])\n",
    "z=np.array([[1,0],[0,-1]])\n",
    "i=np.eye(2)\n",
    "kraus_ops=[x,z]\n",
    "\n",
    "h2 = -J*np.kron(np.kron(z,i),np.kron(z,i))\n",
    "h1=h*np.kron(x,i)\n",
    "local_ham = qtn.LocalHam1D(L=L, H2=-1j*h2, H1=-1j*h1,cyclic=False)\n",
    "\n",
    "local_hamiltonians = dict(qtn.LocalHam1D(L=L, H2=-J*np.kron(z,z), H1=h*x,cyclic=False).items())\n",
    "\n"
   ]
  },
  {
   "cell_type": "code",
   "execution_count": 5,
   "metadata": {},
   "outputs": [
    {
     "data": {
      "text/html": [
       "<samp style='font-size: 12px;'><details><summary><b style=\"color: #d75692;\">MatrixProductState</b>(tensors=6, indices=11, L=6, max_bond=1)</summary><samp style='font-size: 12px;'><details><summary><b style=\"color: #e55471;\">Tensor</b>(shape=(<b style=\"color: #45ce3d;\">1</b>, <b style=\"color: #80d749;\">4</b>), inds=[<b style=\"color: #9edd77;\">_c7485cAAOGJ</b>, <b style=\"color: #b1dc61;\">k0</b>], tags={<b style=\"color: #d2b137;\">I0</b>}),</summary>backend=<b style=\"color: #7fdd73;\">numpy</b>, dtype=<b style=\"color: #75d2c6;\">float64</b>, data=array([[1., 0., 0., 1.]])</details></samp><samp style='font-size: 12px;'><details><summary><b style=\"color: #e55471;\">Tensor</b>(shape=(<b style=\"color: #45ce3d;\">1</b>, <b style=\"color: #45ce3d;\">1</b>, <b style=\"color: #80d749;\">4</b>), inds=[<b style=\"color: #9edd77;\">_c7485cAAOGJ</b>, <b style=\"color: #d1c667;\">_c7485cAAOGK</b>, <b style=\"color: #8aa5db;\">k1</b>], tags={<b style=\"color: #d19b78;\">I1</b>}),</summary>backend=<b style=\"color: #7fdd73;\">numpy</b>, dtype=<b style=\"color: #75d2c6;\">float64</b>, data=array([[[1., 0., 0., 1.]]])</details></samp><samp style='font-size: 12px;'><details><summary><b style=\"color: #e55471;\">Tensor</b>(shape=(<b style=\"color: #45ce3d;\">1</b>, <b style=\"color: #45ce3d;\">1</b>, <b style=\"color: #80d749;\">4</b>), inds=[<b style=\"color: #d1c667;\">_c7485cAAOGK</b>, <b style=\"color: #a95de2;\">_c7485cAAOGL</b>, <b style=\"color: #df546d;\">k2</b>], tags={<b style=\"color: #dd5dd7;\">I2</b>}),</summary>backend=<b style=\"color: #7fdd73;\">numpy</b>, dtype=<b style=\"color: #75d2c6;\">float64</b>, data=array([[[1., 0., 0., 1.]]])</details></samp><samp style='font-size: 12px;'><details><summary><b style=\"color: #e55471;\">Tensor</b>(shape=(<b style=\"color: #45ce3d;\">1</b>, <b style=\"color: #45ce3d;\">1</b>, <b style=\"color: #80d749;\">4</b>), inds=[<b style=\"color: #a95de2;\">_c7485cAAOGL</b>, <b style=\"color: #d1716d;\">_c7485cAAOGM</b>, <b style=\"color: #4c7be1;\">k3</b>], tags={<b style=\"color: #dd65d9;\">I3</b>}),</summary>backend=<b style=\"color: #7fdd73;\">numpy</b>, dtype=<b style=\"color: #75d2c6;\">float64</b>, data=array([[[1., 0., 0., 1.]]])</details></samp><samp style='font-size: 12px;'><details><summary><b style=\"color: #e55471;\">Tensor</b>(shape=(<b style=\"color: #45ce3d;\">1</b>, <b style=\"color: #45ce3d;\">1</b>, <b style=\"color: #80d749;\">4</b>), inds=[<b style=\"color: #d1716d;\">_c7485cAAOGM</b>, <b style=\"color: #db73e4;\">_c7485cAAOGN</b>, <b style=\"color: #462edc;\">k4</b>], tags={<b style=\"color: #998ad1;\">I4</b>}),</summary>backend=<b style=\"color: #7fdd73;\">numpy</b>, dtype=<b style=\"color: #75d2c6;\">float64</b>, data=array([[[1., 0., 0., 1.]]])</details></samp><samp style='font-size: 12px;'><details><summary><b style=\"color: #e55471;\">Tensor</b>(shape=(<b style=\"color: #45ce3d;\">1</b>, <b style=\"color: #80d749;\">4</b>), inds=[<b style=\"color: #db73e4;\">_c7485cAAOGN</b>, <b style=\"color: #85dfdf;\">k5</b>], tags={<b style=\"color: #97dddc;\">I5</b>}),</summary>backend=<b style=\"color: #7fdd73;\">numpy</b>, dtype=<b style=\"color: #75d2c6;\">float64</b>, data=array([[1., 0., 0., 1.]])</details></samp></details></samp>"
      ],
      "text/plain": [
       "MatrixProductState(tensors=6, indices=11, L=6, max_bond=1)"
      ]
     },
     "execution_count": 5,
     "metadata": {},
     "output_type": "execute_result"
    }
   ],
   "source": [
    "mps0 = mpo_to_mps(qtn.MPO_identity(L,sites=None, phys_dim=2, cyclic=False))\n",
    "mps0\n"
   ]
  },
  {
   "cell_type": "code",
   "execution_count": 6,
   "metadata": {},
   "outputs": [],
   "source": [
    "tebd=qtn.tensor_1d_tebd.TEBD(mps0,local_ham,imag=False,tol=1e-7)"
   ]
  },
  {
   "cell_type": "code",
   "execution_count": 7,
   "metadata": {},
   "outputs": [
    {
     "name": "stderr",
     "output_type": "stream",
     "text": [
      "t=0.01109, max-bond=2:   0%|          | 0/100 [00:00<?, ?%/s]"
     ]
    },
    {
     "name": "stderr",
     "output_type": "stream",
     "text": [
      "t=1, max-bond=7: 100%|##########| 100/100 [00:00<00:00, 145.95%/s]    \n"
     ]
    }
   ],
   "source": [
    "tebd.update_to(1)"
   ]
  },
  {
   "cell_type": "code",
   "execution_count": 8,
   "metadata": {},
   "outputs": [],
   "source": [
    "res=mps_to_mpo(tebd.pt)\n",
    "rho_mpo=res/res.trace(res.lower_inds,res.upper_inds)\n"
   ]
  },
  {
   "cell_type": "code",
   "execution_count": 9,
   "metadata": {},
   "outputs": [],
   "source": [
    "h=create_hamiltonian(local_hamiltonians)\n",
    "exp=expm(-h)\n",
    "rho=exp/np.trace(exp)"
   ]
  },
  {
   "cell_type": "code",
   "execution_count": 10,
   "metadata": {},
   "outputs": [
    {
     "data": {
      "text/plain": [
       "np.float64(0.0006514689639042191)"
      ]
     },
     "execution_count": 10,
     "metadata": {},
     "output_type": "execute_result"
    }
   ],
   "source": [
    "np.linalg.norm(rho-rho_mpo.to_dense(),ord=2)/np.linalg.norm(rho,ord=2)"
   ]
  }
 ],
 "metadata": {
  "kernelspec": {
   "display_name": "gibbssampler",
   "language": "python",
   "name": "python3"
  },
  "language_info": {
   "codemirror_mode": {
    "name": "ipython",
    "version": 3
   },
   "file_extension": ".py",
   "mimetype": "text/x-python",
   "name": "python",
   "nbconvert_exporter": "python",
   "pygments_lexer": "ipython3",
   "version": "3.12.8"
  }
 },
 "nbformat": 4,
 "nbformat_minor": 2
}
