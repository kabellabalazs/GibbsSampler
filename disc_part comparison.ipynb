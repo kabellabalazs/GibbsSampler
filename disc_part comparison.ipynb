{
 "cells": [
  {
   "cell_type": "code",
   "execution_count": 11,
   "metadata": {},
   "outputs": [],
   "source": [
    "import numpy as np\n",
    "from exact_construct import full_discriminant,s_transform,sc_transform, disc_part\n",
    "import quimb as qu\n",
    "import quimb.tensor as qtn\n",
    "from numpy.linalg import matrix_power\n",
    "from mpo_utils import mirror_mpo\n",
    "import pickle\n",
    "L=6\n",
    "J=1\n",
    "h=1.5\n",
    "\n",
    "x=np.array([[0,1],[1,0]])\n",
    "z=np.array([[1,0],[0,-1]])\n",
    "kraus_ops=[x,z]\n",
    "\n",
    "h2 = -J*np.kron(z,z)\n",
    "h1=h*x\n",
    "local_ham = qtn.LocalHam1D(L=L, H2=h2, H1=h1,cyclic=False)\n",
    "local_hamiltonians=dict(local_ham.items())\n"
   ]
  },
  {
   "cell_type": "code",
   "execution_count": 12,
   "metadata": {},
   "outputs": [],
   "source": [
    "folder='DATA/new_data02/'\n",
    "with open(folder+'sca_xs.pkl', 'rb') as file:\n",
    "    sca_xs = pickle.load(file)\n",
    "with open(folder+'sca_zs.pkl', 'rb') as file:\n",
    "    sca_zs = pickle.load(file)\n",
    "with open(folder+'scd_xs.pkl', 'rb') as file:\n",
    "    scd_xs = pickle.load(file)\n",
    "with open(folder+'scd_zs.pkl', 'rb') as file:\n",
    "    scd_zs = pickle.load(file)\n",
    "    "
   ]
  },
  {
   "cell_type": "code",
   "execution_count": 13,
   "metadata": {},
   "outputs": [],
   "source": [
    "i=2\n",
    "scd,sca=disc_part(x,i,local_hamiltonians)"
   ]
  },
  {
   "cell_type": "code",
   "execution_count": 14,
   "metadata": {},
   "outputs": [],
   "source": [
    "qv=scd_xs[-1].to_dense()\n",
    "exact=scd\n"
   ]
  },
  {
   "cell_type": "code",
   "execution_count": 15,
   "metadata": {},
   "outputs": [
    {
     "data": {
      "text/plain": [
       "np.float64(2.0711429221266883e-07)"
      ]
     },
     "execution_count": 15,
     "metadata": {},
     "output_type": "execute_result"
    }
   ],
   "source": [
    "np.linalg.norm(qv-exact,ord=2)/np.linalg.norm(exact,ord=2)"
   ]
  }
 ],
 "metadata": {
  "kernelspec": {
   "display_name": "gibbssampler",
   "language": "python",
   "name": "python3"
  },
  "language_info": {
   "codemirror_mode": {
    "name": "ipython",
    "version": 3
   },
   "file_extension": ".py",
   "mimetype": "text/x-python",
   "name": "python",
   "nbconvert_exporter": "python",
   "pygments_lexer": "ipython3",
   "version": "3.12.8"
  }
 },
 "nbformat": 4,
 "nbformat_minor": 2
}
