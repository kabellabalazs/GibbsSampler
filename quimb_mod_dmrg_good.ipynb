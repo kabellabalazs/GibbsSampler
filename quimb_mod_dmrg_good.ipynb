{
 "cells": [
  {
   "cell_type": "code",
   "execution_count": 1,
   "metadata": {},
   "outputs": [
    {
     "name": "stderr",
     "output_type": "stream",
     "text": [
      "/home/kabel/miniconda3/envs/gibbssampler/lib/python3.12/site-packages/cotengra/hyperoptimizers/hyper.py:57: UserWarning: Couldn't find `optuna`, `cmaes`, `baytune (btb)`, `chocolate`, or `nevergrad` so will use completely random sampling in place of hyper-optimization.\n",
      "  warnings.warn(\n",
      "/home/kabel/miniconda3/envs/gibbssampler/lib/python3.12/site-packages/cotengra/hyperoptimizers/hyper.py:39: UserWarning: Couldn't import `kahypar` - skipping from default hyper optimizer and using basic `labels` method instead.\n",
      "  warnings.warn(\n",
      "/home/kabel/miniconda3/envs/gibbssampler/lib/python3.12/site-packages/cotengra/hyperoptimizers/hyper.py:76: UserWarning: Couldn't find `optuna`, `cmaes`, `baytune (btb)`, `chocolate`, or `nevergrad` so will use completely random sampling in place of hyper-optimization.\n",
      "  warnings.warn(\n"
     ]
    }
   ],
   "source": [
    "import quimb.tensor as qtn\n",
    "import quimb as qu\n",
    "import numpy as np\n",
    "import pickle\n",
    "import scipy.sparse.linalg as spla\n",
    "from utils import progress_bar\n",
    "from mpo_utils import mps_to_mpo"
   ]
  },
  {
   "cell_type": "code",
   "execution_count": 2,
   "metadata": {},
   "outputs": [],
   "source": [
    "def get_rho_conj(rho,upper_ind_id='b{}',lower_ind_id='a{}',tags='rho*'):\n",
    "    site_tag_len=len(rho.site_tag_id)-2\n",
    "    ind_order=[int(t[site_tag_len:]) for t in rho.tags if t in rho.site_tags]\n",
    "    \n",
    "    tens=[rho.arrays[j].conj() for j in [ind_order.index(i) for i in range(rho.L)]]\n",
    "    \n",
    "    rho_conj=qtn.tensor_1d.MatrixProductOperator(tens,\n",
    "                                                upper_ind_id=upper_ind_id,\n",
    "                                                lower_ind_id=lower_ind_id,\n",
    "                                                tags=tags,shape='lrud') #conjugate the operator\n",
    " \n",
    "    return rho_conj\n",
    "\n",
    "def mirror_mpo(mpo):\n",
    "    mpo.permute_arrays(shape='lrud')\n",
    "    mirrored_arrays = [mpo.arrays[-1]]\n",
    "    for arr in list(reversed(mpo.arrays))[1:-1]:\n",
    "        mirrored_arrays.append(arr.transpose(1,0,2,3))\n",
    "    mirrored_arrays.append(mpo.arrays[0])\n",
    "    return qtn.tensor_1d.MatrixProductOperator(mirrored_arrays)\n"
   ]
  },
  {
   "cell_type": "code",
   "execution_count": 3,
   "metadata": {},
   "outputs": [],
   "source": [
    "\n",
    "\n",
    "def project_out(rho,rho_conj,rho0,i,lix,rix):\n",
    "    '''\n",
    "      _____\n",
    "      |a  |tensors_sorted\n",
    "      _____\n",
    "      |c  |\n",
    "    [r]  |\n",
    "      |d  |\n",
    "    [r0*] |\n",
    "      |c__|\n",
    "\n",
    "    ''' \n",
    "    site_tag_len=len(rho0.site_tag_id)-2\n",
    "    ind_order=[int(t[site_tag_len:]) for t in rho0.tags if t in rho0.site_tags]\n",
    "    \n",
    "    tens=[rho0.arrays[j] for j in [ind_order.index(i) for i in range(rho0.L)]]\n",
    "    rho0=qtn.MatrixProductOperator(tens,\n",
    "                                    upper_ind_id='b{}', lower_ind_id='a{}',\n",
    "                                    tags='rho0',shape='lrud')\n",
    "    \n",
    "    rho0_conj=get_rho_conj(rho0,upper_ind_id='c{}',lower_ind_id='d{}',tags='rho0*')\n",
    "    \n",
    "\n",
    "    \n",
    "\n",
    "    # Normalize all MPOs\n",
    "    \n",
    "    full_network=qtn.TensorNetwork1D((rho,rho0,rho_conj,rho0_conj))\n",
    "\n",
    "    \n",
    "    print((rho0_conj*(1/rho0_conj.norm())&rho*(1/rho.norm())).contract())\n",
    "    full_network._L=rho.L\n",
    "    full_network._site_tag_id='I{}'\n",
    "    menv=qtn.tensor_dmrg.MovingEnvironment(full_network,begin='left',bsz=2)\n",
    "    menv.move_to(i)\n",
    "    curnet = menv()\n",
    "    linop_tens=[curnet['rho0*',f'I{i}'],\n",
    "                curnet['rho0*',f'I{i+1}'],\n",
    "                curnet['rho0',f'I{i}'],\n",
    "                curnet['rho0',f'I{i+1}'],\n",
    "                curnet['_LEFT'],\n",
    "                curnet['_RIGHT']]\n",
    "    return qtn.tensor_core.TNLinearOperator(linop_tens,left_inds=lix,right_inds=rix,optimize='auto-hq')"
   ]
  },
  {
   "cell_type": "code",
   "execution_count": 4,
   "metadata": {},
   "outputs": [],
   "source": [
    "#Loading the data ( half of the system)\n",
    "folder='DATA/new_data02_L6/'\n",
    "with open(folder+'sca_xs.pkl', 'rb') as file:\n",
    "    sca_xs = pickle.load(file)\n",
    "with open(folder+'sca_zs.pkl', 'rb') as file:\n",
    "    sca_zs = pickle.load(file)\n",
    "with open(folder+'scd_xs.pkl', 'rb') as file:\n",
    "    scd_xs = pickle.load(file)\n",
    "with open(folder+'scd_zs.pkl', 'rb') as file:\n",
    "    scd_zs = pickle.load(file)\n",
    "\n",
    "#Mirror the data to get the full system\n",
    "sca_xs_mirrored = [mirror_mpo(sca_x) for sca_x in reversed(sca_xs)]\n",
    "sca_zs_mirrored = [mirror_mpo(sca_z) for sca_z in reversed(sca_zs)]\n",
    "scd_xs_mirrored = [mirror_mpo(scd_x) for scd_x in reversed(scd_xs)]\n",
    "scd_zs_mirrored = [mirror_mpo(scd_z) for scd_z in reversed(scd_zs)]\n",
    "\n",
    "scas=sca_xs+sca_xs_mirrored+sca_zs+sca_zs_mirrored\n",
    "scds=scd_xs+scd_xs_mirrored+scd_zs+scd_zs_mirrored\n",
    "L=scas[0].L\n",
    "\n"
   ]
  },
  {
   "cell_type": "code",
   "execution_count": 5,
   "metadata": {},
   "outputs": [
    {
     "data": {
      "text/plain": [
       "[MatrixProductOperator(tensors=6, indices=17, L=6, max_bond=8),\n",
       " MatrixProductOperator(tensors=6, indices=17, L=6, max_bond=35),\n",
       " MatrixProductOperator(tensors=6, indices=17, L=6, max_bond=55)]"
      ]
     },
     "execution_count": 5,
     "metadata": {},
     "output_type": "execute_result"
    }
   ],
   "source": [
    "scd_zs"
   ]
  },
  {
   "cell_type": "code",
   "execution_count": 6,
   "metadata": {},
   "outputs": [
    {
     "data": {
      "text/plain": [
       "np.float64(1.8515625)"
      ]
     },
     "execution_count": 6,
     "metadata": {},
     "output_type": "execute_result"
    }
   ],
   "source": [
    "sum([np.prod(x.shape) for x in scd_zs[-1]])/2**(2*L)"
   ]
  },
  {
   "cell_type": "code",
   "execution_count": 7,
   "metadata": {},
   "outputs": [
    {
     "name": "stdout",
     "output_type": "stream",
     "text": [
      "6\n"
     ]
    }
   ],
   "source": [
    "h=1.5\n",
    "J=1\n",
    "L=scas[0].L\n",
    "print(L)\n",
    "split_opts={'method':'svd','cutoff':1e-10,'cutoff_mode':'rel','max_bond':100}\n",
    "h2=-J*(qu.pauli('Z') & qu.pauli('I')) & (qu.pauli('Z') & qu.pauli('I'))\n",
    "h1=h*qu.pauli('X') & qu.pauli('I')\n",
    "local_ham = qtn.LocalHam1D(L=L, H2=h2, H1=h1,cyclic=False)\n",
    "def gibbs_mpo(local_ham,tebd_tol,split_opts):\n",
    "    rho0=qtn.MPS_product_state([np.eye(2)]*L)\n",
    "    tebd=qtn.TEBD(rho0,local_ham,imag=True,progbar=False,split_opts=split_opts)\n",
    "    tebd.update_to(.5,tol=tebd_tol)\n",
    "    rho=mps_to_mpo(tebd.pt)\n",
    "    rho=rho*np.sqrt(1/(rho.apply(rho)).trace())\n",
    "    return rho\n",
    "rho0=gibbs_mpo(local_ham,1e-10,split_opts)"
   ]
  },
  {
   "cell_type": "code",
   "execution_count": 8,
   "metadata": {},
   "outputs": [],
   "source": [
    "'''\n",
    " _____\n",
    " |a  |\n",
    "[r*] |\n",
    " |b  |\n",
    "[lm] |\n",
    " |c  |\n",
    "[r]  |\n",
    " |d  |\n",
    "[rm] |\n",
    " |a__|\n",
    "\n",
    "'''\n",
    "\n",
    "'lrud'\n",
    "#initialize the density matrix\n",
    "rho=sca_xs[0].identity().left_canonize()\n",
    "#construct the discriminant: Disc = Sc[A][.]Sc[A]^dag-Sc[D][.]-[.]Sc[D]\n",
    "lscds=[-1*scd.copy() for scd in scds]\n",
    "rscds=[-1*scd.copy() for scd in scds]\n",
    "lscas=[sca.copy() for sca in scas]\n",
    "rscas=[sca.copy() for sca in scas]\n",
    "\n",
    "left_mpos=lscas+lscds+[scds[0].identity()]*len(lscds)\n",
    "right_mpos=rscas+[scds[0].identity()]*len(lscds)+rscds\n",
    "\n",
    "length=rho.L\n",
    "\n",
    "rho=qtn.MatrixProductOperator(rho.arrays, upper_ind_id='c{}', lower_ind_id='d{}', tags='rho',shape='lrud')\n"
   ]
  },
  {
   "cell_type": "code",
   "execution_count": 9,
   "metadata": {},
   "outputs": [
    {
     "data": {
      "text/html": [
       "<samp style='font-size: 12px;'><details><summary><b style=\"color: #b4d24a;\">MatrixProductOperator</b>(tensors=6, indices=17, L=6, max_bond=1)</summary><samp style='font-size: 12px;'><details><summary><b style=\"color: #e55471;\">Tensor</b>(shape=(<b style=\"color: #45ce3d;\">1</b>, <b style=\"color: #828fdd;\">2</b>, <b style=\"color: #828fdd;\">2</b>), inds=[<b style=\"color: #61e27d;\">_2cb129AAFzy</b>, <b style=\"color: #76d854;\">c0</b>, <b style=\"color: #d44934;\">d0</b>], tags={<b style=\"color: #49d276;\">rho</b>, <b style=\"color: #d2b137;\">I0</b>}),</summary>backend=<b style=\"color: #7fdd73;\">numpy</b>, dtype=<b style=\"color: #443ce1;\">complex128</b>, data=array([[[ 0.48127754-0.74736452j,  0.63522344+0.38859376j],\n",
       "        [-0.7347806 +0.18177961j, -0.11949683-1.27450871j]]])</details></samp><samp style='font-size: 12px;'><details><summary><b style=\"color: #e55471;\">Tensor</b>(shape=(<b style=\"color: #45ce3d;\">1</b>, <b style=\"color: #45ce3d;\">1</b>, <b style=\"color: #828fdd;\">2</b>, <b style=\"color: #828fdd;\">2</b>), inds=[<b style=\"color: #61e27d;\">_2cb129AAFzy</b>, <b style=\"color: #d8d66c;\">_2cb129AAFzz</b>, <b style=\"color: #cf39a0;\">c1</b>, <b style=\"color: #d956d0;\">d1</b>], tags={<b style=\"color: #49d276;\">rho</b>, <b style=\"color: #d19b78;\">I1</b>}),</summary>backend=<b style=\"color: #7fdd73;\">numpy</b>, dtype=<b style=\"color: #443ce1;\">complex128</b>, data=array([[[[ 0.24709736+1.43820244j,  2.73651585+0.23334765j],\n",
       "         [ 0.29997926+0.83417491j, -1.73987414+1.90891747j]]]])</details></samp><samp style='font-size: 12px;'><details><summary><b style=\"color: #e55471;\">Tensor</b>(shape=(<b style=\"color: #45ce3d;\">1</b>, <b style=\"color: #45ce3d;\">1</b>, <b style=\"color: #828fdd;\">2</b>, <b style=\"color: #828fdd;\">2</b>), inds=[<b style=\"color: #d8d66c;\">_2cb129AAFzz</b>, <b style=\"color: #e1bf38;\">_2cb129AAGAA</b>, <b style=\"color: #3373dc;\">c2</b>, <b style=\"color: #e09ad6;\">d2</b>], tags={<b style=\"color: #49d276;\">rho</b>, <b style=\"color: #dd5dd7;\">I2</b>}),</summary>backend=<b style=\"color: #7fdd73;\">numpy</b>, dtype=<b style=\"color: #443ce1;\">complex128</b>, data=array([[[[-1.24447179-0.54687576j, -0.10173914+1.84763305j],\n",
       "         [ 0.09623759-0.22187017j, -0.61235831-0.10798822j]]]])</details></samp><samp style='font-size: 12px;'><details><summary><b style=\"color: #e55471;\">Tensor</b>(shape=(<b style=\"color: #45ce3d;\">1</b>, <b style=\"color: #45ce3d;\">1</b>, <b style=\"color: #828fdd;\">2</b>, <b style=\"color: #828fdd;\">2</b>), inds=[<b style=\"color: #e1bf38;\">_2cb129AAGAA</b>, <b style=\"color: #e3be82;\">_2cb129AAGAB</b>, <b style=\"color: #92dcd0;\">c3</b>, <b style=\"color: #a78edf;\">d3</b>], tags={<b style=\"color: #49d276;\">rho</b>, <b style=\"color: #dd65d9;\">I3</b>}),</summary>backend=<b style=\"color: #7fdd73;\">numpy</b>, dtype=<b style=\"color: #443ce1;\">complex128</b>, data=array([[[[-0.41946241-0.34418882j, -0.23286662-0.92468195j],\n",
       "         [-0.31211095+1.54732829j, -0.96377527-0.20910403j]]]])</details></samp><samp style='font-size: 12px;'><details><summary><b style=\"color: #e55471;\">Tensor</b>(shape=(<b style=\"color: #45ce3d;\">1</b>, <b style=\"color: #45ce3d;\">1</b>, <b style=\"color: #828fdd;\">2</b>, <b style=\"color: #828fdd;\">2</b>), inds=[<b style=\"color: #e3be82;\">_2cb129AAGAB</b>, <b style=\"color: #d29b7e;\">_2cb129AAGAC</b>, <b style=\"color: #e18dac;\">c4</b>, <b style=\"color: #cc70c3;\">d4</b>], tags={<b style=\"color: #49d276;\">rho</b>, <b style=\"color: #998ad1;\">I4</b>}),</summary>backend=<b style=\"color: #7fdd73;\">numpy</b>, dtype=<b style=\"color: #443ce1;\">complex128</b>, data=array([[[[-0.43560805+0.09870073j,  1.62370054-0.93244813j],\n",
       "         [ 0.31472799-1.84995142j,  0.02451936+0.19893936j]]]])</details></samp><samp style='font-size: 12px;'><details><summary><b style=\"color: #e55471;\">Tensor</b>(shape=(<b style=\"color: #45ce3d;\">1</b>, <b style=\"color: #828fdd;\">2</b>, <b style=\"color: #828fdd;\">2</b>), inds=[<b style=\"color: #d29b7e;\">_2cb129AAGAC</b>, <b style=\"color: #80a1e5;\">c5</b>, <b style=\"color: #8acfce;\">d5</b>], tags={<b style=\"color: #49d276;\">rho</b>, <b style=\"color: #97dddc;\">I5</b>}),</summary>backend=<b style=\"color: #7fdd73;\">numpy</b>, dtype=<b style=\"color: #443ce1;\">complex128</b>, data=array([[[-0.08649471-0.62089378j, -0.8020722 +0.99024662j],\n",
       "        [-0.42534641+0.36529496j, -0.01947641-0.32680314j]]])</details></samp></details></samp>"
      ],
      "text/plain": [
       "MatrixProductOperator(tensors=6, indices=17, L=6, max_bond=1)"
      ]
     },
     "execution_count": 9,
     "metadata": {},
     "output_type": "execute_result"
    }
   ],
   "source": [
    "rho.randomize()"
   ]
  },
  {
   "cell_type": "code",
   "execution_count": 10,
   "metadata": {},
   "outputs": [],
   "source": [
    "rho_conj=get_rho_conj(rho) \n",
    "\n",
    "new_left_mpos=[]\n",
    "new_right_mpos=[]\n",
    "for i in range(len(left_mpos)):\n",
    "    left_mpo=qtn.MatrixProductOperator(left_mpos[i].arrays, upper_ind_id='b{}', lower_ind_id='c{}', tags='lmpo',shape='lrud')\n",
    "    right_mpo=qtn.MatrixProductOperator(right_mpos[i].arrays, upper_ind_id='d{}', lower_ind_id='a{}', tags='rmpo',shape='lrud')\n",
    "    new_left_mpos.append(left_mpo)\n",
    "    new_right_mpos.append(right_mpo)\n",
    "right_mpos=new_right_mpos\n",
    "left_mpos=new_left_mpos\n"
   ]
  },
  {
   "cell_type": "code",
   "execution_count": 11,
   "metadata": {},
   "outputs": [],
   "source": [
    "\n",
    "new_left_mpos=[]\n",
    "new_right_mpos=[]\n",
    "for i in range(len(left_mpos)):\n",
    "    left_mpo=qtn.MatrixProductOperator(left_mpos[i].arrays, upper_ind_id='b{}', lower_ind_id='c{}', tags='lmpo',shape='lrud')\n",
    "    right_mpo=qtn.MatrixProductOperator(right_mpos[i].arrays, upper_ind_id='d{}', lower_ind_id='a{}', tags='rmpo',shape='lrud')\n",
    "    new_left_mpos.append(left_mpo)\n",
    "    new_right_mpos.append(right_mpo)\n",
    "right_mpos=new_right_mpos\n",
    "left_mpos=new_left_mpos\n"
   ]
  },
  {
   "cell_type": "code",
   "execution_count": 12,
   "metadata": {},
   "outputs": [],
   "source": [
    "menvs=[]\n",
    "for k in range(len(left_mpos)):\n",
    "    full_network=qtn.TensorNetwork1D((rho,rho_conj,left_mpos[k],right_mpos[k]))\n",
    "    full_network._L=rho.L\n",
    "    full_network._site_tag_id='I{}'\n",
    "    menvs.append(qtn.tensor_dmrg.MovingEnvironment(full_network,begin='right',bsz=2))"
   ]
  },
  {
   "cell_type": "markdown",
   "metadata": {},
   "source": [
    "i=0\n",
    "v0 = (rho[f'I{i}'] & rho[f'I{i+1}']) # get the double site to optimize\n",
    "v0c=v0.contract()\n",
    "# get the indicies of the linear operator\n",
    "rix = v0c.inds\n",
    "lix = (rho_conj[f'I{i}'] & rho_conj[f'I{i+1}']).outer_inds() \n",
    "v_shape=v0c.shape\n",
    "#get all the linear operators from the left and tight mpos\n",
    "for j,menv in enumerate(menvs):\n",
    "    menv.move_to(i)\n",
    "    curnet = menv()\n",
    "    linop_tens=[curnet['lmpo',f'I{i}'],\n",
    "                curnet['lmpo',f'I{i+1}'],\n",
    "                curnet['rmpo',f'I{i}'],\n",
    "                curnet['rmpo',f'I{i+1}'],\n",
    "                curnet['_LEFT'],\n",
    "                curnet['_RIGHT']]\n",
    "    if j==0:\n",
    "        linop=qtn.tensor_core.TNLinearOperator(linop_tens,left_inds=lix,right_inds=rix,optimize='auto-hq')\n",
    "        tn=qtn.tensor_core.TensorNetwork(linop_tens).contract()\n",
    "    else:\n",
    "        linop+=qtn.tensor_core.TNLinearOperator(linop_tens,left_inds=lix,right_inds=rix,optimize='auto-hq')\n",
    "        tn+=qtn.tensor_core.TensorNetwork(linop_tens).contract()\n",
    "        \n",
    "    mat=tn.transpose(*lix,*rix).data.reshape(np.prod(v_shape),np.prod(v_shape))\n"
   ]
  },
  {
   "cell_type": "markdown",
   "metadata": {},
   "source": [
    "\n",
    "#find the eigenvector of the full linear operator\n",
    "_,evecs=spla.eigsh(linop,k=1,which=which_eval,v0=v0c.data.reshape(-1),tol=10**(-5))\n",
    "#split the linear operator into two sites\n",
    "combined_sites=qtn.Tensor(evecs.T[0].reshape(v_shape),inds=rix)\n",
    "if i==rho.L-2:\n",
    "    split_inds=rix[:int(len(rix)/2+0.5)]\n",
    "else:\n",
    "    split_inds=rix[:int(len(rix)/2)]\n",
    "new_sites=combined_sites.split(left_inds=split_inds,\n",
    "                               absorb='right',\n",
    "                               rtags=['rho',f'I{i+1}'],\n",
    "                               ltags=['rho',f'I{i}'],\n",
    "                               bond_ind=v0.inner_inds()[0],\n",
    "                               **split_opts)\n",
    "new_rho1=new_sites.tensors[0]\n",
    "new_rho2=new_sites.tensors[1]\n",
    "#replace the sites in the density mpo rho\n",
    "rho[f'I{i}']=new_rho1.transpose(*rho[f'I{i}'].inds)\n",
    "rho[f'I{i+1}']=new_rho2.transpose(*rho[f'I{i+1}'].inds)\n",
    "rho_conj=get_rho_conj(rho)\n",
    "#update the menvs\n",
    "menvs=[]\n",
    "for k in range(len(left_mpos)):\n",
    "    full_network=qtn.TensorNetwork1D((rho,rho_conj,left_mpos[k],right_mpos[k]))\n",
    "    full_network._L=rho.L\n",
    "    full_network._site_tag_id='I{}'\n",
    "    menvs.append(qtn.tensor_dmrg.MovingEnvironment(full_network,begin='left',bsz=2))"
   ]
  },
  {
   "cell_type": "code",
   "execution_count": 13,
   "metadata": {},
   "outputs": [
    {
     "name": "stdout",
     "output_type": "stream",
     "text": [
      "\n",
      "right_sweep:  0\n",
      "0%|□□□□□□□□□□□□□□□□□□□□|0.3442735206317318\n",
      "25%|■■■■■□□□□□□□□□□□□□□□|(0.47990501947162156-3.2459607167847068e-12j)\n",
      "50%|■■■■■■■■■■□□□□□□□□□□|(2.978920278853825e-12+2.9563023903889096e-11j)\n",
      "75%|■■■■■■■■■■■■■■■□□□□□|(5.422719565051359e-13+5.399507230219314e-12j)\n",
      "\n",
      "left_sweep:  0\n",
      "100%|■■■■■■■■■■■■■■■■■■■■|(4.099255657141754e-13+4.092053085269498e-12j)\n",
      "75%|■■■■■■■■■■■■■■■□□□□□|(3.588525922747637e-13+3.5920916996903175e-12j)\n",
      "50%|■■■■■■■■■■□□□□□□□□□□|(3.195443932921102e-13+3.1986022281624934e-12j)\n",
      "25%|■■■■■□□□□□□□□□□□□□□□|(2.681633195077386e-13+2.683423793711246e-12j)\n",
      "\n",
      " -0.2568201055995988\n",
      "\n",
      "right_sweep:  1\n",
      "0%|□□□□□□□□□□□□□□□□□□□□|(1.224229787087701e-13+1.2138134045455574e-12j)\n",
      "25%|■■■■■□□□□□□□□□□□□□□□|(1.22192240069641e-13+1.2113018667503118e-12j)\n",
      "50%|■■■■■■■■■■□□□□□□□□□□|(1.2130865890606735e-13+1.2028365605784386e-12j)\n",
      "75%|■■■■■■■■■■■■■■■□□□□□|(1.2379348979485558e-13+1.2307488002088854e-12j)\n",
      "\n",
      "left_sweep:  1\n",
      "100%|■■■■■■■■■■■■■■■■■■■■|(1.2199608892970798e-13+1.2145804890766258e-12j)\n",
      "75%|■■■■■■■■■■■■■■■□□□□□|(2.1858122588127579e-13+1.1942343494685065e-12j)\n",
      "50%|■■■■■■■■■■□□□□□□□□□□|(2.185737930799296e-13+1.1942519020294832e-12j)\n",
      "25%|■■■■■□□□□□□□□□□□□□□□|(2.1860536643707383e-13+1.193925444633999e-12j)\n",
      "\n",
      " -0.24010481461998415\n",
      "\n",
      "right_sweep:  2\n",
      "0%|□□□□□□□□□□□□□□□□□□□□|(2.1851450855895285e-13+1.1935426131272946e-12j)\n",
      "25%|■■■■■□□□□□□□□□□□□□□□|(2.1849957136625816e-13+1.1937828727370435e-12j)\n",
      "50%|■■■■■■■■■■□□□□□□□□□□|(2.1855066617256019e-13+1.193818217417024e-12j)\n",
      "75%|■■■■■■■■■■■■■■■□□□□□|(2.1860324776752198e-13+1.1934094735998928e-12j)\n",
      "\n",
      "left_sweep:  2\n",
      "100%|■■■■■■■■■■■■■■■■■■■■|(2.1857269126008206e-13+1.1938097703451158e-12j)\n",
      "75%|■■■■■■■■■■■■■■■□□□□□|(2.186324363323304e-13+1.1938746342898757e-12j)\n",
      "50%|■■■■■■■■■■□□□□□□□□□□|(2.1857733173895748e-13+1.1937689244331234e-12j)\n",
      "25%|■■■■■□□□□□□□□□□□□□□□|(2.1849509486833998e-13+1.1941926299376053e-12j)\n",
      "\n",
      " -0.24009857724328879\n",
      "\n",
      "right_sweep:  3\n",
      "0%|□□□□□□□□□□□□□□□□□□□□|(2.1844267368910746e-13+1.1931216550479475e-12j)\n",
      "25%|■■■■■□□□□□□□□□□□□□□□|(2.1851436655452037e-13+1.1935656358384832e-12j)\n",
      "50%|■■■■■■■■■■□□□□□□□□□□|(2.1867623793592394e-13+1.1943863768838397e-12j)\n",
      "75%|■■■■■■■■■■■■■■■□□□□□|(2.186112129182169e-13+1.1939868483899091e-12j)\n",
      "\n",
      "left_sweep:  3\n",
      "100%|■■■■■■■■■■■■■■■■■■■■|(2.1865680359084367e-13+1.1940711991510767e-12j)\n",
      "75%|■■■■■■■■■■■■■■■□□□□□|(2.1857959933820289e-13+1.1937471673917456e-12j)\n",
      "50%|■■■■■■■■■■□□□□□□□□□□|(2.1853997174779155e-13+1.1935895243956615e-12j)\n",
      "25%|■■■■■□□□□□□□□□□□□□□□|(2.1853362916234924e-13+1.1936195568083466e-12j)\n",
      "\n",
      " -0.2400985759516535\n"
     ]
    }
   ],
   "source": [
    "which_eval='LA'\n",
    "n=0\n",
    "N=4\n",
    "while n<N:\n",
    "    tol=10**(-2*n-1)\n",
    "    split_opts = {'method': 'svd','cutoff_mode':'abs', 'max_bond': 100, 'cutoff': tol}\n",
    "    print('\\nright_sweep: ',n)\n",
    "    \n",
    "    for i in range(rho.L-2):\n",
    "        progress_bar(i,rho.L-1)\n",
    "        v0 = (rho[f'I{i}'] & rho[f'I{i+1}']) # get the double site to optimize\n",
    "        v0c=v0.contract()\n",
    "        # get the indicies of the linear operator\n",
    "        rix = v0c.inds\n",
    "        lix = (rho_conj[f'I{i}'] & rho_conj[f'I{i+1}']).outer_inds() \n",
    "        v_shape=v0c.shape\n",
    "        #get all the linear operators from the left and tight mpos\n",
    "        linop=-1*project_out(rho,rho_conj,rho0,i,lix,rix)\n",
    "        for j,menv in enumerate(menvs):\n",
    "            menv.move_to(i)\n",
    "            curnet = menv()\n",
    "            linop_tens=[curnet['lmpo',f'I{i}'],\n",
    "                        curnet['lmpo',f'I{i+1}'],\n",
    "                        curnet['rmpo',f'I{i}'],\n",
    "                        curnet['rmpo',f'I{i+1}'],\n",
    "                        curnet['_LEFT'],\n",
    "                        curnet['_RIGHT']]\n",
    "            linop+=qtn.tensor_core.TNLinearOperator(linop_tens,left_inds=lix,right_inds=rix,optimize='auto-hq')\n",
    "            '''\n",
    "            if j==0:\n",
    "                linop=qtn.tensor_core.TNLinearOperator(linop_tens,left_inds=lix,right_inds=rix,optimize='auto-hq')\n",
    "            else:\n",
    "                linop+=qtn.tensor_core.TNLinearOperator(linop_tens,left_inds=lix,right_inds=rix,optimize='auto-hq')\n",
    "            '''\n",
    "        #find the eigenvector of the full linear operator\n",
    "        _,evecs=spla.eigsh(linop,k=1,which=which_eval,v0=v0c.data.reshape(-1),tol=tol)\n",
    "        #_,evecs=spla.lobpcg(linop,largest=True,X=v0c.data.reshape(-1,1),tol=10**(-3))\n",
    "        #split the linear operator into two sites\n",
    "        res_vec=evecs.T[0]\n",
    "        combined_sites=qtn.Tensor(res_vec.reshape(v_shape),inds=rix)\n",
    "        \n",
    "        if i==rho.L-2:\n",
    "            split_inds=rix[:int(len(rix)/2+0.5)]\n",
    "        else:\n",
    "            split_inds=rix[:int(len(rix)/2)]\n",
    "        new_sites=combined_sites.split(left_inds=split_inds,\n",
    "                                    absorb='right',\n",
    "                                    rtags=['rho',f'I{i+1}'],\n",
    "                                    ltags=['rho',f'I{i}'],\n",
    "                                    bond_ind=v0.inner_inds()[0],\n",
    "                                    **split_opts)\n",
    "        new_rho1=new_sites.tensors[0]\n",
    "        new_rho2=new_sites.tensors[1]\n",
    "        #replace the sites in the density mpo rho\n",
    "        rho[f'I{i}']=new_rho1.transpose(*rho[f'I{i}'].inds)\n",
    "        rho[f'I{i+1}']=new_rho2.transpose(*rho[f'I{i+1}'].inds)\n",
    "        rho_conj=get_rho_conj(rho)\n",
    "        #update the menvs\n",
    "        menvs=[]\n",
    "        for k in range(len(left_mpos)):\n",
    "            full_network=qtn.TensorNetwork1D((rho,rho_conj,left_mpos[k],right_mpos[k]))\n",
    "            full_network._L=rho.L\n",
    "            full_network._site_tag_id='I{}'\n",
    "            menvs.append(qtn.tensor_dmrg.MovingEnvironment(full_network,begin='left',bsz=2))\n",
    "    print('\\nleft_sweep: ',n) \n",
    "    for i in reversed(list(range(1,rho.L-1))):\n",
    "        progress_bar(i,rho.L-1)\n",
    "        v0 = (rho[f'I{i}'] & rho[f'I{i+1}']) # get the double site to optimize\n",
    "        v0c=v0.contract()\n",
    "        # get the indicies of the linear operator\n",
    "        rix = v0c.inds\n",
    "        lix = (rho_conj[f'I{i}'] & rho_conj[f'I{i+1}']).outer_inds() \n",
    "        v_shape=v0c.shape\n",
    "        linop=-1*project_out(rho,rho_conj,rho0,i,lix,rix)\n",
    "        for j,menv in enumerate(menvs):\n",
    "            menv.move_to(i)\n",
    "            curnet = menv()\n",
    "            linop_tens=[curnet['lmpo',f'I{i}'],\n",
    "                        curnet['lmpo',f'I{i+1}'],\n",
    "                        curnet['rmpo',f'I{i}'],\n",
    "                        curnet['rmpo',f'I{i+1}'],\n",
    "                        curnet['_LEFT'],\n",
    "                        curnet['_RIGHT']]\n",
    "            linop+=qtn.tensor_core.TNLinearOperator(linop_tens,left_inds=lix,right_inds=rix,optimize='auto-hq')\n",
    "            '''\n",
    "            if j==0:\n",
    "                linop=qtn.tensor_core.TNLinearOperator(linop_tens,left_inds=lix,right_inds=rix,optimize='auto-hq')\n",
    "            else:\n",
    "                linop+=qtn.tensor_core.TNLinearOperator(linop_tens,left_inds=lix,right_inds=rix,optimize='auto-hq')\n",
    "            '''\n",
    "        \n",
    "        _,evecs=spla.eigsh(linop,k=1,which=which_eval,v0=v0c.data.reshape(-1),tol=tol)\n",
    "        #_,evecs=spla.lobpcg(linop,largest=True,X=v0c.data.reshape(-1,1),tol=10**(-3))\n",
    "        #evecs= qu.linalg.base_linalg.eigvecsh()\n",
    "        res_vec=evecs.T[0]\n",
    "        combined_sites=qtn.Tensor(res_vec.reshape(v_shape),inds=rix)\n",
    "        if i==rho.L-2:\n",
    "            split_inds=rix[:int(len(rix)/2+0.5)]\n",
    "        else:\n",
    "            split_inds=rix[:int(len(rix)/2)]\n",
    "        new_sites=combined_sites.split(left_inds=split_inds,absorb='left',rtags=[f'I{i+1}','rho'],ltags=[f'I{i}','rho'],bond_ind=v0.inner_inds()[0],**split_opts)\n",
    "        new_rho1=new_sites.tensors[0]\n",
    "        new_rho2=new_sites.tensors[1]\n",
    "        rho[f'I{i}']=new_rho1.transpose(*rho[f'I{i}'].inds)\n",
    "        rho[f'I{i+1}']=new_rho2.transpose(*rho[f'I{i+1}'].inds)\n",
    "        rho_conj=get_rho_conj(rho)\n",
    "        menvs=[]\n",
    "        for k in range(len(left_mpos)):\n",
    "            trace=rho.trace()\n",
    "            full_network=qtn.TensorNetwork1D((rho,rho_conj,left_mpos[k],right_mpos[k]))\n",
    "            full_network._L=rho.L\n",
    "            full_network._site_tag_id='I{}'\n",
    "            menvs.append(qtn.tensor_dmrg.MovingEnvironment(full_network,begin='right',bsz=2))\n",
    "    eval=sum([menv().contract(all) for menv in menvs])\n",
    "    print('\\n',eval)\n",
    "    n+=1\n"
   ]
  },
  {
   "cell_type": "code",
   "execution_count": null,
   "metadata": {},
   "outputs": [
    {
     "data": {
      "text/plain": [
       "[-0.2881276519371354]"
      ]
     },
     "execution_count": 14,
     "metadata": {},
     "output_type": "execute_result"
    }
   ],
   "source": [
    "[-0.2881276519371354, -0.2400985759516535,-0.218154438689567]"
   ]
  },
  {
   "cell_type": "code",
   "execution_count": null,
   "metadata": {},
   "outputs": [
    {
     "data": {
      "text/plain": [
       "np.float64(1.3643463975428007)"
      ]
     },
     "execution_count": 15,
     "metadata": {},
     "output_type": "execute_result"
    }
   ],
   "source": [
    "np.linalg.norm(rho0.to_dense()-rho.to_dense(),ord=2)/np.linalg.norm(rho0.to_dense(),ord=2)"
   ]
  },
  {
   "cell_type": "code",
   "execution_count": 16,
   "metadata": {},
   "outputs": [
    {
     "ename": "SystemError",
     "evalue": "CPUDispatcher(<function qr_stabilized_numba at 0x7f27c39d3a60>) returned a result with an exception set",
     "output_type": "error",
     "traceback": [
      "\u001b[0;31m---------------------------------------------------------------------------\u001b[0m",
      "\u001b[0;31mKeyboardInterrupt\u001b[0m                         Traceback (most recent call last)",
      "File \u001b[0;32m~/miniconda3/envs/gibbssampler/lib/python3.12/site-packages/numba/core/serialize.py:30\u001b[0m, in \u001b[0;36m_numba_unpickle\u001b[0;34m(address, bytedata, hashed)\u001b[0m\n\u001b[1;32m     27\u001b[0m _unpickled_memo \u001b[38;5;241m=\u001b[39m {}\n\u001b[0;32m---> 30\u001b[0m \u001b[38;5;28;01mdef\u001b[39;00m\u001b[38;5;250m \u001b[39m\u001b[38;5;21m_numba_unpickle\u001b[39m(address, bytedata, hashed):\n\u001b[1;32m     31\u001b[0m \u001b[38;5;250m    \u001b[39m\u001b[38;5;124;03m\"\"\"Used by `numba_unpickle` from _helperlib.c\u001b[39;00m\n\u001b[1;32m     32\u001b[0m \n\u001b[1;32m     33\u001b[0m \u001b[38;5;124;03m    Parameters\u001b[39;00m\n\u001b[0;32m   (...)\u001b[0m\n\u001b[1;32m     42\u001b[0m \u001b[38;5;124;03m        unpickled object\u001b[39;00m\n\u001b[1;32m     43\u001b[0m \u001b[38;5;124;03m    \"\"\"\u001b[39;00m\n",
      "\u001b[0;31mKeyboardInterrupt\u001b[0m: ",
      "\nThe above exception was the direct cause of the following exception:\n",
      "\u001b[0;31mSystemError\u001b[0m                               Traceback (most recent call last)",
      "\u001b[0;31mSystemError\u001b[0m: <function _numba_unpickle at 0x7f27dd3bdd00> returned a result with an exception set",
      "\nThe above exception was the direct cause of the following exception:\n",
      "\u001b[0;31mSystemError\u001b[0m                               Traceback (most recent call last)",
      "Cell \u001b[0;32mIn[16], line 7\u001b[0m\n\u001b[1;32m      5\u001b[0m res\u001b[38;5;241m=\u001b[39mpar\u001b[38;5;241m.\u001b[39mapply(right_mpos[\u001b[38;5;241m0\u001b[39m],compress\u001b[38;5;241m=\u001b[39m\u001b[38;5;28;01mTrue\u001b[39;00m)\n\u001b[1;32m      6\u001b[0m \u001b[38;5;28;01mfor\u001b[39;00m left_mpo,right_mpo \u001b[38;5;129;01min\u001b[39;00m \u001b[38;5;28mzip\u001b[39m(left_mpos[\u001b[38;5;241m1\u001b[39m:],right_mpos[\u001b[38;5;241m1\u001b[39m:]):\n\u001b[0;32m----> 7\u001b[0m     par\u001b[38;5;241m=\u001b[39m\u001b[43mleft_mpo\u001b[49m\u001b[38;5;241;43m.\u001b[39;49m\u001b[43mapply\u001b[49m\u001b[43m(\u001b[49m\u001b[43mrho\u001b[49m\u001b[43m,\u001b[49m\u001b[43mcompress\u001b[49m\u001b[38;5;241;43m=\u001b[39;49m\u001b[38;5;28;43;01mTrue\u001b[39;49;00m\u001b[43m)\u001b[49m\n\u001b[1;32m      8\u001b[0m     res\u001b[38;5;241m+\u001b[39m\u001b[38;5;241m=\u001b[39mpar\u001b[38;5;241m.\u001b[39mapply(right_mpo,compress\u001b[38;5;241m=\u001b[39m\u001b[38;5;28;01mTrue\u001b[39;00m)\n",
      "File \u001b[0;32m~/miniconda3/envs/gibbssampler/lib/python3.12/site-packages/quimb/tensor/tensor_1d.py:4181\u001b[0m, in \u001b[0;36mMatrixProductOperator.apply\u001b[0;34m(self, other, compress, **compress_opts)\u001b[0m\n\u001b[1;32m   4179\u001b[0m     \u001b[38;5;28;01mreturn\u001b[39;00m \u001b[38;5;28mself\u001b[39m\u001b[38;5;241m.\u001b[39m_apply_mps(other, compress\u001b[38;5;241m=\u001b[39mcompress, \u001b[38;5;241m*\u001b[39m\u001b[38;5;241m*\u001b[39mcompress_opts)\n\u001b[1;32m   4180\u001b[0m \u001b[38;5;28;01melif\u001b[39;00m \u001b[38;5;28misinstance\u001b[39m(other, MatrixProductOperator):\n\u001b[0;32m-> 4181\u001b[0m     \u001b[38;5;28;01mreturn\u001b[39;00m \u001b[38;5;28;43mself\u001b[39;49m\u001b[38;5;241;43m.\u001b[39;49m\u001b[43m_apply_mpo\u001b[49m\u001b[43m(\u001b[49m\u001b[43mother\u001b[49m\u001b[43m,\u001b[49m\u001b[43m \u001b[49m\u001b[43mcompress\u001b[49m\u001b[38;5;241;43m=\u001b[39;49m\u001b[43mcompress\u001b[49m\u001b[43m,\u001b[49m\u001b[43m \u001b[49m\u001b[38;5;241;43m*\u001b[39;49m\u001b[38;5;241;43m*\u001b[39;49m\u001b[43mcompress_opts\u001b[49m\u001b[43m)\u001b[49m\n\u001b[1;32m   4182\u001b[0m \u001b[38;5;28;01melse\u001b[39;00m:\n\u001b[1;32m   4183\u001b[0m     \u001b[38;5;28;01mraise\u001b[39;00m \u001b[38;5;167;01mTypeError\u001b[39;00m(\n\u001b[1;32m   4184\u001b[0m         \u001b[38;5;124m\"\u001b[39m\u001b[38;5;124mCan only Dot with a MatrixProductOperator or a \u001b[39m\u001b[38;5;124m\"\u001b[39m\n\u001b[1;32m   4185\u001b[0m         \u001b[38;5;124mf\u001b[39m\u001b[38;5;124m\"\u001b[39m\u001b[38;5;124mMatrixProductState, got \u001b[39m\u001b[38;5;132;01m{\u001b[39;00m\u001b[38;5;28mtype\u001b[39m(other)\u001b[38;5;132;01m}\u001b[39;00m\u001b[38;5;124m\"\u001b[39m\n\u001b[1;32m   4186\u001b[0m     )\n",
      "File \u001b[0;32m~/miniconda3/envs/gibbssampler/lib/python3.12/site-packages/quimb/tensor/tensor_1d.py:4123\u001b[0m, in \u001b[0;36mMatrixProductOperator._apply_mpo\u001b[0;34m(self, other, compress, contract, **compress_opts)\u001b[0m\n\u001b[1;32m   4120\u001b[0m \u001b[38;5;28;01mdef\u001b[39;00m\u001b[38;5;250m \u001b[39m\u001b[38;5;21m_apply_mpo\u001b[39m(\n\u001b[1;32m   4121\u001b[0m     \u001b[38;5;28mself\u001b[39m, other, compress\u001b[38;5;241m=\u001b[39m\u001b[38;5;28;01mFalse\u001b[39;00m, contract\u001b[38;5;241m=\u001b[39m\u001b[38;5;28;01mTrue\u001b[39;00m, \u001b[38;5;241m*\u001b[39m\u001b[38;5;241m*\u001b[39mcompress_opts\n\u001b[1;32m   4122\u001b[0m ):\n\u001b[0;32m-> 4123\u001b[0m     \u001b[38;5;28;01mreturn\u001b[39;00m \u001b[43mtensor_network_apply_op_op\u001b[49m\u001b[43m(\u001b[49m\n\u001b[1;32m   4124\u001b[0m \u001b[43m        \u001b[49m\u001b[43mA\u001b[49m\u001b[38;5;241;43m=\u001b[39;49m\u001b[38;5;28;43mself\u001b[39;49m\u001b[43m,\u001b[49m\n\u001b[1;32m   4125\u001b[0m \u001b[43m        \u001b[49m\u001b[43mB\u001b[49m\u001b[38;5;241;43m=\u001b[39;49m\u001b[43mother\u001b[49m\u001b[43m,\u001b[49m\n\u001b[1;32m   4126\u001b[0m \u001b[43m        \u001b[49m\u001b[43mcontract\u001b[49m\u001b[38;5;241;43m=\u001b[39;49m\u001b[43mcontract\u001b[49m\u001b[43m,\u001b[49m\n\u001b[1;32m   4127\u001b[0m \u001b[43m        \u001b[49m\u001b[43mcompress\u001b[49m\u001b[38;5;241;43m=\u001b[39;49m\u001b[43mcompress\u001b[49m\u001b[43m,\u001b[49m\n\u001b[1;32m   4128\u001b[0m \u001b[43m        \u001b[49m\u001b[38;5;241;43m*\u001b[39;49m\u001b[38;5;241;43m*\u001b[39;49m\u001b[43mcompress_opts\u001b[49m\u001b[43m,\u001b[49m\n\u001b[1;32m   4129\u001b[0m \u001b[43m    \u001b[49m\u001b[43m)\u001b[49m\n",
      "File \u001b[0;32m~/miniconda3/envs/gibbssampler/lib/python3.12/site-packages/quimb/tensor/tensor_arbgeom.py:306\u001b[0m, in \u001b[0;36mtensor_network_apply_op_op\u001b[0;34m(A, B, which_A, which_B, contract, fuse_multibonds, compress, inplace, inplace_A, **compress_opts)\u001b[0m\n\u001b[1;32m    303\u001b[0m         B\u001b[38;5;241m.\u001b[39mfuse_multibonds_()\n\u001b[1;32m    305\u001b[0m \u001b[38;5;28;01mif\u001b[39;00m compress:\n\u001b[0;32m--> 306\u001b[0m     \u001b[43mB\u001b[49m\u001b[38;5;241;43m.\u001b[39;49m\u001b[43mcompress\u001b[49m\u001b[43m(\u001b[49m\u001b[38;5;241;43m*\u001b[39;49m\u001b[38;5;241;43m*\u001b[39;49m\u001b[43mcompress_opts\u001b[49m\u001b[43m)\u001b[49m\n\u001b[1;32m    308\u001b[0m \u001b[38;5;28;01mreturn\u001b[39;00m B\n",
      "File \u001b[0;32m~/miniconda3/envs/gibbssampler/lib/python3.12/site-packages/quimb/tensor/tensor_1d.py:1244\u001b[0m, in \u001b[0;36mTensorNetwork1DFlat.compress\u001b[0;34m(self, form, **compress_opts)\u001b[0m\n\u001b[1;32m   1241\u001b[0m     \u001b[38;5;28mself\u001b[39m\u001b[38;5;241m.\u001b[39mleft_compress(\u001b[38;5;241m*\u001b[39m\u001b[38;5;241m*\u001b[39mcompress_opts)\n\u001b[1;32m   1243\u001b[0m \u001b[38;5;28;01melif\u001b[39;00m form \u001b[38;5;241m==\u001b[39m \u001b[38;5;124m\"\u001b[39m\u001b[38;5;124mright\u001b[39m\u001b[38;5;124m\"\u001b[39m:\n\u001b[0;32m-> 1244\u001b[0m     \u001b[38;5;28;43mself\u001b[39;49m\u001b[38;5;241;43m.\u001b[39;49m\u001b[43mleft_canonize\u001b[49m\u001b[43m(\u001b[49m\u001b[43mbra\u001b[49m\u001b[38;5;241;43m=\u001b[39;49m\u001b[43mcompress_opts\u001b[49m\u001b[38;5;241;43m.\u001b[39;49m\u001b[43mget\u001b[49m\u001b[43m(\u001b[49m\u001b[38;5;124;43m\"\u001b[39;49m\u001b[38;5;124;43mbra\u001b[39;49m\u001b[38;5;124;43m\"\u001b[39;49m\u001b[43m,\u001b[49m\u001b[43m \u001b[49m\u001b[38;5;28;43;01mNone\u001b[39;49;00m\u001b[43m)\u001b[49m\u001b[43m)\u001b[49m\n\u001b[1;32m   1245\u001b[0m     \u001b[38;5;28mself\u001b[39m\u001b[38;5;241m.\u001b[39mright_compress(\u001b[38;5;241m*\u001b[39m\u001b[38;5;241m*\u001b[39mcompress_opts)\n\u001b[1;32m   1247\u001b[0m \u001b[38;5;28;01melif\u001b[39;00m form \u001b[38;5;241m==\u001b[39m \u001b[38;5;124m\"\u001b[39m\u001b[38;5;124mflat\u001b[39m\u001b[38;5;124m\"\u001b[39m:\n",
      "File \u001b[0;32m~/miniconda3/envs/gibbssampler/lib/python3.12/site-packages/quimb/tensor/tensor_1d.py:870\u001b[0m, in \u001b[0;36mTensorNetwork1DFlat.left_canonicalize\u001b[0;34m(self, stop, start, normalize, bra, inplace)\u001b[0m\n\u001b[1;32m    867\u001b[0m     stop \u001b[38;5;241m=\u001b[39m mps\u001b[38;5;241m.\u001b[39mL \u001b[38;5;241m-\u001b[39m \u001b[38;5;241m1\u001b[39m\n\u001b[1;32m    869\u001b[0m \u001b[38;5;28;01mfor\u001b[39;00m i \u001b[38;5;129;01min\u001b[39;00m \u001b[38;5;28mrange\u001b[39m(start, stop):\n\u001b[0;32m--> 870\u001b[0m     \u001b[43mmps\u001b[49m\u001b[38;5;241;43m.\u001b[39;49m\u001b[43mleft_canonize_site\u001b[49m\u001b[43m(\u001b[49m\u001b[43mi\u001b[49m\u001b[43m,\u001b[49m\u001b[43m \u001b[49m\u001b[43mbra\u001b[49m\u001b[38;5;241;43m=\u001b[39;49m\u001b[43mbra\u001b[49m\u001b[43m)\u001b[49m\n\u001b[1;32m    872\u001b[0m \u001b[38;5;28;01mif\u001b[39;00m normalize:\n\u001b[1;32m    873\u001b[0m     factor \u001b[38;5;241m=\u001b[39m mps[\u001b[38;5;241m-\u001b[39m\u001b[38;5;241m1\u001b[39m]\u001b[38;5;241m.\u001b[39mnorm()\n",
      "File \u001b[0;32m~/miniconda3/envs/gibbssampler/lib/python3.12/site-packages/quimb/tensor/tensor_1d.py:798\u001b[0m, in \u001b[0;36mTensorNetwork1DFlat.left_canonize_site\u001b[0;34m(self, i, bra)\u001b[0m\n\u001b[1;32m    783\u001b[0m \u001b[38;5;250m\u001b[39m\u001b[38;5;124mr\u001b[39m\u001b[38;5;124;03m\"\"\"Left canonize this TN's ith site, inplace::\u001b[39;00m\n\u001b[1;32m    784\u001b[0m \n\u001b[1;32m    785\u001b[0m \u001b[38;5;124;03m        i                i\u001b[39;00m\n\u001b[0;32m   (...)\u001b[0m\n\u001b[1;32m    795\u001b[0m \u001b[38;5;124;03m    If set, also update this TN's data with the conjugate canonization.\u001b[39;00m\n\u001b[1;32m    796\u001b[0m \u001b[38;5;124;03m\"\"\"\u001b[39;00m\n\u001b[1;32m    797\u001b[0m tl, tr \u001b[38;5;241m=\u001b[39m \u001b[38;5;28mself\u001b[39m[i], \u001b[38;5;28mself\u001b[39m[i \u001b[38;5;241m+\u001b[39m \u001b[38;5;241m1\u001b[39m]\n\u001b[0;32m--> 798\u001b[0m \u001b[43mtensor_canonize_bond\u001b[49m\u001b[43m(\u001b[49m\u001b[43mtl\u001b[49m\u001b[43m,\u001b[49m\u001b[43m \u001b[49m\u001b[43mtr\u001b[49m\u001b[43m)\u001b[49m\n\u001b[1;32m    799\u001b[0m \u001b[38;5;28;01mif\u001b[39;00m bra \u001b[38;5;129;01mis\u001b[39;00m \u001b[38;5;129;01mnot\u001b[39;00m \u001b[38;5;28;01mNone\u001b[39;00m:\n\u001b[1;32m    800\u001b[0m     \u001b[38;5;66;03m# TODO: handle left inds\u001b[39;00m\n\u001b[1;32m    801\u001b[0m     bra[i]\u001b[38;5;241m.\u001b[39mmodify(data\u001b[38;5;241m=\u001b[39mconj(tl\u001b[38;5;241m.\u001b[39mdata))\n",
      "File \u001b[0;32m~/miniconda3/envs/gibbssampler/lib/python3.12/functools.py:909\u001b[0m, in \u001b[0;36msingledispatch.<locals>.wrapper\u001b[0;34m(*args, **kw)\u001b[0m\n\u001b[1;32m    905\u001b[0m \u001b[38;5;28;01mif\u001b[39;00m \u001b[38;5;129;01mnot\u001b[39;00m args:\n\u001b[1;32m    906\u001b[0m     \u001b[38;5;28;01mraise\u001b[39;00m \u001b[38;5;167;01mTypeError\u001b[39;00m(\u001b[38;5;124mf\u001b[39m\u001b[38;5;124m'\u001b[39m\u001b[38;5;132;01m{\u001b[39;00mfuncname\u001b[38;5;132;01m}\u001b[39;00m\u001b[38;5;124m requires at least \u001b[39m\u001b[38;5;124m'\u001b[39m\n\u001b[1;32m    907\u001b[0m                     \u001b[38;5;124m'\u001b[39m\u001b[38;5;124m1 positional argument\u001b[39m\u001b[38;5;124m'\u001b[39m)\n\u001b[0;32m--> 909\u001b[0m \u001b[38;5;28;01mreturn\u001b[39;00m \u001b[43mdispatch\u001b[49m\u001b[43m(\u001b[49m\u001b[43margs\u001b[49m\u001b[43m[\u001b[49m\u001b[38;5;241;43m0\u001b[39;49m\u001b[43m]\u001b[49m\u001b[38;5;241;43m.\u001b[39;49m\u001b[38;5;18;43m__class__\u001b[39;49m\u001b[43m)\u001b[49m\u001b[43m(\u001b[49m\u001b[38;5;241;43m*\u001b[39;49m\u001b[43margs\u001b[49m\u001b[43m,\u001b[49m\u001b[43m \u001b[49m\u001b[38;5;241;43m*\u001b[39;49m\u001b[38;5;241;43m*\u001b[39;49m\u001b[43mkw\u001b[49m\u001b[43m)\u001b[49m\n",
      "File \u001b[0;32m~/miniconda3/envs/gibbssampler/lib/python3.12/site-packages/quimb/tensor/tensor_core.py:682\u001b[0m, in \u001b[0;36mtensor_canonize_bond\u001b[0;34m(T1, T2, absorb, gauges, gauge_smudge, **split_opts)\u001b[0m\n\u001b[1;32m    679\u001b[0m     outer, _ \u001b[38;5;241m=\u001b[39m tn\u001b[38;5;241m.\u001b[39mgauge_simple_insert(gauges, smudge\u001b[38;5;241m=\u001b[39mgauge_smudge)\n\u001b[1;32m    680\u001b[0m     gauges\u001b[38;5;241m.\u001b[39mpop(bix, \u001b[38;5;28;01mNone\u001b[39;00m)\n\u001b[0;32m--> 682\u001b[0m new_T1, tRfact \u001b[38;5;241m=\u001b[39m \u001b[43mT1\u001b[49m\u001b[38;5;241;43m.\u001b[39;49m\u001b[43msplit\u001b[49m\u001b[43m(\u001b[49m\u001b[43mlix\u001b[49m\u001b[43m,\u001b[49m\u001b[43m \u001b[49m\u001b[43mget\u001b[49m\u001b[38;5;241;43m=\u001b[39;49m\u001b[38;5;124;43m\"\u001b[39;49m\u001b[38;5;124;43mtensors\u001b[39;49m\u001b[38;5;124;43m\"\u001b[39;49m\u001b[43m,\u001b[49m\u001b[43m \u001b[49m\u001b[38;5;241;43m*\u001b[39;49m\u001b[38;5;241;43m*\u001b[39;49m\u001b[43msplit_opts\u001b[49m\u001b[43m)\u001b[49m\n\u001b[1;32m    683\u001b[0m new_T2 \u001b[38;5;241m=\u001b[39m tRfact \u001b[38;5;241m@\u001b[39m T2\n\u001b[1;32m    685\u001b[0m new_T1\u001b[38;5;241m.\u001b[39mtranspose_like_(T1)\n",
      "File \u001b[0;32m~/miniconda3/envs/gibbssampler/lib/python3.12/site-packages/quimb/tensor/tensor_core.py:2287\u001b[0m, in \u001b[0;36mTensor.split\u001b[0;34m(self, *args, **kwargs)\u001b[0m\n\u001b[1;32m   2285\u001b[0m \u001b[38;5;129m@functools\u001b[39m\u001b[38;5;241m.\u001b[39mwraps(tensor_split)\n\u001b[1;32m   2286\u001b[0m \u001b[38;5;28;01mdef\u001b[39;00m\u001b[38;5;250m \u001b[39m\u001b[38;5;21msplit\u001b[39m(\u001b[38;5;28mself\u001b[39m, \u001b[38;5;241m*\u001b[39margs, \u001b[38;5;241m*\u001b[39m\u001b[38;5;241m*\u001b[39mkwargs):\n\u001b[0;32m-> 2287\u001b[0m     \u001b[38;5;28;01mreturn\u001b[39;00m \u001b[43mtensor_split\u001b[49m\u001b[43m(\u001b[49m\u001b[38;5;28;43mself\u001b[39;49m\u001b[43m,\u001b[49m\u001b[43m \u001b[49m\u001b[38;5;241;43m*\u001b[39;49m\u001b[43margs\u001b[49m\u001b[43m,\u001b[49m\u001b[43m \u001b[49m\u001b[38;5;241;43m*\u001b[39;49m\u001b[38;5;241;43m*\u001b[39;49m\u001b[43mkwargs\u001b[49m\u001b[43m)\u001b[49m\n",
      "File \u001b[0;32m~/miniconda3/envs/gibbssampler/lib/python3.12/functools.py:909\u001b[0m, in \u001b[0;36msingledispatch.<locals>.wrapper\u001b[0;34m(*args, **kw)\u001b[0m\n\u001b[1;32m    905\u001b[0m \u001b[38;5;28;01mif\u001b[39;00m \u001b[38;5;129;01mnot\u001b[39;00m args:\n\u001b[1;32m    906\u001b[0m     \u001b[38;5;28;01mraise\u001b[39;00m \u001b[38;5;167;01mTypeError\u001b[39;00m(\u001b[38;5;124mf\u001b[39m\u001b[38;5;124m'\u001b[39m\u001b[38;5;132;01m{\u001b[39;00mfuncname\u001b[38;5;132;01m}\u001b[39;00m\u001b[38;5;124m requires at least \u001b[39m\u001b[38;5;124m'\u001b[39m\n\u001b[1;32m    907\u001b[0m                     \u001b[38;5;124m'\u001b[39m\u001b[38;5;124m1 positional argument\u001b[39m\u001b[38;5;124m'\u001b[39m)\n\u001b[0;32m--> 909\u001b[0m \u001b[38;5;28;01mreturn\u001b[39;00m \u001b[43mdispatch\u001b[49m\u001b[43m(\u001b[49m\u001b[43margs\u001b[49m\u001b[43m[\u001b[49m\u001b[38;5;241;43m0\u001b[39;49m\u001b[43m]\u001b[49m\u001b[38;5;241;43m.\u001b[39;49m\u001b[38;5;18;43m__class__\u001b[39;49m\u001b[43m)\u001b[49m\u001b[43m(\u001b[49m\u001b[38;5;241;43m*\u001b[39;49m\u001b[43margs\u001b[49m\u001b[43m,\u001b[49m\u001b[43m \u001b[49m\u001b[38;5;241;43m*\u001b[39;49m\u001b[38;5;241;43m*\u001b[39;49m\u001b[43mkw\u001b[49m\u001b[43m)\u001b[49m\n",
      "File \u001b[0;32m~/miniconda3/envs/gibbssampler/lib/python3.12/site-packages/quimb/tensor/tensor_core.py:588\u001b[0m, in \u001b[0;36mtensor_split\u001b[0;34m(T, left_inds, method, get, absorb, max_bond, cutoff, cutoff_mode, renorm, ltags, rtags, stags, bond_ind, right_inds)\u001b[0m\n\u001b[1;32m    583\u001b[0m opts \u001b[38;5;241m=\u001b[39m _parse_split_opts(\n\u001b[1;32m    584\u001b[0m     method, cutoff, absorb, max_bond, cutoff_mode, renorm\n\u001b[1;32m    585\u001b[0m )\n\u001b[1;32m    587\u001b[0m \u001b[38;5;66;03m# `s` itself will be None unless `absorb=None` is specified\u001b[39;00m\n\u001b[0;32m--> 588\u001b[0m left, s, right \u001b[38;5;241m=\u001b[39m \u001b[43m_SPLIT_FNS\u001b[49m\u001b[43m[\u001b[49m\u001b[43mmethod\u001b[49m\u001b[43m]\u001b[49m\u001b[43m(\u001b[49m\u001b[43marray\u001b[49m\u001b[43m,\u001b[49m\u001b[43m \u001b[49m\u001b[38;5;241;43m*\u001b[39;49m\u001b[38;5;241;43m*\u001b[39;49m\u001b[43mopts\u001b[49m\u001b[43m)\u001b[49m\n\u001b[1;32m    590\u001b[0m \u001b[38;5;28;01mif\u001b[39;00m nleft \u001b[38;5;241m!=\u001b[39m \u001b[38;5;241m1\u001b[39m:\n\u001b[1;32m    591\u001b[0m     \u001b[38;5;66;03m# unfuse dangling left indices\u001b[39;00m\n\u001b[1;32m    592\u001b[0m     left \u001b[38;5;241m=\u001b[39m do(\u001b[38;5;124m\"\u001b[39m\u001b[38;5;124mreshape\u001b[39m\u001b[38;5;124m\"\u001b[39m, left, (\u001b[38;5;241m*\u001b[39mleft_dims, shape(left)[\u001b[38;5;241m-\u001b[39m\u001b[38;5;241m1\u001b[39m]))\n",
      "File \u001b[0;32m~/miniconda3/envs/gibbssampler/lib/python3.12/site-packages/autoray/autoray.py:925\u001b[0m, in \u001b[0;36mComposed.__call__\u001b[0;34m(self, like, *args, **kwargs)\u001b[0m\n\u001b[1;32m    923\u001b[0m \u001b[38;5;66;03m# `get_lib_fn` will call `make_function` if the function doesn't exist\u001b[39;00m\n\u001b[1;32m    924\u001b[0m fn \u001b[38;5;241m=\u001b[39m get_lib_fn(backend, \u001b[38;5;28mself\u001b[39m\u001b[38;5;241m.\u001b[39m_name)\n\u001b[0;32m--> 925\u001b[0m \u001b[38;5;28;01mreturn\u001b[39;00m \u001b[43mfn\u001b[49m\u001b[43m(\u001b[49m\u001b[38;5;241;43m*\u001b[39;49m\u001b[43margs\u001b[49m\u001b[43m,\u001b[49m\u001b[43m \u001b[49m\u001b[38;5;241;43m*\u001b[39;49m\u001b[38;5;241;43m*\u001b[39;49m\u001b[43mkwargs\u001b[49m\u001b[43m)\u001b[49m\n",
      "\u001b[0;31mSystemError\u001b[0m: CPUDispatcher(<function qr_stabilized_numba at 0x7f27c39d3a60>) returned a result with an exception set"
     ]
    }
   ],
   "source": [
    "left_mpos=lscas+lscds+[scds[0].identity()]*len(lscds)\n",
    "right_mpos=rscas+[scds[0].identity()]*len(lscds)+rscds\n",
    "\n",
    "par=left_mpos[0].apply(rho,compress=True)\n",
    "res=par.apply(right_mpos[0],compress=True)\n",
    "for left_mpo,right_mpo in zip(left_mpos[1:],right_mpos[1:]):\n",
    "    par=left_mpo.apply(rho,compress=True)\n",
    "    res+=par.apply(right_mpo,compress=True)\n",
    "\n"
   ]
  },
  {
   "cell_type": "code",
   "execution_count": 17,
   "metadata": {},
   "outputs": [
    {
     "data": {
      "text/plain": [
       "np.complex128(-9.5367431640625e-06j)"
      ]
     },
     "execution_count": 17,
     "metadata": {},
     "output_type": "execute_result"
    }
   ],
   "source": [
    "\n",
    "res_mat=res.to_dense()\n",
    "rho_mat=rho.to_dense()\n",
    "\n",
    "((res_mat/res_mat.trace())-(rho_mat/rho_mat.trace())).trace()"
   ]
  },
  {
   "cell_type": "code",
   "execution_count": 18,
   "metadata": {},
   "outputs": [],
   "source": [
    "import pickle\n",
    "import os\n",
    "\n",
    "# Save the rho variable into the debug folder\n",
    "# Create the debug folder if it does not exist\n",
    "os.makedirs('debug', exist_ok=True)\n",
    "with open('debug/rho.pkl', 'wb') as file:\n",
    "    pickle.dump(rho, file)"
   ]
  },
  {
   "cell_type": "code",
   "execution_count": 19,
   "metadata": {},
   "outputs": [
    {
     "data": {
      "text/plain": [
       "-0.2881276519371354"
      ]
     },
     "execution_count": 19,
     "metadata": {},
     "output_type": "execute_result"
    }
   ],
   "source": [
    "\n",
    "eval=sum([menv().contract(all) for menv in menvs])\n",
    "eval"
   ]
  }
 ],
 "metadata": {
  "kernelspec": {
   "display_name": "gibbssampler",
   "language": "python",
   "name": "python3"
  },
  "language_info": {
   "codemirror_mode": {
    "name": "ipython",
    "version": 3
   },
   "file_extension": ".py",
   "mimetype": "text/x-python",
   "name": "python",
   "nbconvert_exporter": "python",
   "pygments_lexer": "ipython3",
   "version": "3.12.8"
  }
 },
 "nbformat": 4,
 "nbformat_minor": 2
}
