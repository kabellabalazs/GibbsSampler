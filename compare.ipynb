{
 "cells": [
  {
   "cell_type": "code",
   "execution_count": 12,
   "metadata": {},
   "outputs": [],
   "source": [
    "from exact_construct import disc_part, create_hamiltonian\n",
    "import numpy as np\n",
    "import quimb.tensor as qtn\n",
    "import scipy.linalg as la"
   ]
  },
  {
   "cell_type": "code",
   "execution_count": 13,
   "metadata": {},
   "outputs": [],
   "source": [
    "def compare(mpo,mat):\n",
    "    return np.linalg.norm(mpo-mat,ord=2)/np.linalg.norm(mpo,ord=2)\n",
    "\n",
    "def get_disc(jump_op,site_num,local_hamiltonians):\n",
    "    scd,sca=disc_part(jump_op,site_num,local_hamiltonians)\n",
    "    identity=np.eye(sca.shape[0])\n",
    "    part1=np.kron(sca,sca.T)\n",
    "    part2=np.kron(identity,scd.T)\n",
    "    part3=np.kron(scd,identity)\n",
    "    return part1-part2-part3"
   ]
  },
  {
   "cell_type": "code",
   "execution_count": 14,
   "metadata": {},
   "outputs": [],
   "source": [
    "L=6\n",
    "J=1\n",
    "h=1.5"
   ]
  },
  {
   "cell_type": "code",
   "execution_count": 15,
   "metadata": {},
   "outputs": [],
   "source": [
    "x=np.array([[0,1],[1,0]])\n",
    "z=np.array([[1,0],[0,-1]])\n"
   ]
  },
  {
   "cell_type": "code",
   "execution_count": 16,
   "metadata": {},
   "outputs": [],
   "source": [
    "\n",
    "h2=-J*np.kron(z,z)\n",
    "h1=h*x\n",
    "local_ham = qtn.LocalHam1D(L=L, H2=h2, H1=h1,cyclic=False)\n",
    "local_hamiltonians=dict(local_ham.items())\n",
    "hamiltonian=create_hamiltonian(local_hamiltonians)"
   ]
  },
  {
   "cell_type": "code",
   "execution_count": 17,
   "metadata": {},
   "outputs": [],
   "source": [
    "full_disc=np.zeros((4**L,4**L),dtype=complex)\n",
    "for i in range(L):\n",
    "    full_disc+=get_disc(x,i,local_hamiltonians)\n",
    "    full_disc+=get_disc(z,i,local_hamiltonians)\n"
   ]
  },
  {
   "cell_type": "code",
   "execution_count": 18,
   "metadata": {},
   "outputs": [],
   "source": [
    "evals,evecs=la.eigh(full_disc)"
   ]
  },
  {
   "cell_type": "code",
   "execution_count": 21,
   "metadata": {},
   "outputs": [
    {
     "data": {
      "text/plain": [
       "np.float64(-0.24009856606809432)"
      ]
     },
     "execution_count": 21,
     "metadata": {},
     "output_type": "execute_result"
    }
   ],
   "source": [
    "evals[-2]"
   ]
  }
 ],
 "metadata": {
  "kernelspec": {
   "display_name": "gibbssampler",
   "language": "python",
   "name": "python3"
  },
  "language_info": {
   "codemirror_mode": {
    "name": "ipython",
    "version": 3
   },
   "file_extension": ".py",
   "mimetype": "text/x-python",
   "name": "python",
   "nbconvert_exporter": "python",
   "pygments_lexer": "ipython3",
   "version": "3.12.8"
  }
 },
 "nbformat": 4,
 "nbformat_minor": 2
}
