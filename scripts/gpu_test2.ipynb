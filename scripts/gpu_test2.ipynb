{
 "cells": [
  {
   "cell_type": "code",
   "execution_count": 7,
   "metadata": {},
   "outputs": [],
   "source": [
    "import quimb.tensor as qtn\n",
    "import numpy as np\n",
    "from local_discriminant import disc_parts\n",
    "from weights import ch_weight,sh_weight\n",
    "from transformations import s_transform\n",
    "from mps_generators import kraus_mps\n",
    "import torch\n",
    "import numba\n",
    "import cupy as cp\n"
   ]
  },
  {
   "cell_type": "code",
   "execution_count": 8,
   "metadata": {},
   "outputs": [],
   "source": [
    "L=40 #use even numbers\n",
    "J=1\n",
    "h=1.5\n",
    "tol=1e-8\n",
    "delta_t=.08\n",
    "final_t=3.2\n",
    "\n",
    "a=33 #0.05 33 #0.1 #32\n",
    "num_steps=int(final_t/delta_t)\n",
    "\n",
    "options={}\n",
    "options['split_opts']={'method':'svd','cutoff':tol,'cutoff_mode':'rel','max_bond':100}\n",
    "options['tebd_opts']={'tol':tol,'order':4,'progbar':False}\n",
    "options['comp_opts']={'method':'svd','cutoff':tol,'cutoff_mode':'rel'}\n"
   ]
  },
  {
   "cell_type": "code",
   "execution_count": 9,
   "metadata": {},
   "outputs": [],
   "source": [
    "\n",
    "\n",
    "I=np.eye(2)\n",
    "X=np.array([[0,1],[1,0]])\n",
    "Z=np.array([[1,0],[0,-1]])\n",
    "ZZ=np.kron(Z,Z)\n",
    "XI=np.kron(X,I)\n",
    "IX=np.kron(I,X)\n",
    "\n",
    "local_hamiltonians=[-J*ZZ+(h*IX+h*XI)/2]*(L-1)\n",
    "local_hamiltonians[0]=-J*ZZ+h*XI+h/2*IX\n",
    "local_hamiltonians[-1]=-J*ZZ+h/2*XI+h*IX\n",
    "\n",
    "h2=-J*(np.kron(np.kron(Z,I),np.kron(Z,I))-np.kron(np.kron(I,Z),np.kron(I,Z)))\n",
    "h1=h*(np.kron(X,I)-np.kron(I,X))\n",
    "\n",
    "ham_tp=qtn.LocalHam1D(L,H2=h2,H1=h1,cyclic=False)\n",
    "ham_tm=qtn.LocalHam1D(L,H2=-h2,H1=-h1,cyclic=False)\n",
    "kraus=kraus_mps(Z,int(L/2),L)\n",
    "weight_func=lambda x: sh_weight(x,a)"
   ]
  },
  {
   "cell_type": "code",
   "execution_count": 10,
   "metadata": {},
   "outputs": [],
   "source": [
    "def func(lh,ps0,t):\n",
    "    tebd=qtn.TEBD(ps0,lh,tol=tol,progbar=True,split_opts=options['split_opts'])\n",
    "    tebd.update_to(t)\n",
    "    return tebd\n"
   ]
  },
  {
   "cell_type": "code",
   "execution_count": 11,
   "metadata": {},
   "outputs": [],
   "source": [
    "def change_backend(x):\n",
    "    return torch.tensor(x,dtype=torch.complex128)"
   ]
  },
  {
   "cell_type": "markdown",
   "metadata": {},
   "source": [
    "ham_tp.apply_to_arrays(change_backend)\n",
    "kraus.apply_to_arrays(change_backend)\n",
    "\n"
   ]
  },
  {
   "cell_type": "code",
   "execution_count": 13,
   "metadata": {},
   "outputs": [
    {
     "ename": "SystemError",
     "evalue": "CPUDispatcher(<function svd_truncated_numba at 0x7f1d8d9762a0>) returned a result with an exception set",
     "output_type": "error",
     "traceback": [
      "\u001b[0;31m---------------------------------------------------------------------------\u001b[0m",
      "\u001b[0;31mKeyboardInterrupt\u001b[0m                         Traceback (most recent call last)",
      "File \u001b[0;32m~/miniconda3/envs/gibbssampler/lib/python3.12/site-packages/numba/core/serialize.py:30\u001b[0m, in \u001b[0;36m_numba_unpickle\u001b[0;34m(address, bytedata, hashed)\u001b[0m\n\u001b[1;32m     27\u001b[0m _unpickled_memo \u001b[38;5;241m=\u001b[39m {}\n\u001b[0;32m---> 30\u001b[0m \u001b[38;5;28;01mdef\u001b[39;00m\u001b[38;5;250m \u001b[39m\u001b[38;5;21m_numba_unpickle\u001b[39m(address, bytedata, hashed):\n\u001b[1;32m     31\u001b[0m \u001b[38;5;250m    \u001b[39m\u001b[38;5;124;03m\"\"\"Used by `numba_unpickle` from _helperlib.c\u001b[39;00m\n\u001b[1;32m     32\u001b[0m \n\u001b[1;32m     33\u001b[0m \u001b[38;5;124;03m    Parameters\u001b[39;00m\n\u001b[0;32m   (...)\u001b[0m\n\u001b[1;32m     42\u001b[0m \u001b[38;5;124;03m        unpickled object\u001b[39;00m\n\u001b[1;32m     43\u001b[0m \u001b[38;5;124;03m    \"\"\"\u001b[39;00m\n",
      "\u001b[0;31mKeyboardInterrupt\u001b[0m: ",
      "\nThe above exception was the direct cause of the following exception:\n",
      "\u001b[0;31mSystemError\u001b[0m                               Traceback (most recent call last)",
      "\u001b[0;31mSystemError\u001b[0m: <function _numba_unpickle at 0x7f1da73f1da0> returned a result with an exception set",
      "\nThe above exception was the direct cause of the following exception:\n",
      "\u001b[0;31mSystemError\u001b[0m                               Traceback (most recent call last)",
      "Cell \u001b[0;32mIn[13], line 1\u001b[0m\n\u001b[0;32m----> 1\u001b[0m sca\u001b[38;5;241m=\u001b[39m\u001b[43ms_transform\u001b[49m\u001b[43m(\u001b[49m\u001b[43mkraus\u001b[49m\u001b[43m,\u001b[49m\u001b[43mch_weight\u001b[49m\u001b[43m,\u001b[49m\u001b[43mdelta_t\u001b[49m\u001b[43m,\u001b[49m\u001b[43mnum_steps\u001b[49m\u001b[43m,\u001b[49m\u001b[43mham_tp\u001b[49m\u001b[43m,\u001b[49m\u001b[43mham_tm\u001b[49m\u001b[43m,\u001b[49m\u001b[38;5;241;43m*\u001b[39;49m\u001b[38;5;241;43m*\u001b[39;49m\u001b[43moptions\u001b[49m\u001b[43m)\u001b[49m\n",
      "File \u001b[0;32m~/Python/Repos/GibbsSampler/scripts/transformations.py:47\u001b[0m, in \u001b[0;36ms_transform\u001b[0;34m(kraus_mps, weight_func, delta_t, num_steps, ham_tp, ham_tm, split_opts, tebd_opts, comp_opts)\u001b[0m\n\u001b[1;32m     44\u001b[0m \u001b[38;5;28;01mfor\u001b[39;00m t \u001b[38;5;129;01min\u001b[39;00m times:\n\u001b[1;32m     45\u001b[0m     \u001b[38;5;66;03m#progress_bar(i,num_steps)\u001b[39;00m\n\u001b[1;32m     46\u001b[0m     tebd_plus\u001b[38;5;241m.\u001b[39mupdate_to(t,\u001b[38;5;241m*\u001b[39m\u001b[38;5;241m*\u001b[39mtebd_opts)\n\u001b[0;32m---> 47\u001b[0m     \u001b[43mtebd_minus\u001b[49m\u001b[38;5;241;43m.\u001b[39;49m\u001b[43mupdate_to\u001b[49m\u001b[43m(\u001b[49m\u001b[43mt\u001b[49m\u001b[43m,\u001b[49m\u001b[38;5;241;43m*\u001b[39;49m\u001b[38;5;241;43m*\u001b[39;49m\u001b[43mtebd_opts\u001b[49m\u001b[43m)\u001b[49m\n\u001b[1;32m     48\u001b[0m     summed\u001b[38;5;241m=\u001b[39m(tebd_plus\u001b[38;5;241m.\u001b[39mpt\u001b[38;5;241m*\u001b[39mweight_func(t)\u001b[38;5;241m*\u001b[39mdelta_t)\u001b[38;5;241m.\u001b[39madd_MPS(tebd_minus\u001b[38;5;241m.\u001b[39mpt\u001b[38;5;241m*\u001b[39mweight_func(\u001b[38;5;241m-\u001b[39mt)\u001b[38;5;241m*\u001b[39mdelta_t)\n\u001b[1;32m     49\u001b[0m     summed\u001b[38;5;241m.\u001b[39mcompress(\u001b[38;5;241m*\u001b[39m\u001b[38;5;241m*\u001b[39mcomp_opts)\n",
      "File \u001b[0;32m~/miniconda3/envs/gibbssampler/lib/python3.12/site-packages/quimb/tensor/tensor_1d_tebd.py:511\u001b[0m, in \u001b[0;36mTEBD.update_to\u001b[0;34m(self, T, dt, tol, order, progbar)\u001b[0m\n\u001b[1;32m    507\u001b[0m progbar \u001b[38;5;241m=\u001b[39m continuous_progbar(\u001b[38;5;28mself\u001b[39m\u001b[38;5;241m.\u001b[39mt, T) \u001b[38;5;28;01mif\u001b[39;00m progbar \u001b[38;5;28;01melse\u001b[39;00m \u001b[38;5;28;01mNone\u001b[39;00m\n\u001b[1;32m    509\u001b[0m \u001b[38;5;28;01mwhile\u001b[39;00m \u001b[38;5;28mself\u001b[39m\u001b[38;5;241m.\u001b[39mt \u001b[38;5;241m<\u001b[39m T \u001b[38;5;241m-\u001b[39m \u001b[38;5;28mself\u001b[39m\u001b[38;5;241m.\u001b[39m_dt:\n\u001b[1;32m    510\u001b[0m     \u001b[38;5;66;03m# get closer until we can reach in a single step\u001b[39;00m\n\u001b[0;32m--> 511\u001b[0m     \u001b[38;5;28;43mself\u001b[39;49m\u001b[38;5;241;43m.\u001b[39;49m\u001b[43mstep\u001b[49m\u001b[43m(\u001b[49m\u001b[43morder\u001b[49m\u001b[38;5;241;43m=\u001b[39;49m\u001b[43morder\u001b[49m\u001b[43m,\u001b[49m\u001b[43m \u001b[49m\u001b[43mprogbar\u001b[49m\u001b[38;5;241;43m=\u001b[39;49m\u001b[43mprogbar\u001b[49m\u001b[43m,\u001b[49m\u001b[43m \u001b[49m\u001b[43mdt\u001b[49m\u001b[38;5;241;43m=\u001b[39;49m\u001b[38;5;28;43;01mNone\u001b[39;49;00m\u001b[43m,\u001b[49m\u001b[43m \u001b[49m\u001b[43mqueue\u001b[49m\u001b[38;5;241;43m=\u001b[39;49m\u001b[38;5;28;43;01mTrue\u001b[39;49;00m\u001b[43m)\u001b[49m\n\u001b[1;32m    513\u001b[0m \u001b[38;5;66;03m# always perform final sweep with queue draining\u001b[39;00m\n\u001b[1;32m    514\u001b[0m \u001b[38;5;28mself\u001b[39m\u001b[38;5;241m.\u001b[39mstep(order\u001b[38;5;241m=\u001b[39morder, progbar\u001b[38;5;241m=\u001b[39mprogbar, dt\u001b[38;5;241m=\u001b[39mT \u001b[38;5;241m-\u001b[39m \u001b[38;5;28mself\u001b[39m\u001b[38;5;241m.\u001b[39mt, queue\u001b[38;5;241m=\u001b[39m\u001b[38;5;28;01mFalse\u001b[39;00m)\n",
      "File \u001b[0;32m~/miniconda3/envs/gibbssampler/lib/python3.12/site-packages/quimb/tensor/tensor_1d_tebd.py:452\u001b[0m, in \u001b[0;36mTEBD.step\u001b[0;34m(self, order, dt, progbar, **sweep_opts)\u001b[0m\n\u001b[1;32m    450\u001b[0m \u001b[38;5;28;01mdef\u001b[39;00m\u001b[38;5;250m \u001b[39m\u001b[38;5;21mstep\u001b[39m(\u001b[38;5;28mself\u001b[39m, order\u001b[38;5;241m=\u001b[39m\u001b[38;5;241m2\u001b[39m, dt\u001b[38;5;241m=\u001b[39m\u001b[38;5;28;01mNone\u001b[39;00m, progbar\u001b[38;5;241m=\u001b[39m\u001b[38;5;28;01mNone\u001b[39;00m, \u001b[38;5;241m*\u001b[39m\u001b[38;5;241m*\u001b[39msweep_opts):\n\u001b[1;32m    451\u001b[0m \u001b[38;5;250m    \u001b[39m\u001b[38;5;124;03m\"\"\"Perform a single step of time ``self.dt``.\"\"\"\u001b[39;00m\n\u001b[0;32m--> 452\u001b[0m     \u001b[43m{\u001b[49m\u001b[38;5;241;43m2\u001b[39;49m\u001b[43m:\u001b[49m\u001b[43m \u001b[49m\u001b[38;5;28;43mself\u001b[39;49m\u001b[38;5;241;43m.\u001b[39;49m\u001b[43m_step_order2\u001b[49m\u001b[43m,\u001b[49m\u001b[43m \u001b[49m\u001b[38;5;241;43m4\u001b[39;49m\u001b[43m:\u001b[49m\u001b[43m \u001b[49m\u001b[38;5;28;43mself\u001b[39;49m\u001b[38;5;241;43m.\u001b[39;49m\u001b[43m_step_order4\u001b[49m\u001b[43m}\u001b[49m\u001b[43m[\u001b[49m\u001b[43morder\u001b[49m\u001b[43m]\u001b[49m\u001b[43m(\u001b[49m\n\u001b[1;32m    453\u001b[0m \u001b[43m        \u001b[49m\u001b[43mdt\u001b[49m\u001b[38;5;241;43m=\u001b[39;49m\u001b[43mdt\u001b[49m\u001b[43m,\u001b[49m\u001b[43m \u001b[49m\u001b[38;5;241;43m*\u001b[39;49m\u001b[38;5;241;43m*\u001b[39;49m\u001b[43msweep_opts\u001b[49m\n\u001b[1;32m    454\u001b[0m \u001b[43m    \u001b[49m\u001b[43m)\u001b[49m\n\u001b[1;32m    456\u001b[0m     dt \u001b[38;5;241m=\u001b[39m \u001b[38;5;28mself\u001b[39m\u001b[38;5;241m.\u001b[39m_dt \u001b[38;5;28;01mif\u001b[39;00m dt \u001b[38;5;129;01mis\u001b[39;00m \u001b[38;5;28;01mNone\u001b[39;00m \u001b[38;5;28;01melse\u001b[39;00m dt\n\u001b[1;32m    457\u001b[0m     \u001b[38;5;28mself\u001b[39m\u001b[38;5;241m.\u001b[39mt \u001b[38;5;241m+\u001b[39m\u001b[38;5;241m=\u001b[39m dt\n",
      "File \u001b[0;32m~/miniconda3/envs/gibbssampler/lib/python3.12/site-packages/quimb/tensor/tensor_1d_tebd.py:446\u001b[0m, in \u001b[0;36mTEBD._step_order4\u001b[0;34m(self, **sweep_opts)\u001b[0m\n\u001b[1;32m    444\u001b[0m \u001b[38;5;28mself\u001b[39m\u001b[38;5;241m.\u001b[39m_step_order2(tau1, \u001b[38;5;241m*\u001b[39m\u001b[38;5;241m*\u001b[39msweep_opts)\n\u001b[1;32m    445\u001b[0m \u001b[38;5;28mself\u001b[39m\u001b[38;5;241m.\u001b[39m_step_order2(tau2, \u001b[38;5;241m*\u001b[39m\u001b[38;5;241m*\u001b[39msweep_opts)\n\u001b[0;32m--> 446\u001b[0m \u001b[38;5;28;43mself\u001b[39;49m\u001b[38;5;241;43m.\u001b[39;49m\u001b[43m_step_order2\u001b[49m\u001b[43m(\u001b[49m\u001b[43mtau3\u001b[49m\u001b[43m,\u001b[49m\u001b[43m \u001b[49m\u001b[38;5;241;43m*\u001b[39;49m\u001b[38;5;241;43m*\u001b[39;49m\u001b[43msweep_opts\u001b[49m\u001b[43m)\u001b[49m\n\u001b[1;32m    447\u001b[0m \u001b[38;5;28mself\u001b[39m\u001b[38;5;241m.\u001b[39m_step_order2(tau2, \u001b[38;5;241m*\u001b[39m\u001b[38;5;241m*\u001b[39msweep_opts)\n\u001b[1;32m    448\u001b[0m \u001b[38;5;28mself\u001b[39m\u001b[38;5;241m.\u001b[39m_step_order2(tau1, \u001b[38;5;241m*\u001b[39m\u001b[38;5;241m*\u001b[39msweep_opts)\n",
      "File \u001b[0;32m~/miniconda3/envs/gibbssampler/lib/python3.12/site-packages/quimb/tensor/tensor_1d_tebd.py:438\u001b[0m, in \u001b[0;36mTEBD._step_order2\u001b[0;34m(self, tau, **sweep_opts)\u001b[0m\n\u001b[1;32m    436\u001b[0m \u001b[38;5;28mself\u001b[39m\u001b[38;5;241m.\u001b[39msweep(\u001b[38;5;124m\"\u001b[39m\u001b[38;5;124mright\u001b[39m\u001b[38;5;124m\"\u001b[39m, tau \u001b[38;5;241m/\u001b[39m \u001b[38;5;241m2\u001b[39m, \u001b[38;5;241m*\u001b[39m\u001b[38;5;241m*\u001b[39msweep_opts)\n\u001b[1;32m    437\u001b[0m \u001b[38;5;28mself\u001b[39m\u001b[38;5;241m.\u001b[39msweep(\u001b[38;5;124m\"\u001b[39m\u001b[38;5;124mleft\u001b[39m\u001b[38;5;124m\"\u001b[39m, tau, \u001b[38;5;241m*\u001b[39m\u001b[38;5;241m*\u001b[39msweep_opts)\n\u001b[0;32m--> 438\u001b[0m \u001b[38;5;28;43mself\u001b[39;49m\u001b[38;5;241;43m.\u001b[39;49m\u001b[43msweep\u001b[49m\u001b[43m(\u001b[49m\u001b[38;5;124;43m\"\u001b[39;49m\u001b[38;5;124;43mright\u001b[39;49m\u001b[38;5;124;43m\"\u001b[39;49m\u001b[43m,\u001b[49m\u001b[43m \u001b[49m\u001b[43mtau\u001b[49m\u001b[43m \u001b[49m\u001b[38;5;241;43m/\u001b[39;49m\u001b[43m \u001b[49m\u001b[38;5;241;43m2\u001b[39;49m\u001b[43m,\u001b[49m\u001b[43m \u001b[49m\u001b[38;5;241;43m*\u001b[39;49m\u001b[38;5;241;43m*\u001b[39;49m\u001b[43msweep_opts\u001b[49m\u001b[43m)\u001b[49m\n",
      "File \u001b[0;32m~/miniconda3/envs/gibbssampler/lib/python3.12/site-packages/quimb/tensor/tensor_1d_tebd.py:422\u001b[0m, in \u001b[0;36mTEBD.sweep\u001b[0;34m(self, direction, dt_frac, dt, queue)\u001b[0m\n\u001b[1;32m    418\u001b[0m     U \u001b[38;5;241m=\u001b[39m \u001b[38;5;28mself\u001b[39m\u001b[38;5;241m.\u001b[39m_get_gate_from_ham(dt_frac, sites)\n\u001b[1;32m    419\u001b[0m     \u001b[38;5;28mself\u001b[39m\u001b[38;5;241m.\u001b[39m_pt\u001b[38;5;241m.\u001b[39mright_canonize(\n\u001b[1;32m    420\u001b[0m         start\u001b[38;5;241m=\u001b[39m\u001b[38;5;28mmin\u001b[39m(\u001b[38;5;28mself\u001b[39m\u001b[38;5;241m.\u001b[39mL \u001b[38;5;241m-\u001b[39m \u001b[38;5;241m1\u001b[39m, i \u001b[38;5;241m+\u001b[39m \u001b[38;5;241m2\u001b[39m), stop\u001b[38;5;241m=\u001b[39mi \u001b[38;5;241m+\u001b[39m \u001b[38;5;241m1\u001b[39m\n\u001b[1;32m    421\u001b[0m     )\n\u001b[0;32m--> 422\u001b[0m     \u001b[38;5;28;43mself\u001b[39;49m\u001b[38;5;241;43m.\u001b[39;49m\u001b[43m_pt\u001b[49m\u001b[38;5;241;43m.\u001b[39;49m\u001b[43mgate_split_\u001b[49m\u001b[43m(\u001b[49m\n\u001b[1;32m    423\u001b[0m \u001b[43m        \u001b[49m\u001b[43mU\u001b[49m\u001b[43m,\u001b[49m\u001b[43m \u001b[49m\u001b[43mwhere\u001b[49m\u001b[38;5;241;43m=\u001b[39;49m\u001b[43msites\u001b[49m\u001b[43m,\u001b[49m\u001b[43m \u001b[49m\u001b[43mabsorb\u001b[49m\u001b[38;5;241;43m=\u001b[39;49m\u001b[38;5;124;43m\"\u001b[39;49m\u001b[38;5;124;43mleft\u001b[39;49m\u001b[38;5;124;43m\"\u001b[39;49m\u001b[43m,\u001b[49m\u001b[43m \u001b[49m\u001b[38;5;241;43m*\u001b[39;49m\u001b[38;5;241;43m*\u001b[39;49m\u001b[38;5;28;43mself\u001b[39;49m\u001b[38;5;241;43m.\u001b[39;49m\u001b[43msplit_opts\u001b[49m\n\u001b[1;32m    424\u001b[0m \u001b[43m    \u001b[49m\u001b[43m)\u001b[49m\n\u001b[1;32m    426\u001b[0m \u001b[38;5;66;03m# one extra canonicalization not included in last split\u001b[39;00m\n\u001b[1;32m    427\u001b[0m \u001b[38;5;28mself\u001b[39m\u001b[38;5;241m.\u001b[39m_pt\u001b[38;5;241m.\u001b[39mright_canonize_site(\u001b[38;5;241m1\u001b[39m)\n",
      "File \u001b[0;32m~/miniconda3/envs/gibbssampler/lib/python3.12/site-packages/quimb/tensor/tensor_1d.py:1901\u001b[0m, in \u001b[0;36mMatrixProductState.gate_split\u001b[0;34m(self, G, where, inplace, **compress_opts)\u001b[0m\n\u001b[1;32m   1899\u001b[0m ix_i, ix_j \u001b[38;5;241m=\u001b[39m \u001b[38;5;28mmap\u001b[39m(\u001b[38;5;28mself\u001b[39m\u001b[38;5;241m.\u001b[39msite_ind, where)\n\u001b[1;32m   1900\u001b[0m \u001b[38;5;66;03m# note that 'reduce-split' is unecessary: tensors have ndim<=3\u001b[39;00m\n\u001b[0;32m-> 1901\u001b[0m \u001b[38;5;28;01mreturn\u001b[39;00m \u001b[38;5;28;43mself\u001b[39;49m\u001b[38;5;241;43m.\u001b[39;49m\u001b[43mgate_inds\u001b[49m\u001b[43m(\u001b[49m\n\u001b[1;32m   1902\u001b[0m \u001b[43m    \u001b[49m\u001b[43mG\u001b[49m\u001b[43m,\u001b[49m\u001b[43m \u001b[49m\u001b[43m(\u001b[49m\u001b[43mix_i\u001b[49m\u001b[43m,\u001b[49m\u001b[43m \u001b[49m\u001b[43mix_j\u001b[49m\u001b[43m)\u001b[49m\u001b[43m,\u001b[49m\u001b[43m \u001b[49m\u001b[43mcontract\u001b[49m\u001b[38;5;241;43m=\u001b[39;49m\u001b[38;5;124;43m\"\u001b[39;49m\u001b[38;5;124;43msplit\u001b[39;49m\u001b[38;5;124;43m\"\u001b[39;49m\u001b[43m,\u001b[49m\u001b[43m \u001b[49m\u001b[43minplace\u001b[49m\u001b[38;5;241;43m=\u001b[39;49m\u001b[43minplace\u001b[49m\u001b[43m,\u001b[49m\u001b[43m \u001b[49m\u001b[38;5;241;43m*\u001b[39;49m\u001b[38;5;241;43m*\u001b[39;49m\u001b[43mcompress_opts\u001b[49m\n\u001b[1;32m   1903\u001b[0m \u001b[43m\u001b[49m\u001b[43m)\u001b[49m\n",
      "File \u001b[0;32m~/miniconda3/envs/gibbssampler/lib/python3.12/site-packages/quimb/tensor/tensor_core.py:3710\u001b[0m, in \u001b[0;36mtensor_network_gate_inds\u001b[0;34m(self, G, inds, contract, tags, info, inplace, **compress_opts)\u001b[0m\n\u001b[1;32m   3703\u001b[0m         \u001b[38;5;28;01mraise\u001b[39;00m \u001b[38;5;167;01mValueError\u001b[39;00m(\n\u001b[1;32m   3704\u001b[0m             \u001b[38;5;124m\"\u001b[39m\u001b[38;5;124mFor a parametrized gate acting on more than one site \u001b[39m\u001b[38;5;124m\"\u001b[39m\n\u001b[1;32m   3705\u001b[0m             \u001b[38;5;124m\"\u001b[39m\u001b[38;5;124m``contract`` must be false to preserve the array shape.\u001b[39m\u001b[38;5;124m\"\u001b[39m\n\u001b[1;32m   3706\u001b[0m         )\n\u001b[1;32m   3708\u001b[0m \u001b[38;5;28;01mif\u001b[39;00m basic:\n\u001b[1;32m   3709\u001b[0m     \u001b[38;5;66;03m# no gate splitting involved\u001b[39;00m\n\u001b[0;32m-> 3710\u001b[0m     \u001b[43m_tensor_network_gate_inds_basic\u001b[49m\u001b[43m(\u001b[49m\n\u001b[1;32m   3711\u001b[0m \u001b[43m        \u001b[49m\u001b[43mtn\u001b[49m\u001b[43m,\u001b[49m\u001b[43m \u001b[49m\u001b[43mG\u001b[49m\u001b[43m,\u001b[49m\u001b[43m \u001b[49m\u001b[43minds\u001b[49m\u001b[43m,\u001b[49m\u001b[43m \u001b[49m\u001b[43mng\u001b[49m\u001b[43m,\u001b[49m\u001b[43m \u001b[49m\u001b[43mtags\u001b[49m\u001b[43m,\u001b[49m\u001b[43m \u001b[49m\u001b[43mcontract\u001b[49m\u001b[43m,\u001b[49m\u001b[43m \u001b[49m\u001b[43misparam\u001b[49m\u001b[43m,\u001b[49m\u001b[43m \u001b[49m\u001b[43minfo\u001b[49m\u001b[43m,\u001b[49m\u001b[43m \u001b[49m\u001b[38;5;241;43m*\u001b[39;49m\u001b[38;5;241;43m*\u001b[39;49m\u001b[43mcompress_opts\u001b[49m\n\u001b[1;32m   3712\u001b[0m \u001b[43m    \u001b[49m\u001b[43m)\u001b[49m\n\u001b[1;32m   3713\u001b[0m \u001b[38;5;28;01melse\u001b[39;00m:\n\u001b[1;32m   3714\u001b[0m     \u001b[38;5;66;03m# possible splitting of gate itself involved\u001b[39;00m\n\u001b[1;32m   3715\u001b[0m     \u001b[38;5;28;01mif\u001b[39;00m ng \u001b[38;5;241m>\u001b[39m \u001b[38;5;241m2\u001b[39m:\n",
      "File \u001b[0;32m~/miniconda3/envs/gibbssampler/lib/python3.12/site-packages/quimb/tensor/tensor_core.py:3385\u001b[0m, in \u001b[0;36m_tensor_network_gate_inds_basic\u001b[0;34m(tn, G, inds, ng, tags, contract, isparam, info, **compress_opts)\u001b[0m\n\u001b[1;32m   3380\u001b[0m     tlGr \u001b[38;5;241m=\u001b[39m tensor_contract(\n\u001b[1;32m   3381\u001b[0m         tl\u001b[38;5;241m.\u001b[39mreindex(reindex_map), tr\u001b[38;5;241m.\u001b[39mreindex(reindex_map), TG\n\u001b[1;32m   3382\u001b[0m     )\n\u001b[1;32m   3384\u001b[0m     \u001b[38;5;66;03m# decompose back into two tensors\u001b[39;00m\n\u001b[0;32m-> 3385\u001b[0m     tln, \u001b[38;5;241m*\u001b[39mmaybe_svals, trn \u001b[38;5;241m=\u001b[39m \u001b[43mtlGr\u001b[49m\u001b[38;5;241;43m.\u001b[39;49m\u001b[43msplit\u001b[49m\u001b[43m(\u001b[49m\n\u001b[1;32m   3386\u001b[0m \u001b[43m        \u001b[49m\u001b[43mleft_inds\u001b[49m\u001b[38;5;241;43m=\u001b[39;49m\u001b[43mbnds_l\u001b[49m\u001b[43m,\u001b[49m\n\u001b[1;32m   3387\u001b[0m \u001b[43m        \u001b[49m\u001b[43mright_inds\u001b[49m\u001b[38;5;241;43m=\u001b[39;49m\u001b[43mbnds_r\u001b[49m\u001b[43m,\u001b[49m\n\u001b[1;32m   3388\u001b[0m \u001b[43m        \u001b[49m\u001b[43mbond_ind\u001b[49m\u001b[38;5;241;43m=\u001b[39;49m\u001b[43mbix\u001b[49m\u001b[43m,\u001b[49m\n\u001b[1;32m   3389\u001b[0m \u001b[43m        \u001b[49m\u001b[43mget\u001b[49m\u001b[38;5;241;43m=\u001b[39;49m\u001b[38;5;124;43m\"\u001b[39;49m\u001b[38;5;124;43mtensors\u001b[39;49m\u001b[38;5;124;43m\"\u001b[39;49m\u001b[43m,\u001b[49m\n\u001b[1;32m   3390\u001b[0m \u001b[43m        \u001b[49m\u001b[38;5;241;43m*\u001b[39;49m\u001b[38;5;241;43m*\u001b[39;49m\u001b[43mcompress_opts\u001b[49m\u001b[43m,\u001b[49m\n\u001b[1;32m   3391\u001b[0m \u001b[43m    \u001b[49m\u001b[43m)\u001b[49m\n\u001b[1;32m   3393\u001b[0m \u001b[38;5;28;01mif\u001b[39;00m contract \u001b[38;5;241m==\u001b[39m \u001b[38;5;124m\"\u001b[39m\u001b[38;5;124mreduce-split\u001b[39m\u001b[38;5;124m\"\u001b[39m:\n\u001b[1;32m   3394\u001b[0m     \u001b[38;5;66;03m# move physical inds on reduced tensors\u001b[39;00m\n\u001b[1;32m   3395\u001b[0m     \u001b[38;5;66;03m#\u001b[39;00m\n\u001b[0;32m   (...)\u001b[0m\n\u001b[1;32m   3400\u001b[0m     \u001b[38;5;66;03m#      ╱   ╱          ╱       ╱\u001b[39;00m\n\u001b[1;32m   3401\u001b[0m     \u001b[38;5;66;03m#\u001b[39;00m\n\u001b[1;32m   3402\u001b[0m     tmp_bix_l \u001b[38;5;241m=\u001b[39m rand_uuid()\n",
      "File \u001b[0;32m~/miniconda3/envs/gibbssampler/lib/python3.12/site-packages/quimb/tensor/tensor_core.py:2287\u001b[0m, in \u001b[0;36mTensor.split\u001b[0;34m(self, *args, **kwargs)\u001b[0m\n\u001b[1;32m   2285\u001b[0m \u001b[38;5;129m@functools\u001b[39m\u001b[38;5;241m.\u001b[39mwraps(tensor_split)\n\u001b[1;32m   2286\u001b[0m \u001b[38;5;28;01mdef\u001b[39;00m\u001b[38;5;250m \u001b[39m\u001b[38;5;21msplit\u001b[39m(\u001b[38;5;28mself\u001b[39m, \u001b[38;5;241m*\u001b[39margs, \u001b[38;5;241m*\u001b[39m\u001b[38;5;241m*\u001b[39mkwargs):\n\u001b[0;32m-> 2287\u001b[0m     \u001b[38;5;28;01mreturn\u001b[39;00m \u001b[43mtensor_split\u001b[49m\u001b[43m(\u001b[49m\u001b[38;5;28;43mself\u001b[39;49m\u001b[43m,\u001b[49m\u001b[43m \u001b[49m\u001b[38;5;241;43m*\u001b[39;49m\u001b[43margs\u001b[49m\u001b[43m,\u001b[49m\u001b[43m \u001b[49m\u001b[38;5;241;43m*\u001b[39;49m\u001b[38;5;241;43m*\u001b[39;49m\u001b[43mkwargs\u001b[49m\u001b[43m)\u001b[49m\n",
      "File \u001b[0;32m~/miniconda3/envs/gibbssampler/lib/python3.12/functools.py:909\u001b[0m, in \u001b[0;36msingledispatch.<locals>.wrapper\u001b[0;34m(*args, **kw)\u001b[0m\n\u001b[1;32m    905\u001b[0m \u001b[38;5;28;01mif\u001b[39;00m \u001b[38;5;129;01mnot\u001b[39;00m args:\n\u001b[1;32m    906\u001b[0m     \u001b[38;5;28;01mraise\u001b[39;00m \u001b[38;5;167;01mTypeError\u001b[39;00m(\u001b[38;5;124mf\u001b[39m\u001b[38;5;124m'\u001b[39m\u001b[38;5;132;01m{\u001b[39;00mfuncname\u001b[38;5;132;01m}\u001b[39;00m\u001b[38;5;124m requires at least \u001b[39m\u001b[38;5;124m'\u001b[39m\n\u001b[1;32m    907\u001b[0m                     \u001b[38;5;124m'\u001b[39m\u001b[38;5;124m1 positional argument\u001b[39m\u001b[38;5;124m'\u001b[39m)\n\u001b[0;32m--> 909\u001b[0m \u001b[38;5;28;01mreturn\u001b[39;00m \u001b[43mdispatch\u001b[49m\u001b[43m(\u001b[49m\u001b[43margs\u001b[49m\u001b[43m[\u001b[49m\u001b[38;5;241;43m0\u001b[39;49m\u001b[43m]\u001b[49m\u001b[38;5;241;43m.\u001b[39;49m\u001b[38;5;18;43m__class__\u001b[39;49m\u001b[43m)\u001b[49m\u001b[43m(\u001b[49m\u001b[38;5;241;43m*\u001b[39;49m\u001b[43margs\u001b[49m\u001b[43m,\u001b[49m\u001b[43m \u001b[49m\u001b[38;5;241;43m*\u001b[39;49m\u001b[38;5;241;43m*\u001b[39;49m\u001b[43mkw\u001b[49m\u001b[43m)\u001b[49m\n",
      "File \u001b[0;32m~/miniconda3/envs/gibbssampler/lib/python3.12/site-packages/quimb/tensor/tensor_core.py:588\u001b[0m, in \u001b[0;36mtensor_split\u001b[0;34m(T, left_inds, method, get, absorb, max_bond, cutoff, cutoff_mode, renorm, ltags, rtags, stags, bond_ind, right_inds)\u001b[0m\n\u001b[1;32m    583\u001b[0m opts \u001b[38;5;241m=\u001b[39m _parse_split_opts(\n\u001b[1;32m    584\u001b[0m     method, cutoff, absorb, max_bond, cutoff_mode, renorm\n\u001b[1;32m    585\u001b[0m )\n\u001b[1;32m    587\u001b[0m \u001b[38;5;66;03m# `s` itself will be None unless `absorb=None` is specified\u001b[39;00m\n\u001b[0;32m--> 588\u001b[0m left, s, right \u001b[38;5;241m=\u001b[39m \u001b[43m_SPLIT_FNS\u001b[49m\u001b[43m[\u001b[49m\u001b[43mmethod\u001b[49m\u001b[43m]\u001b[49m\u001b[43m(\u001b[49m\u001b[43marray\u001b[49m\u001b[43m,\u001b[49m\u001b[43m \u001b[49m\u001b[38;5;241;43m*\u001b[39;49m\u001b[38;5;241;43m*\u001b[39;49m\u001b[43mopts\u001b[49m\u001b[43m)\u001b[49m\n\u001b[1;32m    590\u001b[0m \u001b[38;5;28;01mif\u001b[39;00m nleft \u001b[38;5;241m!=\u001b[39m \u001b[38;5;241m1\u001b[39m:\n\u001b[1;32m    591\u001b[0m     \u001b[38;5;66;03m# unfuse dangling left indices\u001b[39;00m\n\u001b[1;32m    592\u001b[0m     left \u001b[38;5;241m=\u001b[39m do(\u001b[38;5;124m\"\u001b[39m\u001b[38;5;124mreshape\u001b[39m\u001b[38;5;124m\"\u001b[39m, left, (\u001b[38;5;241m*\u001b[39mleft_dims, shape(left)[\u001b[38;5;241m-\u001b[39m\u001b[38;5;241m1\u001b[39m]))\n",
      "File \u001b[0;32m~/miniconda3/envs/gibbssampler/lib/python3.12/site-packages/autoray/autoray.py:925\u001b[0m, in \u001b[0;36mComposed.__call__\u001b[0;34m(self, like, *args, **kwargs)\u001b[0m\n\u001b[1;32m    923\u001b[0m \u001b[38;5;66;03m# `get_lib_fn` will call `make_function` if the function doesn't exist\u001b[39;00m\n\u001b[1;32m    924\u001b[0m fn \u001b[38;5;241m=\u001b[39m get_lib_fn(backend, \u001b[38;5;28mself\u001b[39m\u001b[38;5;241m.\u001b[39m_name)\n\u001b[0;32m--> 925\u001b[0m \u001b[38;5;28;01mreturn\u001b[39;00m \u001b[43mfn\u001b[49m\u001b[43m(\u001b[49m\u001b[38;5;241;43m*\u001b[39;49m\u001b[43margs\u001b[49m\u001b[43m,\u001b[49m\u001b[43m \u001b[49m\u001b[38;5;241;43m*\u001b[39;49m\u001b[38;5;241;43m*\u001b[39;49m\u001b[43mkwargs\u001b[49m\u001b[43m)\u001b[49m\n",
      "File \u001b[0;32m~/miniconda3/envs/gibbssampler/lib/python3.12/site-packages/quimb/tensor/decomp.py:343\u001b[0m, in \u001b[0;36msvd_truncated_numpy\u001b[0;34m(x, cutoff, cutoff_mode, max_bond, absorb, renorm)\u001b[0m\n\u001b[1;32m    339\u001b[0m \u001b[38;5;250m\u001b[39m\u001b[38;5;124;03m\"\"\"Numpy version of ``svd_truncated``, trying the accelerated version\u001b[39;00m\n\u001b[1;32m    340\u001b[0m \u001b[38;5;124;03mfirst, then falling back to the more stable scipy version.\u001b[39;00m\n\u001b[1;32m    341\u001b[0m \u001b[38;5;124;03m\"\"\"\u001b[39;00m\n\u001b[1;32m    342\u001b[0m \u001b[38;5;28;01mtry\u001b[39;00m:\n\u001b[0;32m--> 343\u001b[0m     \u001b[38;5;28;01mreturn\u001b[39;00m \u001b[43msvd_truncated_numba\u001b[49m\u001b[43m(\u001b[49m\n\u001b[1;32m    344\u001b[0m \u001b[43m        \u001b[49m\u001b[43mx\u001b[49m\u001b[43m,\u001b[49m\u001b[43m \u001b[49m\u001b[43mcutoff\u001b[49m\u001b[43m,\u001b[49m\u001b[43m \u001b[49m\u001b[43mcutoff_mode\u001b[49m\u001b[43m,\u001b[49m\u001b[43m \u001b[49m\u001b[43mmax_bond\u001b[49m\u001b[43m,\u001b[49m\u001b[43m \u001b[49m\u001b[43mabsorb\u001b[49m\u001b[43m,\u001b[49m\u001b[43m \u001b[49m\u001b[43mrenorm\u001b[49m\n\u001b[1;32m    345\u001b[0m \u001b[43m    \u001b[49m\u001b[43m)\u001b[49m\n\u001b[1;32m    346\u001b[0m \u001b[38;5;28;01mexcept\u001b[39;00m \u001b[38;5;167;01mValueError\u001b[39;00m \u001b[38;5;28;01mas\u001b[39;00m e:  \u001b[38;5;66;03m# pragma: no cover\u001b[39;00m\n\u001b[1;32m    347\u001b[0m     warnings\u001b[38;5;241m.\u001b[39mwarn(\u001b[38;5;124mf\u001b[39m\u001b[38;5;124m\"\u001b[39m\u001b[38;5;124mGot: \u001b[39m\u001b[38;5;132;01m{\u001b[39;00me\u001b[38;5;132;01m}\u001b[39;00m\u001b[38;5;124m, falling back to scipy gesvd driver.\u001b[39m\u001b[38;5;124m\"\u001b[39m)\n",
      "\u001b[0;31mSystemError\u001b[0m: CPUDispatcher(<function svd_truncated_numba at 0x7f1d8d9762a0>) returned a result with an exception set"
     ]
    }
   ],
   "source": [
    "sca=s_transform(kraus,ch_weight,delta_t,num_steps,ham_tp,ham_tm,**options)"
   ]
  },
  {
   "cell_type": "markdown",
   "metadata": {},
   "source": [
    "\n",
    "\n",
    "\n",
    "\n",
    "\n",
    "\n",
    "\n",
    "kraus.apply_to_arrays(change_backend)\n",
    "ham_tp.apply_to_arrays(change_backend)\n",
    "ham_tm.apply_to_arrays(change_backend)\n",
    "qtn.set_contract_backend('torch')\n"
   ]
  },
  {
   "cell_type": "code",
   "execution_count": null,
   "metadata": {},
   "outputs": [],
   "source": [
    "res=s_transform(kraus,ch_weight,delta_t,num_steps,ham_tp,ham_tm,**options)"
   ]
  },
  {
   "cell_type": "code",
   "execution_count": null,
   "metadata": {},
   "outputs": [],
   "source": [
    "res"
   ]
  },
  {
   "cell_type": "markdown",
   "metadata": {},
   "source": [
    "[4,14.7],[6,21.9],[8,33.8],[10,41.3],[12,53.7],[14,62.6],[16,72.2],[18,82.4],[20,84,2],[22,102.6]"
   ]
  },
  {
   "cell_type": "markdown",
   "metadata": {},
   "source": [
    "[4,7.3],[6,11.7],[8,13.5],[10,19.1],[12,22.8],[14,26.8],[16,30.3],[18,36.3],[20,34.6],[22,39.8]"
   ]
  },
  {
   "cell_type": "code",
   "execution_count": null,
   "metadata": {},
   "outputs": [],
   "source": [
    "import matplotlib.pyplot as plt\n",
    "\n",
    "# Data points\n",
    "#data = [[4, 7.3], [6, 11.7], [8, 13.5], [10, 19.1], [12, 22.8], [14, 26.8], [16, 30.3], [18, 36.3], [20, 34.6], [22, 39.8]]\n",
    "data=[[4,14.7],[6,21.9],[8,33.8],[10,41.3],[12,53.7],[14,62.6],[16,72.2],[18,82.4],[20,84,2],[22,102.6]]\n",
    "# Separate the data into x and y coordinates\n",
    "x, y = zip(*data)\n",
    "\n",
    "# Create the plot\n",
    "plt.figure(figsize=(10, 6))\n",
    "plt.plot(x, y, marker='o', linestyle='-', color='b')\n",
    "plt.xlabel('X-axis')\n",
    "plt.ylabel('Y-axis')\n",
    "plt.title('Data Points Plot')\n",
    "plt.grid(True)\n",
    "plt.show()"
   ]
  }
 ],
 "metadata": {
  "kernelspec": {
   "display_name": "gibbssampler",
   "language": "python",
   "name": "python3"
  },
  "language_info": {
   "codemirror_mode": {
    "name": "ipython",
    "version": 3
   },
   "file_extension": ".py",
   "mimetype": "text/x-python",
   "name": "python",
   "nbconvert_exporter": "python",
   "pygments_lexer": "ipython3",
   "version": "3.12.8"
  }
 },
 "nbformat": 4,
 "nbformat_minor": 2
}
