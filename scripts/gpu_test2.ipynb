{
 "cells": [
  {
   "cell_type": "code",
   "execution_count": 6,
   "metadata": {},
   "outputs": [],
   "source": [
    "import quimb.tensor as qtn\n",
    "import numpy as np\n",
    "from weights import ch_weight,sh_weight\n",
    "from transformations import s_transform\n",
    "from mps_generators import kraus_mps\n",
    "import torch\n"
   ]
  },
  {
   "cell_type": "code",
   "execution_count": 7,
   "metadata": {},
   "outputs": [],
   "source": [
    "\n",
    "use_torch=True\n",
    "\n",
    "\n",
    "L=20 #use even numbers\n",
    "J=1\n",
    "h=1.5\n",
    "tol=1e-8\n",
    "delta_t=.08\n",
    "final_t=3.2\n",
    "a=33 #0.05 33 #0.1 #32\n",
    "num_steps=int(final_t/delta_t)\n"
   ]
  },
  {
   "cell_type": "code",
   "execution_count": 8,
   "metadata": {},
   "outputs": [],
   "source": [
    "\n",
    "options={}\n",
    "options['split_opts']={'method':'svd','cutoff':tol,'cutoff_mode':'rel','max_bond':100}\n",
    "options['tebd_opts']={'tol':tol,'order':4,'progbar':False}\n",
    "options['comp_opts']={'method':'svd','cutoff':tol,'cutoff_mode':'rel'}\n",
    "\n",
    "\n"
   ]
  },
  {
   "cell_type": "code",
   "execution_count": 9,
   "metadata": {},
   "outputs": [],
   "source": [
    "\n",
    "I=np.eye(2)\n",
    "X=np.array([[0,1],[1,0]])\n",
    "Z=np.array([[1,0],[0,-1]])\n",
    "\n",
    "h2=-J*(np.kron(np.kron(Z,I),np.kron(Z,I))-np.kron(np.kron(I,Z),np.kron(I,Z)))\n",
    "h1=h*(np.kron(X,I)-np.kron(I,X))\n",
    "\n",
    "ham_tp=qtn.LocalHam1D(L,H2=h2,H1=h1,cyclic=False)\n",
    "ham_tm=qtn.LocalHam1D(L,H2=-h2,H1=-h1,cyclic=False)\n",
    "kraus=kraus_mps(Z,int(L/2),L)\n",
    "weight_func=lambda x: sh_weight(x,a)\n"
   ]
  },
  {
   "cell_type": "code",
   "execution_count": 10,
   "metadata": {},
   "outputs": [],
   "source": [
    "device = torch.device('cuda' if torch.cuda.is_available() else 'cpu')\n",
    "ham_tp.apply_to_arrays(lambda x: torch.tensor(x,dtype=torch.complex128, device=device))\n",
    "ham_tm.apply_to_arrays(lambda x: torch.tensor(x,dtype=torch.complex128, device=device))"
   ]
  }
 ],
 "metadata": {
  "kernelspec": {
   "display_name": "gibbssampler",
   "language": "python",
   "name": "python3"
  },
  "language_info": {
   "codemirror_mode": {
    "name": "ipython",
    "version": 3
   },
   "file_extension": ".py",
   "mimetype": "text/x-python",
   "name": "python",
   "nbconvert_exporter": "python",
   "pygments_lexer": "ipython3",
   "version": "3.12.8"
  }
 },
 "nbformat": 4,
 "nbformat_minor": 2
}
