{
 "cells": [
  {
   "cell_type": "code",
   "execution_count": 1,
   "metadata": {},
   "outputs": [
    {
     "name": "stderr",
     "output_type": "stream",
     "text": [
      "/home/kabel/miniconda3/envs/gibbssampler/lib/python3.12/site-packages/tqdm/auto.py:21: TqdmWarning: IProgress not found. Please update jupyter and ipywidgets. See https://ipywidgets.readthedocs.io/en/stable/user_install.html\n",
      "  from .autonotebook import tqdm as notebook_tqdm\n"
     ]
    }
   ],
   "source": [
    "import quimb.tensor as qtn\n",
    "import numpy as np\n",
    "from weights import ch_weight,sh_weight\n",
    "from transformations import s_transform\n",
    "from mps_generators import kraus_mps\n",
    "\n",
    "use_torch=True\n",
    "\n",
    "\n",
    "L=20 #use even numbers\n",
    "J=1\n",
    "h=1.5\n",
    "tol=1e-8\n",
    "delta_t=.08\n",
    "final_t=3.2\n",
    "a=33 #0.05 33 #0.1 #32\n",
    "num_steps=int(final_t/delta_t)\n",
    "\n",
    "options={}\n",
    "options['split_opts']={'method':'svd','cutoff':tol,'cutoff_mode':'rel','max_bond':100}\n",
    "options['tebd_opts']={'tol':tol,'order':4,'progbar':False}\n",
    "options['comp_opts']={'method':'svd','cutoff':tol,'cutoff_mode':'rel'}\n",
    "\n",
    "\n",
    "\n",
    "I=np.eye(2)\n",
    "X=np.array([[0,1],[1,0]])\n",
    "Z=np.array([[1,0],[0,-1]])\n",
    "\n",
    "h2=-J*(np.kron(np.kron(Z,I),np.kron(Z,I))-np.kron(np.kron(I,Z),np.kron(I,Z)))\n",
    "h1=h*(np.kron(X,I)-np.kron(I,X))\n",
    "\n",
    "ham_tp=qtn.LocalHam1D(L,H2=h2,H1=h1,cyclic=False)\n",
    "ham_tm=qtn.LocalHam1D(L,H2=-h2,H1=-h1,cyclic=False)\n",
    "kraus=kraus_mps(Z,int(L/2),L)\n",
    "weight_func=lambda x: sh_weight(x,a)\n",
    "sa=s_transform(kraus,weight_func,delta_t,num_steps,ham_tp,ham_tm,use_torch=use_torch**options)\n"
   ]
  },
  {
   "cell_type": "markdown",
   "metadata": {},
   "source": [
    "[4,14.7],[6,21.9],[8,33.8],[10,41.3],[12,53.7],[14,62.6],[16,72.2],[18,82.4],[20,84,2],[22,102.6]"
   ]
  },
  {
   "cell_type": "markdown",
   "metadata": {},
   "source": [
    "[4,7.3],[6,11.7],[8,13.5],[10,19.1],[12,22.8],[14,26.8],[16,30.3],[18,36.3],[20,34.6],[22,39.8]"
   ]
  }
 ],
 "metadata": {
  "kernelspec": {
   "display_name": "gibbssampler",
   "language": "python",
   "name": "python3"
  },
  "language_info": {
   "codemirror_mode": {
    "name": "ipython",
    "version": 3
   },
   "file_extension": ".py",
   "mimetype": "text/x-python",
   "name": "python",
   "nbconvert_exporter": "python",
   "pygments_lexer": "ipython3",
   "version": "3.12.8"
  }
 },
 "nbformat": 4,
 "nbformat_minor": 2
}
