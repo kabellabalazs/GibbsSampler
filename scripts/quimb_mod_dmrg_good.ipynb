{
 "cells": [
  {
   "cell_type": "code",
   "execution_count": 26,
   "metadata": {},
   "outputs": [],
   "source": [
    "import quimb.tensor as qtn\n",
    "import quimb as qu\n",
    "from local_discriminant import load_disc_parts, generate_disc_parts\n",
    "from superoperator_dmrg import gibbs_mpo,super_dmrg\n",
    "import os\n",
    "import numpy as np\n"
   ]
  },
  {
   "cell_type": "code",
   "execution_count": 27,
   "metadata": {},
   "outputs": [],
   "source": [
    "\n",
    "h=1.5\n",
    "J=1\n",
    "L=6\n",
    "delta_t=.08\n",
    "final_t=3.2\n",
    "tol=1e-8\n",
    "a=33 #0.05 33 #0.1 #32\n",
    "num_steps=int(final_t/delta_t)\n",
    "\n"
   ]
  },
  {
   "cell_type": "code",
   "execution_count": 28,
   "metadata": {},
   "outputs": [],
   "source": [
    "\n",
    "options={}\n",
    "options['split_opts']={'method':'svd','cutoff':tol,'cutoff_mode':'rel','max_bond':100}\n",
    "options['tebd_opts']={'tol':tol,'order':4,'progbar':False}\n",
    "options['comp_opts']={'method':'svd','cutoff':tol,'cutoff_mode':'rel'}\n"
   ]
  },
  {
   "cell_type": "code",
   "execution_count": 29,
   "metadata": {},
   "outputs": [],
   "source": [
    "\n",
    "I=np.eye(2)\n",
    "X=np.array([[0,1],[1,0]])\n",
    "Y=np.array([[0,-1.j],[1.j,0]])\n",
    "Z=np.array([[1,0],[0,-1]])\n",
    "\n",
    "\n",
    "h2=-J*(np.kron(np.kron(Z,I),np.kron(Z,I))-np.kron(np.kron(I,Z),np.kron(I,Z)))\n",
    "h1=h*(np.kron(X,I)-np.kron(I,X))\n",
    "ham_tp=qtn.LocalHam1D(L,H2=h2,H1=h1,cyclic=False)\n",
    "ham_tm=qtn.LocalHam1D(L,H2=-h2,H1=-h1,cyclic=False) \n",
    "\n"
   ]
  },
  {
   "cell_type": "code",
   "execution_count": 30,
   "metadata": {},
   "outputs": [],
   "source": [
    "\n",
    "lh2=-J*(qu.pauli('Z') & qu.pauli('I')) & (qu.pauli('Z') & qu.pauli('I'))\n",
    "lh1=h*qu.pauli('X') & qu.pauli('I')\n",
    "local_ham=qtn.LocalHam1D(L,H2=lh2,H1=lh1,cyclic=False) \n",
    "rho_g=gibbs_mpo(local_ham,1e-10,options['split_opts'])\n"
   ]
  },
  {
   "cell_type": "code",
   "execution_count": 31,
   "metadata": {},
   "outputs": [
    {
     "name": "stdout",
     "output_type": "stream",
     "text": [
      "Site: x_0\n",
      "sa 0 done\n",
      "scd_p1 0 done\n"
     ]
    },
    {
     "ename": "KeyboardInterrupt",
     "evalue": "",
     "output_type": "error",
     "traceback": [
      "\u001b[0;31m---------------------------------------------------------------------------\u001b[0m",
      "\u001b[0;31mKeyboardInterrupt\u001b[0m                         Traceback (most recent call last)",
      "Cell \u001b[0;32mIn[31], line 10\u001b[0m\n\u001b[1;32m      8\u001b[0m     loaded_scds,loaded_scas\u001b[38;5;241m=\u001b[39mload_disc_parts(folder)\n\u001b[1;32m      9\u001b[0m \u001b[38;5;28;01melse\u001b[39;00m:\n\u001b[0;32m---> 10\u001b[0m     loaded_scds,loaded_scas\u001b[38;5;241m=\u001b[39m\u001b[43mgenerate_disc_parts\u001b[49m\u001b[43m(\u001b[49m\u001b[43mham_tp\u001b[49m\u001b[43m,\u001b[49m\u001b[43mham_tm\u001b[49m\u001b[43m,\u001b[49m\u001b[43mdelta_t\u001b[49m\u001b[43m,\u001b[49m\u001b[43mnum_steps\u001b[49m\u001b[43m,\u001b[49m\u001b[43mjump_ops\u001b[49m\u001b[43m,\u001b[49m\u001b[43mfolder\u001b[49m\u001b[43m)\u001b[49m\n\u001b[1;32m     12\u001b[0m scds\u001b[38;5;241m=\u001b[39m[]\n\u001b[1;32m     13\u001b[0m \u001b[38;5;28;01mfor\u001b[39;00m item \u001b[38;5;129;01min\u001b[39;00m loaded_scds\u001b[38;5;241m.\u001b[39mitems():\n",
      "File \u001b[0;32m~/Python/Repos/GibbsSampler/scripts/local_discriminant.py:85\u001b[0m, in \u001b[0;36mgenerate_disc_parts\u001b[0;34m(ham_tp, ham_tm, delta_t, num_steps, jump_ops, folder, options)\u001b[0m\n\u001b[1;32m     83\u001b[0m \u001b[38;5;28mprint\u001b[39m(\u001b[38;5;124mf\u001b[39m\u001b[38;5;124m'\u001b[39m\u001b[38;5;124mSite: \u001b[39m\u001b[38;5;132;01m{\u001b[39;00mitem[\u001b[38;5;241m0\u001b[39m]\u001b[38;5;132;01m}\u001b[39;00m\u001b[38;5;124m_\u001b[39m\u001b[38;5;132;01m{\u001b[39;00mi\u001b[38;5;132;01m}\u001b[39;00m\u001b[38;5;124m'\u001b[39m)\n\u001b[1;32m     84\u001b[0m \u001b[38;5;66;03m#generate parts\u001b[39;00m\n\u001b[0;32m---> 85\u001b[0m scd_a,sca_a\u001b[38;5;241m=\u001b[39m\u001b[43mdisc_parts\u001b[49m\u001b[43m(\u001b[49m\u001b[43mitem\u001b[49m\u001b[43m[\u001b[49m\u001b[38;5;241;43m1\u001b[39;49m\u001b[43m]\u001b[49m\u001b[43m,\u001b[49m\u001b[43mi\u001b[49m\u001b[43m,\u001b[49m\u001b[43mlength\u001b[49m\u001b[43m,\u001b[49m\u001b[43mdelta_t\u001b[49m\u001b[43m,\u001b[49m\u001b[43mnum_steps\u001b[49m\u001b[43m,\u001b[49m\u001b[43mham_tp\u001b[49m\u001b[43m,\u001b[49m\u001b[43mham_tm\u001b[49m\u001b[43m,\u001b[49m\u001b[43mopts\u001b[49m\u001b[38;5;241;43m=\u001b[39;49m\u001b[43moptions\u001b[49m\u001b[43m,\u001b[49m\u001b[43mgpu\u001b[49m\u001b[38;5;241;43m=\u001b[39;49m\u001b[38;5;28;43;01mFalse\u001b[39;49;00m\u001b[43m)\u001b[49m\n\u001b[1;32m     86\u001b[0m scas[item[\u001b[38;5;241m0\u001b[39m]]\u001b[38;5;241m.\u001b[39mappend(sca_a)\n\u001b[1;32m     87\u001b[0m scds[item[\u001b[38;5;241m0\u001b[39m]]\u001b[38;5;241m.\u001b[39mappend(scd_a)\n",
      "File \u001b[0;32m~/Python/Repos/GibbsSampler/scripts/local_discriminant.py:61\u001b[0m, in \u001b[0;36mdisc_parts\u001b[0;34m(jump_op, site_num, length, delta_t, num_steps, ham_plus, ham_minus, opts, gpu)\u001b[0m\n\u001b[1;32m     58\u001b[0m scd_p1\u001b[38;5;241m=\u001b[39mmps_to_mpo(scd_p1)\n\u001b[1;32m     59\u001b[0m \u001b[38;5;28mprint\u001b[39m(\u001b[38;5;124mf\u001b[39m\u001b[38;5;124m'\u001b[39m\u001b[38;5;124mscd_p1 \u001b[39m\u001b[38;5;132;01m{\u001b[39;00msite_num\u001b[38;5;132;01m}\u001b[39;00m\u001b[38;5;124m done\u001b[39m\u001b[38;5;124m'\u001b[39m)\n\u001b[0;32m---> 61\u001b[0m scasa\u001b[38;5;241m=\u001b[39mmps_to_mpo(\u001b[43ms_transform\u001b[49m\u001b[43m(\u001b[49m\u001b[43masa\u001b[49m\u001b[43m,\u001b[49m\u001b[43mch_weight\u001b[49m\u001b[43m,\u001b[49m\u001b[43mdelta_t\u001b[49m\u001b[43m,\u001b[49m\u001b[43mnum_steps\u001b[49m\u001b[43m,\u001b[49m\u001b[43mham_plus\u001b[49m\u001b[43m,\u001b[49m\u001b[43mham_minus\u001b[49m\u001b[43m,\u001b[49m\u001b[38;5;241;43m*\u001b[39;49m\u001b[38;5;241;43m*\u001b[39;49m\u001b[43mopts\u001b[49m\u001b[43m)\u001b[49m)\n\u001b[1;32m     62\u001b[0m \u001b[38;5;28mprint\u001b[39m(\u001b[38;5;124mf\u001b[39m\u001b[38;5;124m'\u001b[39m\u001b[38;5;124mscasa \u001b[39m\u001b[38;5;132;01m{\u001b[39;00msite_num\u001b[38;5;132;01m}\u001b[39;00m\u001b[38;5;124m done\u001b[39m\u001b[38;5;124m'\u001b[39m)\n\u001b[1;32m     63\u001b[0m sca\u001b[38;5;241m=\u001b[39mmps_to_mpo(s_transform(jump_mps,ch_weight,delta_t,num_steps,ham_plus,ham_minus))\n",
      "File \u001b[0;32m~/Python/Repos/GibbsSampler/scripts/transformations.py:54\u001b[0m, in \u001b[0;36ms_transform\u001b[0;34m(kraus_mps, weight_func, delta_t, num_steps, ham_tp, ham_tm, use_torch, split_opts, tebd_opts, comp_opts)\u001b[0m\n\u001b[1;32m     51\u001b[0m \u001b[38;5;28;01mfor\u001b[39;00m t \u001b[38;5;129;01min\u001b[39;00m times:\n\u001b[1;32m     52\u001b[0m     \u001b[38;5;66;03m#progress_bar(i,num_steps)\u001b[39;00m\n\u001b[1;32m     53\u001b[0m     tebd_plus\u001b[38;5;241m.\u001b[39mupdate_to(t,\u001b[38;5;241m*\u001b[39m\u001b[38;5;241m*\u001b[39mtebd_opts)\n\u001b[0;32m---> 54\u001b[0m     \u001b[43mtebd_minus\u001b[49m\u001b[38;5;241;43m.\u001b[39;49m\u001b[43mupdate_to\u001b[49m\u001b[43m(\u001b[49m\u001b[43mt\u001b[49m\u001b[43m,\u001b[49m\u001b[38;5;241;43m*\u001b[39;49m\u001b[38;5;241;43m*\u001b[39;49m\u001b[43mtebd_opts\u001b[49m\u001b[43m)\u001b[49m\n\u001b[1;32m     55\u001b[0m     summed\u001b[38;5;241m=\u001b[39m(tebd_plus\u001b[38;5;241m.\u001b[39mpt\u001b[38;5;241m*\u001b[39mweight_func(t)\u001b[38;5;241m*\u001b[39mdelta_t)\u001b[38;5;241m.\u001b[39madd_MPS(tebd_minus\u001b[38;5;241m.\u001b[39mpt\u001b[38;5;241m*\u001b[39mweight_func(\u001b[38;5;241m-\u001b[39mt)\u001b[38;5;241m*\u001b[39mdelta_t)\n\u001b[1;32m     56\u001b[0m     summed\u001b[38;5;241m.\u001b[39mcompress(\u001b[38;5;241m*\u001b[39m\u001b[38;5;241m*\u001b[39mcomp_opts)\n",
      "File \u001b[0;32m~/miniconda3/envs/gibbssampler/lib/python3.12/site-packages/quimb/tensor/tensor_1d_tebd.py:511\u001b[0m, in \u001b[0;36mTEBD.update_to\u001b[0;34m(self, T, dt, tol, order, progbar)\u001b[0m\n\u001b[1;32m    507\u001b[0m progbar \u001b[38;5;241m=\u001b[39m continuous_progbar(\u001b[38;5;28mself\u001b[39m\u001b[38;5;241m.\u001b[39mt, T) \u001b[38;5;28;01mif\u001b[39;00m progbar \u001b[38;5;28;01melse\u001b[39;00m \u001b[38;5;28;01mNone\u001b[39;00m\n\u001b[1;32m    509\u001b[0m \u001b[38;5;28;01mwhile\u001b[39;00m \u001b[38;5;28mself\u001b[39m\u001b[38;5;241m.\u001b[39mt \u001b[38;5;241m<\u001b[39m T \u001b[38;5;241m-\u001b[39m \u001b[38;5;28mself\u001b[39m\u001b[38;5;241m.\u001b[39m_dt:\n\u001b[1;32m    510\u001b[0m     \u001b[38;5;66;03m# get closer until we can reach in a single step\u001b[39;00m\n\u001b[0;32m--> 511\u001b[0m     \u001b[38;5;28;43mself\u001b[39;49m\u001b[38;5;241;43m.\u001b[39;49m\u001b[43mstep\u001b[49m\u001b[43m(\u001b[49m\u001b[43morder\u001b[49m\u001b[38;5;241;43m=\u001b[39;49m\u001b[43morder\u001b[49m\u001b[43m,\u001b[49m\u001b[43m \u001b[49m\u001b[43mprogbar\u001b[49m\u001b[38;5;241;43m=\u001b[39;49m\u001b[43mprogbar\u001b[49m\u001b[43m,\u001b[49m\u001b[43m \u001b[49m\u001b[43mdt\u001b[49m\u001b[38;5;241;43m=\u001b[39;49m\u001b[38;5;28;43;01mNone\u001b[39;49;00m\u001b[43m,\u001b[49m\u001b[43m \u001b[49m\u001b[43mqueue\u001b[49m\u001b[38;5;241;43m=\u001b[39;49m\u001b[38;5;28;43;01mTrue\u001b[39;49;00m\u001b[43m)\u001b[49m\n\u001b[1;32m    513\u001b[0m \u001b[38;5;66;03m# always perform final sweep with queue draining\u001b[39;00m\n\u001b[1;32m    514\u001b[0m \u001b[38;5;28mself\u001b[39m\u001b[38;5;241m.\u001b[39mstep(order\u001b[38;5;241m=\u001b[39morder, progbar\u001b[38;5;241m=\u001b[39mprogbar, dt\u001b[38;5;241m=\u001b[39mT \u001b[38;5;241m-\u001b[39m \u001b[38;5;28mself\u001b[39m\u001b[38;5;241m.\u001b[39mt, queue\u001b[38;5;241m=\u001b[39m\u001b[38;5;28;01mFalse\u001b[39;00m)\n",
      "File \u001b[0;32m~/miniconda3/envs/gibbssampler/lib/python3.12/site-packages/quimb/tensor/tensor_1d_tebd.py:452\u001b[0m, in \u001b[0;36mTEBD.step\u001b[0;34m(self, order, dt, progbar, **sweep_opts)\u001b[0m\n\u001b[1;32m    450\u001b[0m \u001b[38;5;28;01mdef\u001b[39;00m\u001b[38;5;250m \u001b[39m\u001b[38;5;21mstep\u001b[39m(\u001b[38;5;28mself\u001b[39m, order\u001b[38;5;241m=\u001b[39m\u001b[38;5;241m2\u001b[39m, dt\u001b[38;5;241m=\u001b[39m\u001b[38;5;28;01mNone\u001b[39;00m, progbar\u001b[38;5;241m=\u001b[39m\u001b[38;5;28;01mNone\u001b[39;00m, \u001b[38;5;241m*\u001b[39m\u001b[38;5;241m*\u001b[39msweep_opts):\n\u001b[1;32m    451\u001b[0m \u001b[38;5;250m    \u001b[39m\u001b[38;5;124;03m\"\"\"Perform a single step of time ``self.dt``.\"\"\"\u001b[39;00m\n\u001b[0;32m--> 452\u001b[0m     \u001b[43m{\u001b[49m\u001b[38;5;241;43m2\u001b[39;49m\u001b[43m:\u001b[49m\u001b[43m \u001b[49m\u001b[38;5;28;43mself\u001b[39;49m\u001b[38;5;241;43m.\u001b[39;49m\u001b[43m_step_order2\u001b[49m\u001b[43m,\u001b[49m\u001b[43m \u001b[49m\u001b[38;5;241;43m4\u001b[39;49m\u001b[43m:\u001b[49m\u001b[43m \u001b[49m\u001b[38;5;28;43mself\u001b[39;49m\u001b[38;5;241;43m.\u001b[39;49m\u001b[43m_step_order4\u001b[49m\u001b[43m}\u001b[49m\u001b[43m[\u001b[49m\u001b[43morder\u001b[49m\u001b[43m]\u001b[49m\u001b[43m(\u001b[49m\n\u001b[1;32m    453\u001b[0m \u001b[43m        \u001b[49m\u001b[43mdt\u001b[49m\u001b[38;5;241;43m=\u001b[39;49m\u001b[43mdt\u001b[49m\u001b[43m,\u001b[49m\u001b[43m \u001b[49m\u001b[38;5;241;43m*\u001b[39;49m\u001b[38;5;241;43m*\u001b[39;49m\u001b[43msweep_opts\u001b[49m\n\u001b[1;32m    454\u001b[0m \u001b[43m    \u001b[49m\u001b[43m)\u001b[49m\n\u001b[1;32m    456\u001b[0m     dt \u001b[38;5;241m=\u001b[39m \u001b[38;5;28mself\u001b[39m\u001b[38;5;241m.\u001b[39m_dt \u001b[38;5;28;01mif\u001b[39;00m dt \u001b[38;5;129;01mis\u001b[39;00m \u001b[38;5;28;01mNone\u001b[39;00m \u001b[38;5;28;01melse\u001b[39;00m dt\n\u001b[1;32m    457\u001b[0m     \u001b[38;5;28mself\u001b[39m\u001b[38;5;241m.\u001b[39mt \u001b[38;5;241m+\u001b[39m\u001b[38;5;241m=\u001b[39m dt\n",
      "File \u001b[0;32m~/miniconda3/envs/gibbssampler/lib/python3.12/site-packages/quimb/tensor/tensor_1d_tebd.py:446\u001b[0m, in \u001b[0;36mTEBD._step_order4\u001b[0;34m(self, **sweep_opts)\u001b[0m\n\u001b[1;32m    444\u001b[0m \u001b[38;5;28mself\u001b[39m\u001b[38;5;241m.\u001b[39m_step_order2(tau1, \u001b[38;5;241m*\u001b[39m\u001b[38;5;241m*\u001b[39msweep_opts)\n\u001b[1;32m    445\u001b[0m \u001b[38;5;28mself\u001b[39m\u001b[38;5;241m.\u001b[39m_step_order2(tau2, \u001b[38;5;241m*\u001b[39m\u001b[38;5;241m*\u001b[39msweep_opts)\n\u001b[0;32m--> 446\u001b[0m \u001b[38;5;28;43mself\u001b[39;49m\u001b[38;5;241;43m.\u001b[39;49m\u001b[43m_step_order2\u001b[49m\u001b[43m(\u001b[49m\u001b[43mtau3\u001b[49m\u001b[43m,\u001b[49m\u001b[43m \u001b[49m\u001b[38;5;241;43m*\u001b[39;49m\u001b[38;5;241;43m*\u001b[39;49m\u001b[43msweep_opts\u001b[49m\u001b[43m)\u001b[49m\n\u001b[1;32m    447\u001b[0m \u001b[38;5;28mself\u001b[39m\u001b[38;5;241m.\u001b[39m_step_order2(tau2, \u001b[38;5;241m*\u001b[39m\u001b[38;5;241m*\u001b[39msweep_opts)\n\u001b[1;32m    448\u001b[0m \u001b[38;5;28mself\u001b[39m\u001b[38;5;241m.\u001b[39m_step_order2(tau1, \u001b[38;5;241m*\u001b[39m\u001b[38;5;241m*\u001b[39msweep_opts)\n",
      "File \u001b[0;32m~/miniconda3/envs/gibbssampler/lib/python3.12/site-packages/quimb/tensor/tensor_1d_tebd.py:437\u001b[0m, in \u001b[0;36mTEBD._step_order2\u001b[0;34m(self, tau, **sweep_opts)\u001b[0m\n\u001b[1;32m    435\u001b[0m \u001b[38;5;250m\u001b[39m\u001b[38;5;124;03m\"\"\"Perform a single, second order step.\"\"\"\u001b[39;00m\n\u001b[1;32m    436\u001b[0m \u001b[38;5;28mself\u001b[39m\u001b[38;5;241m.\u001b[39msweep(\u001b[38;5;124m\"\u001b[39m\u001b[38;5;124mright\u001b[39m\u001b[38;5;124m\"\u001b[39m, tau \u001b[38;5;241m/\u001b[39m \u001b[38;5;241m2\u001b[39m, \u001b[38;5;241m*\u001b[39m\u001b[38;5;241m*\u001b[39msweep_opts)\n\u001b[0;32m--> 437\u001b[0m \u001b[38;5;28;43mself\u001b[39;49m\u001b[38;5;241;43m.\u001b[39;49m\u001b[43msweep\u001b[49m\u001b[43m(\u001b[49m\u001b[38;5;124;43m\"\u001b[39;49m\u001b[38;5;124;43mleft\u001b[39;49m\u001b[38;5;124;43m\"\u001b[39;49m\u001b[43m,\u001b[49m\u001b[43m \u001b[49m\u001b[43mtau\u001b[49m\u001b[43m,\u001b[49m\u001b[43m \u001b[49m\u001b[38;5;241;43m*\u001b[39;49m\u001b[38;5;241;43m*\u001b[39;49m\u001b[43msweep_opts\u001b[49m\u001b[43m)\u001b[49m\n\u001b[1;32m    438\u001b[0m \u001b[38;5;28mself\u001b[39m\u001b[38;5;241m.\u001b[39msweep(\u001b[38;5;124m\"\u001b[39m\u001b[38;5;124mright\u001b[39m\u001b[38;5;124m\"\u001b[39m, tau \u001b[38;5;241m/\u001b[39m \u001b[38;5;241m2\u001b[39m, \u001b[38;5;241m*\u001b[39m\u001b[38;5;241m*\u001b[39msweep_opts)\n",
      "File \u001b[0;32m~/miniconda3/envs/gibbssampler/lib/python3.12/site-packages/quimb/tensor/tensor_1d_tebd.py:384\u001b[0m, in \u001b[0;36mTEBD.sweep\u001b[0;34m(self, direction, dt_frac, dt, queue)\u001b[0m\n\u001b[1;32m    382\u001b[0m     U \u001b[38;5;241m=\u001b[39m \u001b[38;5;28mself\u001b[39m\u001b[38;5;241m.\u001b[39m_get_gate_from_ham(dt_frac, sites)\n\u001b[1;32m    383\u001b[0m     \u001b[38;5;28mself\u001b[39m\u001b[38;5;241m.\u001b[39m_pt\u001b[38;5;241m.\u001b[39mleft_canonize(start\u001b[38;5;241m=\u001b[39m\u001b[38;5;28mmax\u001b[39m(\u001b[38;5;241m0\u001b[39m, i \u001b[38;5;241m-\u001b[39m \u001b[38;5;241m1\u001b[39m), stop\u001b[38;5;241m=\u001b[39mi)\n\u001b[0;32m--> 384\u001b[0m     \u001b[38;5;28;43mself\u001b[39;49m\u001b[38;5;241;43m.\u001b[39;49m\u001b[43m_pt\u001b[49m\u001b[38;5;241;43m.\u001b[39;49m\u001b[43mgate_split_\u001b[49m\u001b[43m(\u001b[49m\n\u001b[1;32m    385\u001b[0m \u001b[43m        \u001b[49m\u001b[43mU\u001b[49m\u001b[43m,\u001b[49m\u001b[43m \u001b[49m\u001b[43mwhere\u001b[49m\u001b[38;5;241;43m=\u001b[39;49m\u001b[43msites\u001b[49m\u001b[43m,\u001b[49m\u001b[43m \u001b[49m\u001b[43mabsorb\u001b[49m\u001b[38;5;241;43m=\u001b[39;49m\u001b[38;5;124;43m\"\u001b[39;49m\u001b[38;5;124;43mright\u001b[39;49m\u001b[38;5;124;43m\"\u001b[39;49m\u001b[43m,\u001b[49m\u001b[43m \u001b[49m\u001b[38;5;241;43m*\u001b[39;49m\u001b[38;5;241;43m*\u001b[39;49m\u001b[38;5;28;43mself\u001b[39;49m\u001b[38;5;241;43m.\u001b[39;49m\u001b[43msplit_opts\u001b[49m\n\u001b[1;32m    386\u001b[0m \u001b[43m    \u001b[49m\u001b[43m)\u001b[49m\n\u001b[1;32m    388\u001b[0m \u001b[38;5;28;01mif\u001b[39;00m \u001b[38;5;28mself\u001b[39m\u001b[38;5;241m.\u001b[39mL \u001b[38;5;241m%\u001b[39m \u001b[38;5;241m2\u001b[39m \u001b[38;5;241m==\u001b[39m \u001b[38;5;241m1\u001b[39m:\n\u001b[1;32m    389\u001b[0m     \u001b[38;5;28mself\u001b[39m\u001b[38;5;241m.\u001b[39m_pt\u001b[38;5;241m.\u001b[39mleft_canonize_site(\u001b[38;5;28mself\u001b[39m\u001b[38;5;241m.\u001b[39mL \u001b[38;5;241m-\u001b[39m \u001b[38;5;241m2\u001b[39m)\n",
      "File \u001b[0;32m~/miniconda3/envs/gibbssampler/lib/python3.12/site-packages/quimb/tensor/tensor_1d.py:1901\u001b[0m, in \u001b[0;36mMatrixProductState.gate_split\u001b[0;34m(self, G, where, inplace, **compress_opts)\u001b[0m\n\u001b[1;32m   1899\u001b[0m ix_i, ix_j \u001b[38;5;241m=\u001b[39m \u001b[38;5;28mmap\u001b[39m(\u001b[38;5;28mself\u001b[39m\u001b[38;5;241m.\u001b[39msite_ind, where)\n\u001b[1;32m   1900\u001b[0m \u001b[38;5;66;03m# note that 'reduce-split' is unecessary: tensors have ndim<=3\u001b[39;00m\n\u001b[0;32m-> 1901\u001b[0m \u001b[38;5;28;01mreturn\u001b[39;00m \u001b[38;5;28;43mself\u001b[39;49m\u001b[38;5;241;43m.\u001b[39;49m\u001b[43mgate_inds\u001b[49m\u001b[43m(\u001b[49m\n\u001b[1;32m   1902\u001b[0m \u001b[43m    \u001b[49m\u001b[43mG\u001b[49m\u001b[43m,\u001b[49m\u001b[43m \u001b[49m\u001b[43m(\u001b[49m\u001b[43mix_i\u001b[49m\u001b[43m,\u001b[49m\u001b[43m \u001b[49m\u001b[43mix_j\u001b[49m\u001b[43m)\u001b[49m\u001b[43m,\u001b[49m\u001b[43m \u001b[49m\u001b[43mcontract\u001b[49m\u001b[38;5;241;43m=\u001b[39;49m\u001b[38;5;124;43m\"\u001b[39;49m\u001b[38;5;124;43msplit\u001b[39;49m\u001b[38;5;124;43m\"\u001b[39;49m\u001b[43m,\u001b[49m\u001b[43m \u001b[49m\u001b[43minplace\u001b[49m\u001b[38;5;241;43m=\u001b[39;49m\u001b[43minplace\u001b[49m\u001b[43m,\u001b[49m\u001b[43m \u001b[49m\u001b[38;5;241;43m*\u001b[39;49m\u001b[38;5;241;43m*\u001b[39;49m\u001b[43mcompress_opts\u001b[49m\n\u001b[1;32m   1903\u001b[0m \u001b[43m\u001b[49m\u001b[43m)\u001b[49m\n",
      "\u001b[0;31mKeyboardInterrupt\u001b[0m: "
     ]
    }
   ],
   "source": [
    "\n",
    "jump_ops={'x':X,'z':Z}\n",
    "#initialize the density matrix\n",
    "\n",
    "#construct the discriminant: Disc = Sc[A][.]Sc[A]^dag-Sc[D][.]-[.]Sc[D]\n",
    "folder=f'../DATA/tfim_J{J}_h{h}_L{L}_{''.join(jump_ops.keys())}/'\n",
    "    \n",
    "if os.path.exists(folder):\n",
    "    loaded_scds,loaded_scas=load_disc_parts(folder)\n",
    "else:\n",
    "    loaded_scds,loaded_scas=generate_disc_parts(ham_tp,ham_tm,delta_t,num_steps,jump_ops,folder)\n",
    "\n",
    "scds=[]\n",
    "for item in loaded_scds.items():\n",
    "    scds+=item[1]\n",
    "scas=[]\n",
    "for item in loaded_scas.items():\n",
    "    scas+=item[1]\n",
    "lscds=[-1*scd.copy() for scd in scds]\n",
    "rscds=[-1*scd.copy() for scd in scds]\n",
    "lscas=[sca.copy() for sca in scas]\n",
    "rscas=[sca.copy() for sca in scas]\n",
    "\n",
    "left_mpos=lscas+lscds+[scds[0].identity()]*len(lscds)\n",
    "right_mpos=rscas+[scds[0].identity()]*len(lscds)+rscds\n",
    "\n",
    "\n",
    "rho0=scas[0].identity().left_canonize()\n",
    "rho0=qtn.MatrixProductOperator(rho0.arrays, upper_ind_id='c{}', lower_ind_id='d{}', tags='rho',shape='lrud')\n"
   ]
  },
  {
   "cell_type": "code",
   "execution_count": null,
   "metadata": {},
   "outputs": [
    {
     "name": "stdout",
     "output_type": "stream",
     "text": [
      "\n",
      "right_sweep:  0\n",
      "50%|■■■■■■■■■■□□□□□□□□□□|\n",
      "left_sweep:  0\n",
      "50%|■■■■■■■■■■□□□□□□□□□□||\n",
      " -0.2912212058970853\n",
      "\n",
      "right_sweep:  1\n",
      "50%|■■■■■■■■■■□□□□□□□□□□|\n",
      "left_sweep:  1\n",
      "50%|■■■■■■■■■■□□□□□□□□□□||\n",
      " -0.28812759851677516\n",
      "\n",
      "right_sweep:  2\n",
      "50%|■■■■■■■■■■□□□□□□□□□□|\n",
      "left_sweep:  2\n",
      "50%|■■■■■■■■■■□□□□□□□□□□||\n",
      " -0.28812759851677516\n",
      "\n",
      "right_sweep:  3\n",
      "50%|■■■■■■■■■■□□□□□□□□□□|\n",
      "left_sweep:  3\n",
      "50%|■■■■■■■■■■□□□□□□□□□□||\n",
      " -0.2881275985167757\n",
      "\n",
      "right_sweep:  4\n",
      "50%|■■■■■■■■■■□□□□□□□□□□|\n",
      "left_sweep:  4\n",
      "50%|■■■■■■■■■■□□□□□□□□□□||\n",
      " -0.28812759851677566\n"
     ]
    }
   ],
   "source": [
    "\n",
    "N=5\n",
    "tol=1e-6\n",
    "eval,rho=super_dmrg(rho0,left_mpos,right_mpos,rho_g,N,tol,which_eval='LA')"
   ]
  }
 ],
 "metadata": {
  "kernelspec": {
   "display_name": "gibbssampler",
   "language": "python",
   "name": "python3"
  },
  "language_info": {
   "codemirror_mode": {
    "name": "ipython",
    "version": 3
   },
   "file_extension": ".py",
   "mimetype": "text/x-python",
   "name": "python",
   "nbconvert_exporter": "python",
   "pygments_lexer": "ipython3",
   "version": "3.12.8"
  }
 },
 "nbformat": 4,
 "nbformat_minor": 2
}
