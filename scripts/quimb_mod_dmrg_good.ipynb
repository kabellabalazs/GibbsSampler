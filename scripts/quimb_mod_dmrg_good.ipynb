{
 "cells": [
  {
   "cell_type": "code",
   "execution_count": 1,
   "metadata": {},
   "outputs": [],
   "source": [
    "import quimb.tensor as qtn\n",
    "import quimb as qu\n",
    "from local_discriminant import load_disc_parts, generate_disc_parts\n",
    "from superoperator_dmrg import gibbs_mpo,super_dmrg\n",
    "import os\n",
    "import numpy as np\n"
   ]
  },
  {
   "cell_type": "code",
   "execution_count": 2,
   "metadata": {},
   "outputs": [],
   "source": [
    "\n",
    "h=1.5\n",
    "J=1\n",
    "L=4\n",
    "delta_t=.08\n",
    "final_t=3.2 #max integration time\n",
    "tol=1e-8\n",
    "a=33 #0.05 33 #0.1 #32\n",
    "num_steps=int(final_t/delta_t)\n"
   ]
  },
  {
   "cell_type": "code",
   "execution_count": 3,
   "metadata": {},
   "outputs": [],
   "source": [
    "\n",
    "options={}\n",
    "options['split_opts']={'method':'svd','cutoff':tol,'cutoff_mode':'rel','max_bond':100}\n",
    "options['tebd_opts']={'tol':tol,'order':4,'progbar':False}\n",
    "options['comp_opts']={'method':'svd','cutoff':tol,'cutoff_mode':'rel'}\n"
   ]
  },
  {
   "cell_type": "code",
   "execution_count": 4,
   "metadata": {},
   "outputs": [],
   "source": [
    "\n",
    "I=np.eye(2)\n",
    "X=np.array([[0,1],[1,0]])\n",
    "Y=np.array([[0,-1j],[1j,0]])\n",
    "Z=np.array([[1,0],[0,-1]])\n",
    "\n",
    "\n",
    "h2=-J*(np.kron(np.kron(Z,I),np.kron(Z,I))-np.kron(np.kron(I,Z),np.kron(I,Z)))\n",
    "h1=h*(np.kron(X,I)-np.kron(I,X))\n",
    "ham_tp=qtn.LocalHam1D(L,H2=h2,H1=h1,cyclic=False)\n",
    "ham_tm=qtn.LocalHam1D(L,H2=-h2,H1=-h1,cyclic=False) \n",
    "\n",
    "\n"
   ]
  },
  {
   "cell_type": "code",
   "execution_count": 5,
   "metadata": {},
   "outputs": [],
   "source": [
    "\n",
    "lh2=-J*(qu.pauli('Z') & qu.pauli('I')) & (qu.pauli('Z') & qu.pauli('I'))\n",
    "lh1=h*qu.pauli('X') & qu.pauli('I')\n",
    "local_ham=qtn.LocalHam1D(L,H2=lh2,H1=lh1,cyclic=False) \n",
    "rho_g=gibbs_mpo(local_ham,1e-10,options['split_opts'])\n"
   ]
  },
  {
   "cell_type": "code",
   "execution_count": 6,
   "metadata": {},
   "outputs": [
    {
     "name": "stdout",
     "output_type": "stream",
     "text": [
      "Site: x_0\n",
      "sa 0 done\n",
      "scd_p1 0 done\n",
      "scasa 0 done\n",
      "scasca 0 done\n",
      "Site: y_0\n",
      "sa 0 done\n",
      "scd_p1 0 done\n",
      "scasa 0 done\n",
      "scasca 0 done\n",
      "Site: z_0\n",
      "sa 0 done\n",
      "scd_p1 0 done\n",
      "scasa 0 done\n",
      "scasca 0 done\n",
      "Site: x_1\n",
      "sa 1 done\n",
      "scd_p1 1 done\n",
      "scasa 1 done\n",
      "scasca 1 done\n",
      "Site: y_1\n",
      "sa 1 done\n",
      "scd_p1 1 done\n",
      "scasa 1 done\n",
      "scasca 1 done\n",
      "Site: z_1\n",
      "sa 1 done\n",
      "scd_p1 1 done\n",
      "scasa 1 done\n",
      "scasca 1 done\n"
     ]
    }
   ],
   "source": [
    "\n",
    "jump_ops={'x':X,'y':Y,'z':Z}#, 'y':Y}\n",
    "#initialize the density matrix\n",
    "\n",
    "#construct the discriminant: Disc = Sc[A][.]Sc[A]^dag-Sc[D][.]-[.]Sc[D]\n",
    "folder=f'../DATA/tfim_J{J}_h{h}_L{L}_{''.join(jump_ops.keys())}/'\n",
    "    \n",
    "if os.path.exists(folder):\n",
    "    loaded_scds,loaded_scas=load_disc_parts(folder)\n",
    "else:\n",
    "    loaded_scds,loaded_scas=generate_disc_parts(ham_tp,ham_tm,delta_t,num_steps,jump_ops,folder)\n",
    "\n",
    "scds=[]\n",
    "for item in loaded_scds.items():\n",
    "    scds+=item[1]\n",
    "scas=[]\n",
    "for item in loaded_scas.items():\n",
    "    scas+=item[1]\n",
    "lscds=[-1*scd.copy() for scd in scds]\n",
    "rscds=[-1*scd.copy() for scd in scds]\n",
    "lscas=[sca.copy() for sca in scas]\n",
    "rscas=[sca.copy() for sca in scas]\n",
    "\n",
    "left_mpos=lscas+lscds+[scds[0].identity()]*len(lscds)\n",
    "right_mpos=rscas+[scds[0].identity()]*len(lscds)+rscds\n",
    "\n",
    "\n",
    "rho0=scas[0].identity().left_canonize()\n",
    "rho0=qtn.MatrixProductOperator(rho0.arrays, upper_ind_id='c{}', lower_ind_id='d{}', tags='rho',shape='lrud')\n"
   ]
  },
  {
   "cell_type": "code",
   "execution_count": 7,
   "metadata": {},
   "outputs": [
    {
     "name": "stdout",
     "output_type": "stream",
     "text": [
      "\n",
      "right_sweep:  0\n",
      "50%|■■■■■■■■■■□□□□□□□□□□|\n",
      "left_sweep:  0\n",
      "50%|■■■■■■■■■■□□□□□□□□□□||\n",
      " -1.0697699029393881e-07\n",
      "\n",
      "right_sweep:  1\n",
      "50%|■■■■■■■■■■□□□□□□□□□□|\n",
      "left_sweep:  1\n",
      "50%|■■■■■■■■■■□□□□□□□□□□||\n",
      " -0.5014415724080754\n",
      "\n",
      "right_sweep:  2\n",
      "50%|■■■■■■■■■■□□□□□□□□□□|\n",
      "left_sweep:  2\n",
      "50%|■■■■■■■■■■□□□□□□□□□□||\n",
      " -0.5014415724080762\n",
      "\n",
      "right_sweep:  3\n",
      "50%|■■■■■■■■■■□□□□□□□□□□|\n",
      "left_sweep:  3\n",
      "50%|■■■■■■■■■■□□□□□□□□□□||\n",
      " -0.501441572408077\n",
      "\n",
      "right_sweep:  4\n",
      "50%|■■■■■■■■■■□□□□□□□□□□|\n",
      "left_sweep:  4\n",
      "50%|■■■■■■■■■■□□□□□□□□□□||\n",
      " -0.5014415724080761\n"
     ]
    }
   ],
   "source": [
    "\n",
    "N=5\n",
    "tol=1e-6\n",
    "eval,rho=super_dmrg(rho0,left_mpos,right_mpos,rho_g,N,tol,which_eval='LA')"
   ]
  }
 ],
 "metadata": {
  "kernelspec": {
   "display_name": "gibbssampler",
   "language": "python",
   "name": "python3"
  },
  "language_info": {
   "codemirror_mode": {
    "name": "ipython",
    "version": 3
   },
   "file_extension": ".py",
   "mimetype": "text/x-python",
   "name": "python",
   "nbconvert_exporter": "python",
   "pygments_lexer": "ipython3",
   "version": "3.12.8"
  }
 },
 "nbformat": 4,
 "nbformat_minor": 2
}
