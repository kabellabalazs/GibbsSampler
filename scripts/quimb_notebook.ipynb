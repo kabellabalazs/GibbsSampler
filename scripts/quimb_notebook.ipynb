{
 "cells": [
  {
   "cell_type": "code",
   "execution_count": 173,
   "metadata": {},
   "outputs": [],
   "source": [
    "import quimb.tensor as qtn\n",
    "import numpy as np\n",
    "from local_discriminant import disc_parts\n",
    "import pickle\n",
    "from options import options\n",
    "import os\n"
   ]
  },
  {
   "cell_type": "markdown",
   "metadata": {},
   "source": [
    "define S-transform\n",
    "\n",
    "get disc parts\n",
    "\n",
    "Generate gibbs state (imag time evo/ dmrg)\n",
    "\n",
    "Define linear operator from fmrg like contaction (check for center of orthogonalities, to avoid full contraction)\n",
    "\n",
    "project out the gibbs state\n",
    "\n",
    "use iterative eigen solver\n"
   ]
  },
  {
   "cell_type": "markdown",
   "metadata": {},
   "source": [
    "Tasks\n",
    "\n",
    "Easy backand switching (cpu, gpu) or (torch, cuda, numpy)\n",
    "\n",
    "Find out how quimb linear operators work\n",
    "\n",
    "COMMENT EVERYTHING"
   ]
  },
  {
   "cell_type": "code",
   "execution_count": 174,
   "metadata": {},
   "outputs": [],
   "source": [
    "def sh_weight(x,a=39):\n",
    "    if x==0:\n",
    "        x=10e-9\n",
    "    return 1.j*(1-np.cos(a*x))/np.sinh(2*np.pi*x)\n",
    "\n",
    "\n",
    "def ch_weight(x):\n",
    "    return 1./np.cosh(2*np.pi*x)"
   ]
  },
  {
   "cell_type": "code",
   "execution_count": 175,
   "metadata": {},
   "outputs": [],
   "source": [
    "def kraus_mps(jump_op,site_number,length):\n",
    "\n",
    "    mps_sites=[np.eye(2).reshape(4)]*length\n",
    "    mps_sites[site_number]=jump_op.reshape(4)\n",
    "    return qtn.MPS_product_state(mps_sites)\n",
    "\n",
    "\n",
    "def id_mps(length):\n",
    "    return qtn.MPS_product_state([np.eye(2).reshape(4)]*length)"
   ]
  },
  {
   "cell_type": "code",
   "execution_count": null,
   "metadata": {},
   "outputs": [],
   "source": [
    "from mpo_utils import mirror_mpo\n",
    "def generate_disc_parts(ham_tp,ham_tm,delta_t,num_steps,jump_ops,folder,options=options):\n",
    "    length=ham_tp.L\n",
    "    scas={key:[] for key in jump_ops}\n",
    "    scds={key:[] for key in jump_ops}\n",
    "    if not os.path.exists(folder):\n",
    "        os.makedirs(folder)\n",
    "    for i in range(int(length/2)):\n",
    "        for item in jump_ops.items():\n",
    "            print(f'Site: {item[0]}_{i}')\n",
    "            #generate parts\n",
    "            scd_a,sca_a=disc_parts(item[1],i,length,delta_t,num_steps,ham_tp,ham_tm,opts=options,gpu=False)\n",
    "            scas[item[0]].append(sca_a)\n",
    "            scds[item[0]].append(scd_a)\n",
    "            #save\n",
    "            with open(folder+f'scas.pkl','wb') as f:\n",
    "                pickle.dump(scas,f)\n",
    "            with open(folder+f'scds.pkl','wb') as f:\n",
    "                pickle.dump(scds,f)\n",
    "    #Mirror the data to get the full system\n",
    "\n",
    "    for item in scas.items():\n",
    "        key=item[0]\n",
    "        lst=item[1]\n",
    "        scas[key]=lst+ [mirror_mpo(sca) for sca in reversed(lst)]\n",
    "    for item in scds.items():\n",
    "        key=item[0]\n",
    "        lst=item[1]\n",
    "        scds[key]=lst+ [mirror_mpo(scd) for scd in reversed(lst)]\n",
    "    with open(folder+f'scas.pkl','wb') as f:\n",
    "        pickle.dump(scas,f)\n",
    "    with open(folder+f'scds.pkl','wb') as f:\n",
    "        pickle.dump(scds,f)\n",
    "    return scds,scas\n",
    "    "
   ]
  },
  {
   "cell_type": "code",
   "execution_count": 177,
   "metadata": {},
   "outputs": [],
   "source": [
    "from mpo_utils import mirror_mpo\n",
    "def load_disc_parts(folder):\n",
    "    \n",
    "    with open(folder+'scas.pkl', 'rb') as file:\n",
    "        scas = pickle.load(file)\n",
    "    with open(folder+'scds.pkl', 'rb') as file:\n",
    "        scds = pickle.load(file)\n",
    "    \n",
    "    return scds,scas"
   ]
  },
  {
   "cell_type": "code",
   "execution_count": null,
   "metadata": {},
   "outputs": [],
   "source": [
    "L=4 #use even numbers\n",
    "J=1\n",
    "h=1.5\n",
    "sv_tol=1e-8\n",
    "delta_t=.08\n",
    "final_t=3.2\n",
    "\n",
    "a=33 #0.05 33 #0.1 #32\n",
    "num_steps=int(final_t/delta_t)\n",
    "\n",
    "\n",
    "I=np.eye(2)\n",
    "X=np.array([[0,1],[1,0]])\n",
    "Y=np.array([[0,-1.j],[1.j,0]])\n",
    "Z=np.array([[1,0],[0,-1]])\n",
    "\n",
    "h2=-J*(np.kron(np.kron(Z,I),np.kron(Z,I))-np.kron(np.kron(I,Z),np.kron(I,Z)))\n",
    "h1=h*(np.kron(X,I)-np.kron(I,X))\n",
    "\n",
    "#ham_tp=qtn.LocalHam1D(L,H2=h2,H1=h1,cyclic=False)\n",
    "#ham_tm=qtn.LocalHam1D(L,H2=-h2,H1=-h1,cyclic=False)\n",
    "\n",
    "weight_func=lambda x: sh_weight(x,a)\n",
    "tol=sv_tol\n",
    "options={}\n",
    "options['split_opts']={'method':'svd','cutoff':tol,'cutoff_mode':'rel','max_bond':100}\n",
    "options['tebd_opts']={'tol':tol,'order':4,'progbar':False}\n",
    "options['comp_opts']={'method':'svd','cutoff':tol,'cutoff_mode':'rel'}\n",
    "\n",
    "paulis={'x':X,'z':Z}"
   ]
  },
  {
   "cell_type": "code",
   "execution_count": 179,
   "metadata": {},
   "outputs": [],
   "source": [
    "ham_tp=qtn.LocalHam1D(L,H2=h2,H1=h1,cyclic=False)\n",
    "ham_tm=qtn.LocalHam1D(L,H2=-h2,H1=-h1,cyclic=False)\n",
    "\n"
   ]
  },
  {
   "cell_type": "code",
   "execution_count": 180,
   "metadata": {},
   "outputs": [
    {
     "name": "stdout",
     "output_type": "stream",
     "text": [
      "Site: x_0\n",
      "sa 0 done\n",
      "scd_p1 0 done\n",
      "scasa 0 done\n",
      "scasca 0 done\n",
      "Site: z_0\n",
      "sa 0 done\n",
      "scd_p1 0 done\n",
      "scasa 0 done\n",
      "scasca 0 done\n",
      "Site: x_1\n",
      "sa 1 done\n",
      "scd_p1 1 done\n",
      "scasa 1 done\n",
      "scasca 1 done\n",
      "Site: z_1\n",
      "sa 1 done\n",
      "scd_p1 1 done\n",
      "scasa 1 done\n",
      "scasca 1 done\n"
     ]
    },
    {
     "data": {
      "text/plain": [
       "({'x': [MatrixProductOperator(tensors=4, indices=11, L=4, max_bond=15),\n",
       "   MatrixProductOperator(tensors=4, indices=11, L=4, max_bond=16),\n",
       "   MatrixProductOperator(tensors=4, indices=11, L=4, max_bond=16),\n",
       "   MatrixProductOperator(tensors=4, indices=11, L=4, max_bond=15)],\n",
       "  'z': [MatrixProductOperator(tensors=4, indices=11, L=4, max_bond=6),\n",
       "   MatrixProductOperator(tensors=4, indices=11, L=4, max_bond=16),\n",
       "   MatrixProductOperator(tensors=4, indices=11, L=4, max_bond=16),\n",
       "   MatrixProductOperator(tensors=4, indices=11, L=4, max_bond=6)]},\n",
       " {'x': [MatrixProductOperator(tensors=4, indices=11, L=4, max_bond=6),\n",
       "   MatrixProductOperator(tensors=4, indices=11, L=4, max_bond=6),\n",
       "   MatrixProductOperator(tensors=4, indices=11, L=4, max_bond=6),\n",
       "   MatrixProductOperator(tensors=4, indices=11, L=4, max_bond=6)],\n",
       "  'z': [MatrixProductOperator(tensors=4, indices=11, L=4, max_bond=2),\n",
       "   MatrixProductOperator(tensors=4, indices=11, L=4, max_bond=10),\n",
       "   MatrixProductOperator(tensors=4, indices=11, L=4, max_bond=10),\n",
       "   MatrixProductOperator(tensors=4, indices=11, L=4, max_bond=2)]})"
      ]
     },
     "execution_count": 180,
     "metadata": {},
     "output_type": "execute_result"
    }
   ],
   "source": [
    "\n",
    "generate_disc_parts(ham_tp,ham_tm,delta_t,num_steps,jump_ops=paulis,name=f'tfim_J{J}_h{h}')"
   ]
  },
  {
   "cell_type": "code",
   "execution_count": null,
   "metadata": {},
   "outputs": [],
   "source": [
    "folder=f'../DATA/tfim_J{J}_h{h}_L{L}_{''.join(jump_ops.keys())}//'\n",
    "scds,scas=load_disc_parts(folder)"
   ]
  },
  {
   "cell_type": "code",
   "execution_count": 182,
   "metadata": {},
   "outputs": [
    {
     "data": {
      "text/plain": [
       "{'x': [MatrixProductOperator(tensors=4, indices=11, L=4, max_bond=15),\n",
       "  MatrixProductOperator(tensors=4, indices=11, L=4, max_bond=16),\n",
       "  MatrixProductOperator(tensors=4, indices=11, L=4, max_bond=16),\n",
       "  MatrixProductOperator(tensors=4, indices=11, L=4, max_bond=15)],\n",
       " 'z': [MatrixProductOperator(tensors=4, indices=11, L=4, max_bond=6),\n",
       "  MatrixProductOperator(tensors=4, indices=11, L=4, max_bond=16),\n",
       "  MatrixProductOperator(tensors=4, indices=11, L=4, max_bond=16),\n",
       "  MatrixProductOperator(tensors=4, indices=11, L=4, max_bond=6)]}"
      ]
     },
     "execution_count": 182,
     "metadata": {},
     "output_type": "execute_result"
    }
   ],
   "source": [
    "scds"
   ]
  },
  {
   "cell_type": "code",
   "execution_count": 183,
   "metadata": {},
   "outputs": [],
   "source": [
    "new_scas=[]\n",
    "for item in scas.items():\n",
    "    new_scas+=item[1]\n",
    "\n"
   ]
  },
  {
   "cell_type": "code",
   "execution_count": 184,
   "metadata": {},
   "outputs": [
    {
     "data": {
      "text/plain": [
       "[MatrixProductOperator(tensors=4, indices=11, L=4, max_bond=6),\n",
       " MatrixProductOperator(tensors=4, indices=11, L=4, max_bond=6),\n",
       " MatrixProductOperator(tensors=4, indices=11, L=4, max_bond=6),\n",
       " MatrixProductOperator(tensors=4, indices=11, L=4, max_bond=6),\n",
       " MatrixProductOperator(tensors=4, indices=11, L=4, max_bond=2),\n",
       " MatrixProductOperator(tensors=4, indices=11, L=4, max_bond=10),\n",
       " MatrixProductOperator(tensors=4, indices=11, L=4, max_bond=10),\n",
       " MatrixProductOperator(tensors=4, indices=11, L=4, max_bond=2)]"
      ]
     },
     "execution_count": 184,
     "metadata": {},
     "output_type": "execute_result"
    }
   ],
   "source": [
    "new_scas"
   ]
  },
  {
   "cell_type": "markdown",
   "metadata": {},
   "source": []
  }
 ],
 "metadata": {
  "kernelspec": {
   "display_name": "gibbssampler",
   "language": "python",
   "name": "python3"
  },
  "language_info": {
   "codemirror_mode": {
    "name": "ipython",
    "version": 3
   },
   "file_extension": ".py",
   "mimetype": "text/x-python",
   "name": "python",
   "nbconvert_exporter": "python",
   "pygments_lexer": "ipython3",
   "version": "3.12.8"
  }
 },
 "nbformat": 4,
 "nbformat_minor": 2
}
