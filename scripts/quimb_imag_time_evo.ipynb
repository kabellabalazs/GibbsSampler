{
 "cells": [
  {
   "cell_type": "code",
   "execution_count": 4,
   "metadata": {},
   "outputs": [],
   "source": [
    "import pickle\n",
    "import numpy as np\n",
    "import quimb.tensor as qtn\n",
    "import quimb as qu\n",
    "import scipy.linalg as la\n",
    "from mpo_utils import mpo_to_mps, mps_to_mpo\n",
    "from exact_construct import create_hamiltonian\n",
    "from scipy.linalg import expm"
   ]
  },
  {
   "cell_type": "code",
   "execution_count": 5,
   "metadata": {},
   "outputs": [],
   "source": [
    "\n",
    "L=6\n",
    "J=1\n",
    "h=1.5\n"
   ]
  },
  {
   "cell_type": "code",
   "execution_count": 6,
   "metadata": {},
   "outputs": [
    {
     "ename": "KeyboardInterrupt",
     "evalue": "",
     "output_type": "error",
     "traceback": [
      "\u001b[0;31m---------------------------------------------------------------------------\u001b[0m",
      "\u001b[0;31mKeyboardInterrupt\u001b[0m                         Traceback (most recent call last)",
      "Cell \u001b[0;32mIn[6], line 13\u001b[0m\n\u001b[1;32m     11\u001b[0m     rho\u001b[38;5;241m=\u001b[39mrho\u001b[38;5;241m*\u001b[39m(\u001b[38;5;241m1\u001b[39m\u001b[38;5;241m/\u001b[39mrho\u001b[38;5;241m.\u001b[39mtrace())\n\u001b[1;32m     12\u001b[0m     \u001b[38;5;28;01mreturn\u001b[39;00m rho\n\u001b[0;32m---> 13\u001b[0m rho\u001b[38;5;241m=\u001b[39m\u001b[43mgibbs_mpo\u001b[49m\u001b[43m(\u001b[49m\u001b[43mlocal_ham\u001b[49m\u001b[43m,\u001b[49m\u001b[38;5;241;43m1e-10\u001b[39;49m\u001b[43m,\u001b[49m\u001b[43msplit_opts\u001b[49m\u001b[43m)\u001b[49m\n",
      "Cell \u001b[0;32mIn[6], line 9\u001b[0m, in \u001b[0;36mgibbs_mpo\u001b[0;34m(local_ham, tebd_tol, split_opts)\u001b[0m\n\u001b[1;32m      7\u001b[0m rho0\u001b[38;5;241m=\u001b[39mqtn\u001b[38;5;241m.\u001b[39mMPS_product_state([np\u001b[38;5;241m.\u001b[39meye(\u001b[38;5;241m2\u001b[39m)]\u001b[38;5;241m*\u001b[39mL)\n\u001b[1;32m      8\u001b[0m tebd\u001b[38;5;241m=\u001b[39mqtn\u001b[38;5;241m.\u001b[39mTEBD(rho0,local_ham,imag\u001b[38;5;241m=\u001b[39m\u001b[38;5;28;01mTrue\u001b[39;00m,progbar\u001b[38;5;241m=\u001b[39m\u001b[38;5;28;01mFalse\u001b[39;00m,split_opts\u001b[38;5;241m=\u001b[39msplit_opts)\n\u001b[0;32m----> 9\u001b[0m \u001b[43mtebd\u001b[49m\u001b[38;5;241;43m.\u001b[39;49m\u001b[43mupdate_to\u001b[49m\u001b[43m(\u001b[49m\u001b[38;5;241;43m1\u001b[39;49m\u001b[43m,\u001b[49m\u001b[43mtol\u001b[49m\u001b[38;5;241;43m=\u001b[39;49m\u001b[43mtebd_tol\u001b[49m\u001b[43m)\u001b[49m\n\u001b[1;32m     10\u001b[0m rho\u001b[38;5;241m=\u001b[39mmps_to_mpo(tebd\u001b[38;5;241m.\u001b[39mpt)\n\u001b[1;32m     11\u001b[0m rho\u001b[38;5;241m=\u001b[39mrho\u001b[38;5;241m*\u001b[39m(\u001b[38;5;241m1\u001b[39m\u001b[38;5;241m/\u001b[39mrho\u001b[38;5;241m.\u001b[39mtrace())\n",
      "File \u001b[0;32m~/miniconda3/envs/gibbssampler/lib/python3.12/site-packages/quimb/tensor/tensor_1d_tebd.py:511\u001b[0m, in \u001b[0;36mTEBD.update_to\u001b[0;34m(self, T, dt, tol, order, progbar)\u001b[0m\n\u001b[1;32m    507\u001b[0m progbar \u001b[38;5;241m=\u001b[39m continuous_progbar(\u001b[38;5;28mself\u001b[39m\u001b[38;5;241m.\u001b[39mt, T) \u001b[38;5;28;01mif\u001b[39;00m progbar \u001b[38;5;28;01melse\u001b[39;00m \u001b[38;5;28;01mNone\u001b[39;00m\n\u001b[1;32m    509\u001b[0m \u001b[38;5;28;01mwhile\u001b[39;00m \u001b[38;5;28mself\u001b[39m\u001b[38;5;241m.\u001b[39mt \u001b[38;5;241m<\u001b[39m T \u001b[38;5;241m-\u001b[39m \u001b[38;5;28mself\u001b[39m\u001b[38;5;241m.\u001b[39m_dt:\n\u001b[1;32m    510\u001b[0m     \u001b[38;5;66;03m# get closer until we can reach in a single step\u001b[39;00m\n\u001b[0;32m--> 511\u001b[0m     \u001b[38;5;28;43mself\u001b[39;49m\u001b[38;5;241;43m.\u001b[39;49m\u001b[43mstep\u001b[49m\u001b[43m(\u001b[49m\u001b[43morder\u001b[49m\u001b[38;5;241;43m=\u001b[39;49m\u001b[43morder\u001b[49m\u001b[43m,\u001b[49m\u001b[43m \u001b[49m\u001b[43mprogbar\u001b[49m\u001b[38;5;241;43m=\u001b[39;49m\u001b[43mprogbar\u001b[49m\u001b[43m,\u001b[49m\u001b[43m \u001b[49m\u001b[43mdt\u001b[49m\u001b[38;5;241;43m=\u001b[39;49m\u001b[38;5;28;43;01mNone\u001b[39;49;00m\u001b[43m,\u001b[49m\u001b[43m \u001b[49m\u001b[43mqueue\u001b[49m\u001b[38;5;241;43m=\u001b[39;49m\u001b[38;5;28;43;01mTrue\u001b[39;49;00m\u001b[43m)\u001b[49m\n\u001b[1;32m    513\u001b[0m \u001b[38;5;66;03m# always perform final sweep with queue draining\u001b[39;00m\n\u001b[1;32m    514\u001b[0m \u001b[38;5;28mself\u001b[39m\u001b[38;5;241m.\u001b[39mstep(order\u001b[38;5;241m=\u001b[39morder, progbar\u001b[38;5;241m=\u001b[39mprogbar, dt\u001b[38;5;241m=\u001b[39mT \u001b[38;5;241m-\u001b[39m \u001b[38;5;28mself\u001b[39m\u001b[38;5;241m.\u001b[39mt, queue\u001b[38;5;241m=\u001b[39m\u001b[38;5;28;01mFalse\u001b[39;00m)\n",
      "File \u001b[0;32m~/miniconda3/envs/gibbssampler/lib/python3.12/site-packages/quimb/tensor/tensor_1d_tebd.py:452\u001b[0m, in \u001b[0;36mTEBD.step\u001b[0;34m(self, order, dt, progbar, **sweep_opts)\u001b[0m\n\u001b[1;32m    450\u001b[0m \u001b[38;5;28;01mdef\u001b[39;00m\u001b[38;5;250m \u001b[39m\u001b[38;5;21mstep\u001b[39m(\u001b[38;5;28mself\u001b[39m, order\u001b[38;5;241m=\u001b[39m\u001b[38;5;241m2\u001b[39m, dt\u001b[38;5;241m=\u001b[39m\u001b[38;5;28;01mNone\u001b[39;00m, progbar\u001b[38;5;241m=\u001b[39m\u001b[38;5;28;01mNone\u001b[39;00m, \u001b[38;5;241m*\u001b[39m\u001b[38;5;241m*\u001b[39msweep_opts):\n\u001b[1;32m    451\u001b[0m \u001b[38;5;250m    \u001b[39m\u001b[38;5;124;03m\"\"\"Perform a single step of time ``self.dt``.\"\"\"\u001b[39;00m\n\u001b[0;32m--> 452\u001b[0m     \u001b[43m{\u001b[49m\u001b[38;5;241;43m2\u001b[39;49m\u001b[43m:\u001b[49m\u001b[43m \u001b[49m\u001b[38;5;28;43mself\u001b[39;49m\u001b[38;5;241;43m.\u001b[39;49m\u001b[43m_step_order2\u001b[49m\u001b[43m,\u001b[49m\u001b[43m \u001b[49m\u001b[38;5;241;43m4\u001b[39;49m\u001b[43m:\u001b[49m\u001b[43m \u001b[49m\u001b[38;5;28;43mself\u001b[39;49m\u001b[38;5;241;43m.\u001b[39;49m\u001b[43m_step_order4\u001b[49m\u001b[43m}\u001b[49m\u001b[43m[\u001b[49m\u001b[43morder\u001b[49m\u001b[43m]\u001b[49m\u001b[43m(\u001b[49m\n\u001b[1;32m    453\u001b[0m \u001b[43m        \u001b[49m\u001b[43mdt\u001b[49m\u001b[38;5;241;43m=\u001b[39;49m\u001b[43mdt\u001b[49m\u001b[43m,\u001b[49m\u001b[43m \u001b[49m\u001b[38;5;241;43m*\u001b[39;49m\u001b[38;5;241;43m*\u001b[39;49m\u001b[43msweep_opts\u001b[49m\n\u001b[1;32m    454\u001b[0m \u001b[43m    \u001b[49m\u001b[43m)\u001b[49m\n\u001b[1;32m    456\u001b[0m     dt \u001b[38;5;241m=\u001b[39m \u001b[38;5;28mself\u001b[39m\u001b[38;5;241m.\u001b[39m_dt \u001b[38;5;28;01mif\u001b[39;00m dt \u001b[38;5;129;01mis\u001b[39;00m \u001b[38;5;28;01mNone\u001b[39;00m \u001b[38;5;28;01melse\u001b[39;00m dt\n\u001b[1;32m    457\u001b[0m     \u001b[38;5;28mself\u001b[39m\u001b[38;5;241m.\u001b[39mt \u001b[38;5;241m+\u001b[39m\u001b[38;5;241m=\u001b[39m dt\n",
      "File \u001b[0;32m~/miniconda3/envs/gibbssampler/lib/python3.12/site-packages/quimb/tensor/tensor_1d_tebd.py:446\u001b[0m, in \u001b[0;36mTEBD._step_order4\u001b[0;34m(self, **sweep_opts)\u001b[0m\n\u001b[1;32m    444\u001b[0m \u001b[38;5;28mself\u001b[39m\u001b[38;5;241m.\u001b[39m_step_order2(tau1, \u001b[38;5;241m*\u001b[39m\u001b[38;5;241m*\u001b[39msweep_opts)\n\u001b[1;32m    445\u001b[0m \u001b[38;5;28mself\u001b[39m\u001b[38;5;241m.\u001b[39m_step_order2(tau2, \u001b[38;5;241m*\u001b[39m\u001b[38;5;241m*\u001b[39msweep_opts)\n\u001b[0;32m--> 446\u001b[0m \u001b[38;5;28;43mself\u001b[39;49m\u001b[38;5;241;43m.\u001b[39;49m\u001b[43m_step_order2\u001b[49m\u001b[43m(\u001b[49m\u001b[43mtau3\u001b[49m\u001b[43m,\u001b[49m\u001b[43m \u001b[49m\u001b[38;5;241;43m*\u001b[39;49m\u001b[38;5;241;43m*\u001b[39;49m\u001b[43msweep_opts\u001b[49m\u001b[43m)\u001b[49m\n\u001b[1;32m    447\u001b[0m \u001b[38;5;28mself\u001b[39m\u001b[38;5;241m.\u001b[39m_step_order2(tau2, \u001b[38;5;241m*\u001b[39m\u001b[38;5;241m*\u001b[39msweep_opts)\n\u001b[1;32m    448\u001b[0m \u001b[38;5;28mself\u001b[39m\u001b[38;5;241m.\u001b[39m_step_order2(tau1, \u001b[38;5;241m*\u001b[39m\u001b[38;5;241m*\u001b[39msweep_opts)\n",
      "File \u001b[0;32m~/miniconda3/envs/gibbssampler/lib/python3.12/site-packages/quimb/tensor/tensor_1d_tebd.py:437\u001b[0m, in \u001b[0;36mTEBD._step_order2\u001b[0;34m(self, tau, **sweep_opts)\u001b[0m\n\u001b[1;32m    435\u001b[0m \u001b[38;5;250m\u001b[39m\u001b[38;5;124;03m\"\"\"Perform a single, second order step.\"\"\"\u001b[39;00m\n\u001b[1;32m    436\u001b[0m \u001b[38;5;28mself\u001b[39m\u001b[38;5;241m.\u001b[39msweep(\u001b[38;5;124m\"\u001b[39m\u001b[38;5;124mright\u001b[39m\u001b[38;5;124m\"\u001b[39m, tau \u001b[38;5;241m/\u001b[39m \u001b[38;5;241m2\u001b[39m, \u001b[38;5;241m*\u001b[39m\u001b[38;5;241m*\u001b[39msweep_opts)\n\u001b[0;32m--> 437\u001b[0m \u001b[38;5;28;43mself\u001b[39;49m\u001b[38;5;241;43m.\u001b[39;49m\u001b[43msweep\u001b[49m\u001b[43m(\u001b[49m\u001b[38;5;124;43m\"\u001b[39;49m\u001b[38;5;124;43mleft\u001b[39;49m\u001b[38;5;124;43m\"\u001b[39;49m\u001b[43m,\u001b[49m\u001b[43m \u001b[49m\u001b[43mtau\u001b[49m\u001b[43m,\u001b[49m\u001b[43m \u001b[49m\u001b[38;5;241;43m*\u001b[39;49m\u001b[38;5;241;43m*\u001b[39;49m\u001b[43msweep_opts\u001b[49m\u001b[43m)\u001b[49m\n\u001b[1;32m    438\u001b[0m \u001b[38;5;28mself\u001b[39m\u001b[38;5;241m.\u001b[39msweep(\u001b[38;5;124m\"\u001b[39m\u001b[38;5;124mright\u001b[39m\u001b[38;5;124m\"\u001b[39m, tau \u001b[38;5;241m/\u001b[39m \u001b[38;5;241m2\u001b[39m, \u001b[38;5;241m*\u001b[39m\u001b[38;5;241m*\u001b[39msweep_opts)\n",
      "File \u001b[0;32m~/miniconda3/envs/gibbssampler/lib/python3.12/site-packages/quimb/tensor/tensor_1d_tebd.py:384\u001b[0m, in \u001b[0;36mTEBD.sweep\u001b[0;34m(self, direction, dt_frac, dt, queue)\u001b[0m\n\u001b[1;32m    382\u001b[0m     U \u001b[38;5;241m=\u001b[39m \u001b[38;5;28mself\u001b[39m\u001b[38;5;241m.\u001b[39m_get_gate_from_ham(dt_frac, sites)\n\u001b[1;32m    383\u001b[0m     \u001b[38;5;28mself\u001b[39m\u001b[38;5;241m.\u001b[39m_pt\u001b[38;5;241m.\u001b[39mleft_canonize(start\u001b[38;5;241m=\u001b[39m\u001b[38;5;28mmax\u001b[39m(\u001b[38;5;241m0\u001b[39m, i \u001b[38;5;241m-\u001b[39m \u001b[38;5;241m1\u001b[39m), stop\u001b[38;5;241m=\u001b[39mi)\n\u001b[0;32m--> 384\u001b[0m     \u001b[38;5;28;43mself\u001b[39;49m\u001b[38;5;241;43m.\u001b[39;49m\u001b[43m_pt\u001b[49m\u001b[38;5;241;43m.\u001b[39;49m\u001b[43mgate_split_\u001b[49m\u001b[43m(\u001b[49m\n\u001b[1;32m    385\u001b[0m \u001b[43m        \u001b[49m\u001b[43mU\u001b[49m\u001b[43m,\u001b[49m\u001b[43m \u001b[49m\u001b[43mwhere\u001b[49m\u001b[38;5;241;43m=\u001b[39;49m\u001b[43msites\u001b[49m\u001b[43m,\u001b[49m\u001b[43m \u001b[49m\u001b[43mabsorb\u001b[49m\u001b[38;5;241;43m=\u001b[39;49m\u001b[38;5;124;43m\"\u001b[39;49m\u001b[38;5;124;43mright\u001b[39;49m\u001b[38;5;124;43m\"\u001b[39;49m\u001b[43m,\u001b[49m\u001b[43m \u001b[49m\u001b[38;5;241;43m*\u001b[39;49m\u001b[38;5;241;43m*\u001b[39;49m\u001b[38;5;28;43mself\u001b[39;49m\u001b[38;5;241;43m.\u001b[39;49m\u001b[43msplit_opts\u001b[49m\n\u001b[1;32m    386\u001b[0m \u001b[43m    \u001b[49m\u001b[43m)\u001b[49m\n\u001b[1;32m    388\u001b[0m \u001b[38;5;28;01mif\u001b[39;00m \u001b[38;5;28mself\u001b[39m\u001b[38;5;241m.\u001b[39mL \u001b[38;5;241m%\u001b[39m \u001b[38;5;241m2\u001b[39m \u001b[38;5;241m==\u001b[39m \u001b[38;5;241m1\u001b[39m:\n\u001b[1;32m    389\u001b[0m     \u001b[38;5;28mself\u001b[39m\u001b[38;5;241m.\u001b[39m_pt\u001b[38;5;241m.\u001b[39mleft_canonize_site(\u001b[38;5;28mself\u001b[39m\u001b[38;5;241m.\u001b[39mL \u001b[38;5;241m-\u001b[39m \u001b[38;5;241m2\u001b[39m)\n",
      "File \u001b[0;32m~/miniconda3/envs/gibbssampler/lib/python3.12/site-packages/quimb/tensor/tensor_1d.py:1901\u001b[0m, in \u001b[0;36mMatrixProductState.gate_split\u001b[0;34m(self, G, where, inplace, **compress_opts)\u001b[0m\n\u001b[1;32m   1899\u001b[0m ix_i, ix_j \u001b[38;5;241m=\u001b[39m \u001b[38;5;28mmap\u001b[39m(\u001b[38;5;28mself\u001b[39m\u001b[38;5;241m.\u001b[39msite_ind, where)\n\u001b[1;32m   1900\u001b[0m \u001b[38;5;66;03m# note that 'reduce-split' is unecessary: tensors have ndim<=3\u001b[39;00m\n\u001b[0;32m-> 1901\u001b[0m \u001b[38;5;28;01mreturn\u001b[39;00m \u001b[38;5;28;43mself\u001b[39;49m\u001b[38;5;241;43m.\u001b[39;49m\u001b[43mgate_inds\u001b[49m\u001b[43m(\u001b[49m\n\u001b[1;32m   1902\u001b[0m \u001b[43m    \u001b[49m\u001b[43mG\u001b[49m\u001b[43m,\u001b[49m\u001b[43m \u001b[49m\u001b[43m(\u001b[49m\u001b[43mix_i\u001b[49m\u001b[43m,\u001b[49m\u001b[43m \u001b[49m\u001b[43mix_j\u001b[49m\u001b[43m)\u001b[49m\u001b[43m,\u001b[49m\u001b[43m \u001b[49m\u001b[43mcontract\u001b[49m\u001b[38;5;241;43m=\u001b[39;49m\u001b[38;5;124;43m\"\u001b[39;49m\u001b[38;5;124;43msplit\u001b[39;49m\u001b[38;5;124;43m\"\u001b[39;49m\u001b[43m,\u001b[49m\u001b[43m \u001b[49m\u001b[43minplace\u001b[49m\u001b[38;5;241;43m=\u001b[39;49m\u001b[43minplace\u001b[49m\u001b[43m,\u001b[49m\u001b[43m \u001b[49m\u001b[38;5;241;43m*\u001b[39;49m\u001b[38;5;241;43m*\u001b[39;49m\u001b[43mcompress_opts\u001b[49m\n\u001b[1;32m   1903\u001b[0m \u001b[43m\u001b[49m\u001b[43m)\u001b[49m\n",
      "File \u001b[0;32m~/miniconda3/envs/gibbssampler/lib/python3.12/site-packages/quimb/tensor/tensor_core.py:3710\u001b[0m, in \u001b[0;36mtensor_network_gate_inds\u001b[0;34m(self, G, inds, contract, tags, info, inplace, **compress_opts)\u001b[0m\n\u001b[1;32m   3703\u001b[0m         \u001b[38;5;28;01mraise\u001b[39;00m \u001b[38;5;167;01mValueError\u001b[39;00m(\n\u001b[1;32m   3704\u001b[0m             \u001b[38;5;124m\"\u001b[39m\u001b[38;5;124mFor a parametrized gate acting on more than one site \u001b[39m\u001b[38;5;124m\"\u001b[39m\n\u001b[1;32m   3705\u001b[0m             \u001b[38;5;124m\"\u001b[39m\u001b[38;5;124m``contract`` must be false to preserve the array shape.\u001b[39m\u001b[38;5;124m\"\u001b[39m\n\u001b[1;32m   3706\u001b[0m         )\n\u001b[1;32m   3708\u001b[0m \u001b[38;5;28;01mif\u001b[39;00m basic:\n\u001b[1;32m   3709\u001b[0m     \u001b[38;5;66;03m# no gate splitting involved\u001b[39;00m\n\u001b[0;32m-> 3710\u001b[0m     \u001b[43m_tensor_network_gate_inds_basic\u001b[49m\u001b[43m(\u001b[49m\n\u001b[1;32m   3711\u001b[0m \u001b[43m        \u001b[49m\u001b[43mtn\u001b[49m\u001b[43m,\u001b[49m\u001b[43m \u001b[49m\u001b[43mG\u001b[49m\u001b[43m,\u001b[49m\u001b[43m \u001b[49m\u001b[43minds\u001b[49m\u001b[43m,\u001b[49m\u001b[43m \u001b[49m\u001b[43mng\u001b[49m\u001b[43m,\u001b[49m\u001b[43m \u001b[49m\u001b[43mtags\u001b[49m\u001b[43m,\u001b[49m\u001b[43m \u001b[49m\u001b[43mcontract\u001b[49m\u001b[43m,\u001b[49m\u001b[43m \u001b[49m\u001b[43misparam\u001b[49m\u001b[43m,\u001b[49m\u001b[43m \u001b[49m\u001b[43minfo\u001b[49m\u001b[43m,\u001b[49m\u001b[43m \u001b[49m\u001b[38;5;241;43m*\u001b[39;49m\u001b[38;5;241;43m*\u001b[39;49m\u001b[43mcompress_opts\u001b[49m\n\u001b[1;32m   3712\u001b[0m \u001b[43m    \u001b[49m\u001b[43m)\u001b[49m\n\u001b[1;32m   3713\u001b[0m \u001b[38;5;28;01melse\u001b[39;00m:\n\u001b[1;32m   3714\u001b[0m     \u001b[38;5;66;03m# possible splitting of gate itself involved\u001b[39;00m\n\u001b[1;32m   3715\u001b[0m     \u001b[38;5;28;01mif\u001b[39;00m ng \u001b[38;5;241m>\u001b[39m \u001b[38;5;241m2\u001b[39m:\n",
      "File \u001b[0;32m~/miniconda3/envs/gibbssampler/lib/python3.12/site-packages/quimb/tensor/tensor_core.py:3380\u001b[0m, in \u001b[0;36m_tensor_network_gate_inds_basic\u001b[0;34m(tn, G, inds, ng, tags, contract, isparam, info, **compress_opts)\u001b[0m\n\u001b[1;32m   3365\u001b[0m \u001b[38;5;66;03m# XXX: disable this for symmray, where reduced split is always important\u001b[39;00m\n\u001b[1;32m   3366\u001b[0m \u001b[38;5;66;03m# for keeping charge distributions across tensors stable\u001b[39;00m\n\u001b[1;32m   3367\u001b[0m \u001b[38;5;66;03m# if (len(bnds_l) <= 2) or (len(bnds_r) <= 2):\u001b[39;00m\n\u001b[1;32m   3368\u001b[0m \u001b[38;5;66;03m#     # reduce split is likely redundant (i.e. contracting pair\u001b[39;00m\n\u001b[1;32m   3369\u001b[0m \u001b[38;5;66;03m#     # and splitting just as cheap as performing QR reductions)\u001b[39;00m\n\u001b[1;32m   3370\u001b[0m \u001b[38;5;66;03m#     contract = \"split\"\u001b[39;00m\n\u001b[1;32m   3372\u001b[0m \u001b[38;5;28;01mif\u001b[39;00m contract \u001b[38;5;241m==\u001b[39m \u001b[38;5;124m\"\u001b[39m\u001b[38;5;124msplit\u001b[39m\u001b[38;5;124m\"\u001b[39m:\n\u001b[1;32m   3373\u001b[0m     \u001b[38;5;66;03m#\u001b[39;00m\n\u001b[1;32m   3374\u001b[0m     \u001b[38;5;66;03m#       │╱  │╱         │╱  │╱\u001b[39;00m\n\u001b[0;32m   (...)\u001b[0m\n\u001b[1;32m   3378\u001b[0m \n\u001b[1;32m   3379\u001b[0m     \u001b[38;5;66;03m# contract with new gate tensor\u001b[39;00m\n\u001b[0;32m-> 3380\u001b[0m     tlGr \u001b[38;5;241m=\u001b[39m \u001b[43mtensor_contract\u001b[49m\u001b[43m(\u001b[49m\n\u001b[1;32m   3381\u001b[0m \u001b[43m        \u001b[49m\u001b[43mtl\u001b[49m\u001b[38;5;241;43m.\u001b[39;49m\u001b[43mreindex\u001b[49m\u001b[43m(\u001b[49m\u001b[43mreindex_map\u001b[49m\u001b[43m)\u001b[49m\u001b[43m,\u001b[49m\u001b[43m \u001b[49m\u001b[43mtr\u001b[49m\u001b[38;5;241;43m.\u001b[39;49m\u001b[43mreindex\u001b[49m\u001b[43m(\u001b[49m\u001b[43mreindex_map\u001b[49m\u001b[43m)\u001b[49m\u001b[43m,\u001b[49m\u001b[43m \u001b[49m\u001b[43mTG\u001b[49m\n\u001b[1;32m   3382\u001b[0m \u001b[43m    \u001b[49m\u001b[43m)\u001b[49m\n\u001b[1;32m   3384\u001b[0m     \u001b[38;5;66;03m# decompose back into two tensors\u001b[39;00m\n\u001b[1;32m   3385\u001b[0m     tln, \u001b[38;5;241m*\u001b[39mmaybe_svals, trn \u001b[38;5;241m=\u001b[39m tlGr\u001b[38;5;241m.\u001b[39msplit(\n\u001b[1;32m   3386\u001b[0m         left_inds\u001b[38;5;241m=\u001b[39mbnds_l,\n\u001b[1;32m   3387\u001b[0m         right_inds\u001b[38;5;241m=\u001b[39mbnds_r,\n\u001b[0;32m   (...)\u001b[0m\n\u001b[1;32m   3390\u001b[0m         \u001b[38;5;241m*\u001b[39m\u001b[38;5;241m*\u001b[39mcompress_opts,\n\u001b[1;32m   3391\u001b[0m     )\n",
      "File \u001b[0;32m~/miniconda3/envs/gibbssampler/lib/python3.12/functools.py:909\u001b[0m, in \u001b[0;36msingledispatch.<locals>.wrapper\u001b[0;34m(*args, **kw)\u001b[0m\n\u001b[1;32m    905\u001b[0m \u001b[38;5;28;01mif\u001b[39;00m \u001b[38;5;129;01mnot\u001b[39;00m args:\n\u001b[1;32m    906\u001b[0m     \u001b[38;5;28;01mraise\u001b[39;00m \u001b[38;5;167;01mTypeError\u001b[39;00m(\u001b[38;5;124mf\u001b[39m\u001b[38;5;124m'\u001b[39m\u001b[38;5;132;01m{\u001b[39;00mfuncname\u001b[38;5;132;01m}\u001b[39;00m\u001b[38;5;124m requires at least \u001b[39m\u001b[38;5;124m'\u001b[39m\n\u001b[1;32m    907\u001b[0m                     \u001b[38;5;124m'\u001b[39m\u001b[38;5;124m1 positional argument\u001b[39m\u001b[38;5;124m'\u001b[39m)\n\u001b[0;32m--> 909\u001b[0m \u001b[38;5;28;01mreturn\u001b[39;00m \u001b[43mdispatch\u001b[49m\u001b[43m(\u001b[49m\u001b[43margs\u001b[49m\u001b[43m[\u001b[49m\u001b[38;5;241;43m0\u001b[39;49m\u001b[43m]\u001b[49m\u001b[38;5;241;43m.\u001b[39;49m\u001b[38;5;18;43m__class__\u001b[39;49m\u001b[43m)\u001b[49m\u001b[43m(\u001b[49m\u001b[38;5;241;43m*\u001b[39;49m\u001b[43margs\u001b[49m\u001b[43m,\u001b[49m\u001b[43m \u001b[49m\u001b[38;5;241;43m*\u001b[39;49m\u001b[38;5;241;43m*\u001b[39;49m\u001b[43mkw\u001b[49m\u001b[43m)\u001b[49m\n",
      "File \u001b[0;32m~/miniconda3/envs/gibbssampler/lib/python3.12/site-packages/quimb/tensor/tensor_core.py:298\u001b[0m, in \u001b[0;36mtensor_contract\u001b[0;34m(output_inds, optimize, get, backend, preserve_tensor, drop_tags, *tensors, **contract_opts)\u001b[0m\n\u001b[1;32m    287\u001b[0m     \u001b[38;5;28;01mreturn\u001b[39;00m _tensor_contract_get_other(\n\u001b[1;32m    288\u001b[0m         arrays\u001b[38;5;241m=\u001b[39marrays,\n\u001b[1;32m    289\u001b[0m         inds\u001b[38;5;241m=\u001b[39minds,\n\u001b[0;32m   (...)\u001b[0m\n\u001b[1;32m    294\u001b[0m         \u001b[38;5;241m*\u001b[39m\u001b[38;5;241m*\u001b[39mcontract_opts,\n\u001b[1;32m    295\u001b[0m     )\n\u001b[1;32m    297\u001b[0m \u001b[38;5;66;03m# perform the contraction!\u001b[39;00m\n\u001b[0;32m--> 298\u001b[0m data_out \u001b[38;5;241m=\u001b[39m \u001b[43marray_contract\u001b[49m\u001b[43m(\u001b[49m\n\u001b[1;32m    299\u001b[0m \u001b[43m    \u001b[49m\u001b[43marrays\u001b[49m\u001b[43m,\u001b[49m\n\u001b[1;32m    300\u001b[0m \u001b[43m    \u001b[49m\u001b[43minds\u001b[49m\u001b[43m,\u001b[49m\n\u001b[1;32m    301\u001b[0m \u001b[43m    \u001b[49m\u001b[43minds_out\u001b[49m\u001b[43m,\u001b[49m\n\u001b[1;32m    302\u001b[0m \u001b[43m    \u001b[49m\u001b[43moptimize\u001b[49m\u001b[38;5;241;43m=\u001b[39;49m\u001b[43moptimize\u001b[49m\u001b[43m,\u001b[49m\n\u001b[1;32m    303\u001b[0m \u001b[43m    \u001b[49m\u001b[43mbackend\u001b[49m\u001b[38;5;241;43m=\u001b[39;49m\u001b[43mbackend\u001b[49m\u001b[43m,\u001b[49m\n\u001b[1;32m    304\u001b[0m \u001b[43m    \u001b[49m\u001b[38;5;241;43m*\u001b[39;49m\u001b[38;5;241;43m*\u001b[39;49m\u001b[43mcontract_opts\u001b[49m\u001b[43m,\u001b[49m\n\u001b[1;32m    305\u001b[0m \u001b[43m\u001b[49m\u001b[43m)\u001b[49m\n\u001b[1;32m    307\u001b[0m \u001b[38;5;28;01mif\u001b[39;00m \u001b[38;5;129;01mnot\u001b[39;00m inds_out \u001b[38;5;129;01mand\u001b[39;00m \u001b[38;5;129;01mnot\u001b[39;00m preserve_tensor:\n\u001b[1;32m    308\u001b[0m     \u001b[38;5;28;01mreturn\u001b[39;00m maybe_realify_scalar(data_out)\n",
      "File \u001b[0;32m~/miniconda3/envs/gibbssampler/lib/python3.12/site-packages/quimb/tensor/contraction.py:286\u001b[0m, in \u001b[0;36marray_contract\u001b[0;34m(arrays, inputs, output, optimize, backend, **kwargs)\u001b[0m\n\u001b[1;32m    284\u001b[0m \u001b[38;5;28;01mif\u001b[39;00m backend \u001b[38;5;129;01mis\u001b[39;00m \u001b[38;5;28;01mNone\u001b[39;00m:\n\u001b[1;32m    285\u001b[0m     backend \u001b[38;5;241m=\u001b[39m get_contract_backend()\n\u001b[0;32m--> 286\u001b[0m \u001b[38;5;28;01mreturn\u001b[39;00m \u001b[43mctg\u001b[49m\u001b[38;5;241;43m.\u001b[39;49m\u001b[43marray_contract\u001b[49m\u001b[43m(\u001b[49m\n\u001b[1;32m    287\u001b[0m \u001b[43m    \u001b[49m\u001b[43marrays\u001b[49m\u001b[43m,\u001b[49m\u001b[43m \u001b[49m\u001b[43minputs\u001b[49m\u001b[43m,\u001b[49m\u001b[43m \u001b[49m\u001b[43moutput\u001b[49m\u001b[43m,\u001b[49m\u001b[43m \u001b[49m\u001b[43moptimize\u001b[49m\u001b[38;5;241;43m=\u001b[39;49m\u001b[43moptimize\u001b[49m\u001b[43m,\u001b[49m\u001b[43m \u001b[49m\u001b[43mbackend\u001b[49m\u001b[38;5;241;43m=\u001b[39;49m\u001b[43mbackend\u001b[49m\u001b[43m,\u001b[49m\u001b[43m \u001b[49m\u001b[38;5;241;43m*\u001b[39;49m\u001b[38;5;241;43m*\u001b[39;49m\u001b[43mkwargs\u001b[49m\n\u001b[1;32m    288\u001b[0m \u001b[43m\u001b[49m\u001b[43m)\u001b[49m\n",
      "File \u001b[0;32m~/miniconda3/envs/gibbssampler/lib/python3.12/site-packages/cotengra/interface.py:821\u001b[0m, in \u001b[0;36marray_contract\u001b[0;34m(arrays, inputs, output, optimize, cache_expression, backend, **kwargs)\u001b[0m\n\u001b[1;32m    812\u001b[0m shapes \u001b[38;5;241m=\u001b[39m \u001b[38;5;28mtuple\u001b[39m(\u001b[38;5;28mmap\u001b[39m(ar\u001b[38;5;241m.\u001b[39mshape, arrays))\n\u001b[1;32m    813\u001b[0m expr \u001b[38;5;241m=\u001b[39m array_contract_expression(\n\u001b[1;32m    814\u001b[0m     inputs,\n\u001b[1;32m    815\u001b[0m     output,\n\u001b[0;32m   (...)\u001b[0m\n\u001b[1;32m    819\u001b[0m     \u001b[38;5;241m*\u001b[39m\u001b[38;5;241m*\u001b[39mkwargs,\n\u001b[1;32m    820\u001b[0m )\n\u001b[0;32m--> 821\u001b[0m \u001b[38;5;28;01mreturn\u001b[39;00m \u001b[43mexpr\u001b[49m\u001b[43m(\u001b[49m\u001b[38;5;241;43m*\u001b[39;49m\u001b[43marrays\u001b[49m\u001b[43m,\u001b[49m\u001b[43m \u001b[49m\u001b[43mbackend\u001b[49m\u001b[38;5;241;43m=\u001b[39;49m\u001b[43mbackend\u001b[49m\u001b[43m)\u001b[49m\n",
      "File \u001b[0;32m~/miniconda3/envs/gibbssampler/lib/python3.12/site-packages/cotengra/contract.py:784\u001b[0m, in \u001b[0;36mContractor.__call__\u001b[0;34m(self, *arrays, **kwargs)\u001b[0m\n\u001b[1;32m    781\u001b[0m r_array \u001b[38;5;241m=\u001b[39m temps\u001b[38;5;241m.\u001b[39mpop(r)\n\u001b[1;32m    783\u001b[0m \u001b[38;5;28;01mif\u001b[39;00m tdot:\n\u001b[0;32m--> 784\u001b[0m     p_array \u001b[38;5;241m=\u001b[39m \u001b[43m_tensordot\u001b[49m\u001b[43m(\u001b[49m\u001b[43ml_array\u001b[49m\u001b[43m,\u001b[49m\u001b[43m \u001b[49m\u001b[43mr_array\u001b[49m\u001b[43m,\u001b[49m\u001b[43m \u001b[49m\u001b[43marg\u001b[49m\u001b[43m)\u001b[49m\n\u001b[1;32m    785\u001b[0m     \u001b[38;5;28;01mif\u001b[39;00m perm:\n\u001b[1;32m    786\u001b[0m         p_array \u001b[38;5;241m=\u001b[39m do(\u001b[38;5;124m\"\u001b[39m\u001b[38;5;124mtranspose\u001b[39m\u001b[38;5;124m\"\u001b[39m, p_array, perm, like\u001b[38;5;241m=\u001b[39mbackend)\n",
      "File \u001b[0;32m~/miniconda3/envs/gibbssampler/lib/python3.12/site-packages/cotengra/contract.py:562\u001b[0m, in \u001b[0;36mtensordot\u001b[0;34m(a, b, axes, backend)\u001b[0m\n\u001b[1;32m    550\u001b[0m     axes \u001b[38;5;241m=\u001b[39m \u001b[38;5;28mint\u001b[39m(axes)\n\u001b[1;32m    552\u001b[0m (\n\u001b[1;32m    553\u001b[0m     eq_a,\n\u001b[1;32m    554\u001b[0m     eq_b,\n\u001b[0;32m   (...)\u001b[0m\n\u001b[1;32m    559\u001b[0m     pure_multiplication,\n\u001b[1;32m    560\u001b[0m ) \u001b[38;5;241m=\u001b[39m _parse_tensordot_axes_to_matmul(axes, shape(a), shape(b))\n\u001b[0;32m--> 562\u001b[0m \u001b[38;5;28;01mreturn\u001b[39;00m \u001b[43m_do_contraction_via_bmm\u001b[49m\u001b[43m(\u001b[49m\n\u001b[1;32m    563\u001b[0m \u001b[43m    \u001b[49m\u001b[43ma\u001b[49m\u001b[43m,\u001b[49m\n\u001b[1;32m    564\u001b[0m \u001b[43m    \u001b[49m\u001b[43mb\u001b[49m\u001b[43m,\u001b[49m\n\u001b[1;32m    565\u001b[0m \u001b[43m    \u001b[49m\u001b[43meq_a\u001b[49m\u001b[43m,\u001b[49m\n\u001b[1;32m    566\u001b[0m \u001b[43m    \u001b[49m\u001b[43meq_b\u001b[49m\u001b[43m,\u001b[49m\n\u001b[1;32m    567\u001b[0m \u001b[43m    \u001b[49m\u001b[43mnew_shape_a\u001b[49m\u001b[43m,\u001b[49m\n\u001b[1;32m    568\u001b[0m \u001b[43m    \u001b[49m\u001b[43mnew_shape_b\u001b[49m\u001b[43m,\u001b[49m\n\u001b[1;32m    569\u001b[0m \u001b[43m    \u001b[49m\u001b[43mnew_shape_ab\u001b[49m\u001b[43m,\u001b[49m\n\u001b[1;32m    570\u001b[0m \u001b[43m    \u001b[49m\u001b[43mperm_ab\u001b[49m\u001b[43m,\u001b[49m\n\u001b[1;32m    571\u001b[0m \u001b[43m    \u001b[49m\u001b[43mpure_multiplication\u001b[49m\u001b[43m,\u001b[49m\n\u001b[1;32m    572\u001b[0m \u001b[43m    \u001b[49m\u001b[43mbackend\u001b[49m\u001b[43m,\u001b[49m\n\u001b[1;32m    573\u001b[0m \u001b[43m\u001b[49m\u001b[43m)\u001b[49m\n",
      "File \u001b[0;32m~/miniconda3/envs/gibbssampler/lib/python3.12/site-packages/cotengra/contract.py:388\u001b[0m, in \u001b[0;36m_do_contraction_via_bmm\u001b[0;34m(a, b, eq_a, eq_b, new_shape_a, new_shape_b, new_shape_ab, perm_ab, pure_multiplication, backend)\u001b[0m\n\u001b[1;32m    386\u001b[0m         a \u001b[38;5;241m=\u001b[39m _einsum_single(eq_a, a)\n\u001b[1;32m    387\u001b[0m \u001b[38;5;28;01mif\u001b[39;00m new_shape_a \u001b[38;5;129;01mis\u001b[39;00m \u001b[38;5;129;01mnot\u001b[39;00m \u001b[38;5;28;01mNone\u001b[39;00m:\n\u001b[0;32m--> 388\u001b[0m     a \u001b[38;5;241m=\u001b[39m \u001b[43mdo\u001b[49m\u001b[43m(\u001b[49m\u001b[38;5;124;43m\"\u001b[39;49m\u001b[38;5;124;43mreshape\u001b[39;49m\u001b[38;5;124;43m\"\u001b[39;49m\u001b[43m,\u001b[49m\u001b[43m \u001b[49m\u001b[43ma\u001b[49m\u001b[43m,\u001b[49m\u001b[43m \u001b[49m\u001b[43mnew_shape_a\u001b[49m\u001b[43m,\u001b[49m\u001b[43m \u001b[49m\u001b[43mlike\u001b[49m\u001b[38;5;241;43m=\u001b[39;49m\u001b[43mbackend\u001b[49m\u001b[43m)\u001b[49m\n\u001b[1;32m    390\u001b[0m \u001b[38;5;66;03m# prepare right\u001b[39;00m\n\u001b[1;32m    391\u001b[0m \u001b[38;5;28;01mif\u001b[39;00m eq_b \u001b[38;5;129;01mis\u001b[39;00m \u001b[38;5;129;01mnot\u001b[39;00m \u001b[38;5;28;01mNone\u001b[39;00m:\n",
      "File \u001b[0;32m~/miniconda3/envs/gibbssampler/lib/python3.12/site-packages/autoray/autoray.py:81\u001b[0m, in \u001b[0;36mdo\u001b[0;34m(fn, like, *args, **kwargs)\u001b[0m\n\u001b[1;32m     79\u001b[0m backend \u001b[38;5;241m=\u001b[39m _choose_backend(fn, args, kwargs, like\u001b[38;5;241m=\u001b[39mlike)\n\u001b[1;32m     80\u001b[0m func \u001b[38;5;241m=\u001b[39m get_lib_fn(backend, fn)\n\u001b[0;32m---> 81\u001b[0m \u001b[38;5;28;01mreturn\u001b[39;00m \u001b[43mfunc\u001b[49m\u001b[43m(\u001b[49m\u001b[38;5;241;43m*\u001b[39;49m\u001b[43margs\u001b[49m\u001b[43m,\u001b[49m\u001b[43m \u001b[49m\u001b[38;5;241;43m*\u001b[39;49m\u001b[38;5;241;43m*\u001b[39;49m\u001b[43mkwargs\u001b[49m\u001b[43m)\u001b[49m\n",
      "File \u001b[0;32m~/miniconda3/envs/gibbssampler/lib/python3.12/site-packages/numpy/_core/fromnumeric.py:299\u001b[0m, in \u001b[0;36mreshape\u001b[0;34m(a, newshape, order)\u001b[0m\n\u001b[1;32m    214\u001b[0m \u001b[38;5;129m@array_function_dispatch\u001b[39m(_reshape_dispatcher)\n\u001b[1;32m    215\u001b[0m \u001b[38;5;28;01mdef\u001b[39;00m\u001b[38;5;250m \u001b[39m\u001b[38;5;21mreshape\u001b[39m(a, newshape, order\u001b[38;5;241m=\u001b[39m\u001b[38;5;124m'\u001b[39m\u001b[38;5;124mC\u001b[39m\u001b[38;5;124m'\u001b[39m):\n\u001b[1;32m    216\u001b[0m \u001b[38;5;250m    \u001b[39m\u001b[38;5;124;03m\"\"\"\u001b[39;00m\n\u001b[1;32m    217\u001b[0m \u001b[38;5;124;03m    Gives a new shape to an array without changing its data.\u001b[39;00m\n\u001b[1;32m    218\u001b[0m \n\u001b[0;32m   (...)\u001b[0m\n\u001b[1;32m    297\u001b[0m \u001b[38;5;124;03m           [5, 6]])\u001b[39;00m\n\u001b[1;32m    298\u001b[0m \u001b[38;5;124;03m    \"\"\"\u001b[39;00m\n\u001b[0;32m--> 299\u001b[0m     \u001b[38;5;28;01mreturn\u001b[39;00m \u001b[43m_wrapfunc\u001b[49m\u001b[43m(\u001b[49m\u001b[43ma\u001b[49m\u001b[43m,\u001b[49m\u001b[43m \u001b[49m\u001b[38;5;124;43m'\u001b[39;49m\u001b[38;5;124;43mreshape\u001b[39;49m\u001b[38;5;124;43m'\u001b[39;49m\u001b[43m,\u001b[49m\u001b[43m \u001b[49m\u001b[43mnewshape\u001b[49m\u001b[43m,\u001b[49m\u001b[43m \u001b[49m\u001b[43morder\u001b[49m\u001b[38;5;241;43m=\u001b[39;49m\u001b[43morder\u001b[49m\u001b[43m)\u001b[49m\n",
      "File \u001b[0;32m~/miniconda3/envs/gibbssampler/lib/python3.12/site-packages/numpy/_core/fromnumeric.py:57\u001b[0m, in \u001b[0;36m_wrapfunc\u001b[0;34m(obj, method, *args, **kwds)\u001b[0m\n\u001b[1;32m     54\u001b[0m     \u001b[38;5;28;01mreturn\u001b[39;00m _wrapit(obj, method, \u001b[38;5;241m*\u001b[39margs, \u001b[38;5;241m*\u001b[39m\u001b[38;5;241m*\u001b[39mkwds)\n\u001b[1;32m     56\u001b[0m \u001b[38;5;28;01mtry\u001b[39;00m:\n\u001b[0;32m---> 57\u001b[0m     \u001b[38;5;28;01mreturn\u001b[39;00m \u001b[43mbound\u001b[49m\u001b[43m(\u001b[49m\u001b[38;5;241;43m*\u001b[39;49m\u001b[43margs\u001b[49m\u001b[43m,\u001b[49m\u001b[43m \u001b[49m\u001b[38;5;241;43m*\u001b[39;49m\u001b[38;5;241;43m*\u001b[39;49m\u001b[43mkwds\u001b[49m\u001b[43m)\u001b[49m\n\u001b[1;32m     58\u001b[0m \u001b[38;5;28;01mexcept\u001b[39;00m \u001b[38;5;167;01mTypeError\u001b[39;00m:\n\u001b[1;32m     59\u001b[0m     \u001b[38;5;66;03m# A TypeError occurs if the object does have such a method in its\u001b[39;00m\n\u001b[1;32m     60\u001b[0m     \u001b[38;5;66;03m# class, but its signature is not identical to that of NumPy's. This\u001b[39;00m\n\u001b[0;32m   (...)\u001b[0m\n\u001b[1;32m     64\u001b[0m     \u001b[38;5;66;03m# Call _wrapit from within the except clause to ensure a potential\u001b[39;00m\n\u001b[1;32m     65\u001b[0m     \u001b[38;5;66;03m# exception has a traceback chain.\u001b[39;00m\n\u001b[1;32m     66\u001b[0m     \u001b[38;5;28;01mreturn\u001b[39;00m _wrapit(obj, method, \u001b[38;5;241m*\u001b[39margs, \u001b[38;5;241m*\u001b[39m\u001b[38;5;241m*\u001b[39mkwds)\n",
      "\u001b[0;31mKeyboardInterrupt\u001b[0m: "
     ]
    }
   ],
   "source": [
    "split_opts={'method':'svd','cutoff':1e-9,'cutoff_mode':'rel','max_bond':100}\n",
    "h2=-J*(qu.pauli('Z') & qu.pauli('I')) & (qu.pauli('Z') & qu.pauli('I'))\n",
    "h1=h*qu.pauli('X') & qu.pauli('I')\n",
    "local_ham = qtn.LocalHam1D(L=L, H2=h2, H1=h1,cyclic=False)\n",
    "def gibbs_mpo(local_ham,tebd_tol,split_opts):\n",
    "    tebd_tol=1e-10\n",
    "    rho0=qtn.MPS_product_state([np.eye(2)]*L)\n",
    "    tebd=qtn.TEBD(rho0,local_ham,imag=True,progbar=False,split_opts=split_opts)\n",
    "    tebd.update_to(1,tol=tebd_tol)\n",
    "    rho=mps_to_mpo(tebd.pt)\n",
    "    rho=rho*(1/rho.trace())\n",
    "    return rho\n",
    "rho=gibbs_mpo(local_ham,1e-10,split_opts)"
   ]
  },
  {
   "cell_type": "code",
   "execution_count": 4,
   "metadata": {},
   "outputs": [],
   "source": [
    "\n",
    "x=np.array([[0,1],[1,0]])\n",
    "z=np.array([[1,0],[0,-1]])\n",
    "i=np.eye(2)\n",
    "kraus_ops=[x,z]\n",
    "\n",
    "h2 = -J*np.kron(np.kron(z,i),np.kron(z,i))\n",
    "h1=h*np.kron(x,i)\n",
    "local_ham = qtn.LocalHam1D(L=L, H2=-1j*h2, H1=-1j*h1,cyclic=False)\n",
    "\n",
    "local_hamiltonians = dict(qtn.LocalHam1D(L=L, H2=-J*np.kron(z,z), H1=h*x,cyclic=False).items())\n",
    "\n"
   ]
  },
  {
   "cell_type": "code",
   "execution_count": 5,
   "metadata": {},
   "outputs": [
    {
     "data": {
      "text/html": [
       "<samp style='font-size: 12px;'><details><summary><b style=\"color: #d75692;\">MatrixProductState</b>(tensors=6, indices=11, L=6, max_bond=1)</summary><samp style='font-size: 12px;'><details><summary><b style=\"color: #e55471;\">Tensor</b>(shape=(<b style=\"color: #45ce3d;\">1</b>, <b style=\"color: #80d749;\">4</b>), inds=[<b style=\"color: #9edd77;\">_c7485cAAOGJ</b>, <b style=\"color: #b1dc61;\">k0</b>], tags={<b style=\"color: #d2b137;\">I0</b>}),</summary>backend=<b style=\"color: #7fdd73;\">numpy</b>, dtype=<b style=\"color: #75d2c6;\">float64</b>, data=array([[1., 0., 0., 1.]])</details></samp><samp style='font-size: 12px;'><details><summary><b style=\"color: #e55471;\">Tensor</b>(shape=(<b style=\"color: #45ce3d;\">1</b>, <b style=\"color: #45ce3d;\">1</b>, <b style=\"color: #80d749;\">4</b>), inds=[<b style=\"color: #9edd77;\">_c7485cAAOGJ</b>, <b style=\"color: #d1c667;\">_c7485cAAOGK</b>, <b style=\"color: #8aa5db;\">k1</b>], tags={<b style=\"color: #d19b78;\">I1</b>}),</summary>backend=<b style=\"color: #7fdd73;\">numpy</b>, dtype=<b style=\"color: #75d2c6;\">float64</b>, data=array([[[1., 0., 0., 1.]]])</details></samp><samp style='font-size: 12px;'><details><summary><b style=\"color: #e55471;\">Tensor</b>(shape=(<b style=\"color: #45ce3d;\">1</b>, <b style=\"color: #45ce3d;\">1</b>, <b style=\"color: #80d749;\">4</b>), inds=[<b style=\"color: #d1c667;\">_c7485cAAOGK</b>, <b style=\"color: #a95de2;\">_c7485cAAOGL</b>, <b style=\"color: #df546d;\">k2</b>], tags={<b style=\"color: #dd5dd7;\">I2</b>}),</summary>backend=<b style=\"color: #7fdd73;\">numpy</b>, dtype=<b style=\"color: #75d2c6;\">float64</b>, data=array([[[1., 0., 0., 1.]]])</details></samp><samp style='font-size: 12px;'><details><summary><b style=\"color: #e55471;\">Tensor</b>(shape=(<b style=\"color: #45ce3d;\">1</b>, <b style=\"color: #45ce3d;\">1</b>, <b style=\"color: #80d749;\">4</b>), inds=[<b style=\"color: #a95de2;\">_c7485cAAOGL</b>, <b style=\"color: #d1716d;\">_c7485cAAOGM</b>, <b style=\"color: #4c7be1;\">k3</b>], tags={<b style=\"color: #dd65d9;\">I3</b>}),</summary>backend=<b style=\"color: #7fdd73;\">numpy</b>, dtype=<b style=\"color: #75d2c6;\">float64</b>, data=array([[[1., 0., 0., 1.]]])</details></samp><samp style='font-size: 12px;'><details><summary><b style=\"color: #e55471;\">Tensor</b>(shape=(<b style=\"color: #45ce3d;\">1</b>, <b style=\"color: #45ce3d;\">1</b>, <b style=\"color: #80d749;\">4</b>), inds=[<b style=\"color: #d1716d;\">_c7485cAAOGM</b>, <b style=\"color: #db73e4;\">_c7485cAAOGN</b>, <b style=\"color: #462edc;\">k4</b>], tags={<b style=\"color: #998ad1;\">I4</b>}),</summary>backend=<b style=\"color: #7fdd73;\">numpy</b>, dtype=<b style=\"color: #75d2c6;\">float64</b>, data=array([[[1., 0., 0., 1.]]])</details></samp><samp style='font-size: 12px;'><details><summary><b style=\"color: #e55471;\">Tensor</b>(shape=(<b style=\"color: #45ce3d;\">1</b>, <b style=\"color: #80d749;\">4</b>), inds=[<b style=\"color: #db73e4;\">_c7485cAAOGN</b>, <b style=\"color: #85dfdf;\">k5</b>], tags={<b style=\"color: #97dddc;\">I5</b>}),</summary>backend=<b style=\"color: #7fdd73;\">numpy</b>, dtype=<b style=\"color: #75d2c6;\">float64</b>, data=array([[1., 0., 0., 1.]])</details></samp></details></samp>"
      ],
      "text/plain": [
       "MatrixProductState(tensors=6, indices=11, L=6, max_bond=1)"
      ]
     },
     "execution_count": 5,
     "metadata": {},
     "output_type": "execute_result"
    }
   ],
   "source": [
    "mps0 = mpo_to_mps(qtn.MPO_identity(L,sites=None, phys_dim=2, cyclic=False))\n",
    "mps0\n"
   ]
  },
  {
   "cell_type": "code",
   "execution_count": 6,
   "metadata": {},
   "outputs": [],
   "source": [
    "tebd=qtn.tensor_1d_tebd.TEBD(mps0,local_ham,imag=False,tol=1e-7)"
   ]
  },
  {
   "cell_type": "code",
   "execution_count": 7,
   "metadata": {},
   "outputs": [
    {
     "name": "stderr",
     "output_type": "stream",
     "text": [
      "t=0.01109, max-bond=2:   0%|          | 0/100 [00:00<?, ?%/s]"
     ]
    },
    {
     "name": "stderr",
     "output_type": "stream",
     "text": [
      "t=1, max-bond=7: 100%|##########| 100/100 [00:00<00:00, 145.95%/s]    \n"
     ]
    }
   ],
   "source": [
    "tebd.update_to(1)"
   ]
  },
  {
   "cell_type": "code",
   "execution_count": 8,
   "metadata": {},
   "outputs": [],
   "source": [
    "res=mps_to_mpo(tebd.pt)\n",
    "rho_mpo=res/res.trace(res.lower_inds,res.upper_inds)\n"
   ]
  },
  {
   "cell_type": "code",
   "execution_count": 9,
   "metadata": {},
   "outputs": [],
   "source": [
    "h=create_hamiltonian(local_hamiltonians)\n",
    "exp=expm(-h)\n",
    "rho=exp/np.trace(exp)"
   ]
  },
  {
   "cell_type": "code",
   "execution_count": 10,
   "metadata": {},
   "outputs": [
    {
     "data": {
      "text/plain": [
       "np.float64(0.0006514689639042191)"
      ]
     },
     "execution_count": 10,
     "metadata": {},
     "output_type": "execute_result"
    }
   ],
   "source": [
    "np.linalg.norm(rho-rho_mpo.to_dense(),ord=2)/np.linalg.norm(rho,ord=2)"
   ]
  }
 ],
 "metadata": {
  "kernelspec": {
   "display_name": "gibbssampler",
   "language": "python",
   "name": "python3"
  },
  "language_info": {
   "codemirror_mode": {
    "name": "ipython",
    "version": 3
   },
   "file_extension": ".py",
   "mimetype": "text/x-python",
   "name": "python",
   "nbconvert_exporter": "python",
   "pygments_lexer": "ipython3",
   "version": "3.12.8"
  }
 },
 "nbformat": 4,
 "nbformat_minor": 2
}
