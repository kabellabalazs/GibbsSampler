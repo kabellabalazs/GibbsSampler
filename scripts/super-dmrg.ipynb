{
 "cells": [
  {
   "cell_type": "code",
   "execution_count": 9,
   "metadata": {},
   "outputs": [],
   "source": [
    "import quimb as qu\n",
    "import quimb.tensor as qtn\n",
    "import numpy as np\n",
    "import scipy\n",
    "import scipy.sparse.linalg as sla\n",
    "import pickle\n"
   ]
  },
  {
   "cell_type": "code",
   "execution_count": 10,
   "metadata": {},
   "outputs": [],
   "source": [
    "with open('sca_xs.pkl', 'rb') as file:\n",
    "    sca_xs = pickle.load(file)\n",
    "with open('sca_zs.pkl', 'rb') as file:\n",
    "    sca_zs = pickle.load(file)\n",
    "with open('scd_xs.pkl', 'rb') as file:\n",
    "    scd_xs = pickle.load(file)\n",
    "with open('scd_zs.pkl', 'rb') as file:\n",
    "    scd_zs = pickle.load(file)\n",
    "\n",
    "scd_xs=[-scd_x for scd_x in scd_xs]\n",
    "scd_zs=[-scd_z for scd_z in scd_zs]"
   ]
  },
  {
   "cell_type": "code",
   "execution_count": 11,
   "metadata": {},
   "outputs": [],
   "source": [
    "rho=sca_xs[5].identity()\n",
    "left_mpos=sca_xs+sca_zs+scd_xs+scd_zs+[scd_xs[0].identity()]*(2*len(scd_xs))\n",
    "right_mpos=sca_xs+sca_zs+[scd_xs[0].identity()]*(2*len(scd_xs))+scd_xs+scd_zs\n"
   ]
  },
  {
   "cell_type": "code",
   "execution_count": 12,
   "metadata": {},
   "outputs": [],
   "source": [
    "\n",
    "length=rho.L\n",
    "\n",
    "rho=qtn.MatrixProductOperator(rho.arrays)\n",
    "rho_conj=qtn.MatrixProductOperator([arr.conj() for arr in rho.arrays])\n",
    "for i in range(len(left_mpos)):\n",
    "    left_mpo=qtn.MatrixProductOperator(left_mpos[i].arrays)\n",
    "    left_mpo=left_mpo.reindex_lower_sites('c{}')\n",
    "    left_mpo=left_mpo.reindex_upper_sites('b{}')\n",
    "    right_mpo=qtn.MatrixProductOperator(right_mpos[i].arrays)\n",
    "    right_mpo=right_mpo.reindex_upper_sites('d{}')\n",
    "    right_mpo=right_mpo.reindex_lower_sites('a{}')\n",
    "    left_mpos[i]=left_mpo\n",
    "    right_mpos[i]=right_mpo\n",
    "    \n",
    "rho=rho.reindex_upper_sites('c{}')\n",
    "rho=rho.reindex_lower_sites('d{}')\n",
    "rho_conj=rho_conj.reindex_lower_sites('a{}')\n",
    "rho_conj=rho_conj.reindex_upper_sites('b{}')"
   ]
  },
  {
   "cell_type": "code",
   "execution_count": 13,
   "metadata": {},
   "outputs": [],
   "source": [
    "\n",
    "\n",
    "'''  _____\n",
    "    |a    |\n",
    "--[rh_conj]   \n",
    "    |b    |\n",
    "--[lmpo]  |      \n",
    "    |c    |\n",
    "--[rho]   |\n",
    "    |d    |\n",
    "--[rmpo]  |\n",
    "    |a____|\n",
    "'''\n",
    "#Get the right tensors\n",
    "right_sides=[]\n",
    "for j in range(len(left_mpos)):\n",
    "    rs=[]\n",
    "    rtensors=[rho[-1],rho_conj[-1],left_mpos[j][-1],right_mpos[j][-1]]\n",
    "    rs.append(qtn.tensor_contract(*rtensors))\n",
    "    for i in range(length-3):\n",
    "        rtensors=[rho[-2-i],rho_conj[-2-i],left_mpos[j][-2-i],right_mpos[j][-2-i],rs[-1]]\n",
    "        rs.append(qtn.tensor_contract(*rtensors))\n",
    "    right_sides.append(rs)\n",
    "\n",
    "    \n"
   ]
  },
  {
   "cell_type": "code",
   "execution_count": 14,
   "metadata": {},
   "outputs": [],
   "source": [
    "#Defie the linear operator\n",
    "left_inds=[*rho_conj[0].inds[-2:],*rho_conj[1].inds[-3:]]\n",
    "right_inds=[*rho[0].inds[-2:],*rho[1].inds[-3:]]\n",
    "vec0=qtn.tensor_contract(rho[0],rho[1]).transpose(*right_inds).data.reshape(-1)\n",
    "def matvec(vec):\n",
    "    vec_tens=qtn.Tensor(vec.reshape((*rho[0].shape[-2:],*rho[1].shape[-3:])),right_inds)\n",
    "    result_vec=np.zeros(vec.shape,dtype=np.complex128)\n",
    "    for i in range(len(left_mpos)):\n",
    "        tens=[vec_tens,left_mpos[i][0],left_mpos[i][1],right_mpos[i][0],right_mpos[i][1],right_sides[i][-1]]\n",
    "        result_vec+=qtn.tensor_contract(*tens).transpose(*left_inds).data.reshape(-1)\n",
    "    return result_vec\n",
    "linop=sla.LinearOperator(shape=(len(vec0),len(vec0)),matvec=matvec)\n"
   ]
  },
  {
   "cell_type": "code",
   "execution_count": 15,
   "metadata": {},
   "outputs": [],
   "source": [
    "#Find the eigenvectors of the first part and put them in the MPO\n",
    "_,new_vec=sla.eigsh(linop,which='LA',v0=vec0,tol=1e-7,maxiter=100)\n",
    "new_tens=qtn.Tensor(new_vec.T[0].reshape((*rho[0].shape[-2:],*rho[1].shape[-3:])),right_inds)\n",
    "split_opts={'method':'svd','cutoff':1e-7,'cutoff_mode':'rel','max_bond':100}\n",
    "splited=new_tens.split(right_inds[:2],absorb=\"right\",**split_opts,ltags=rho[0].tags,rtags=rho[1].tags)\n",
    "rho[0]=splited.tensors[0]\n",
    "rho[0]=rho[0].transpose(rho[0].inds[-1],*rho[0].inds[:-1])\n",
    "rho[1]=splited.tensors[1]\n",
    "rho_conj[0]=qtn.Tensor(rho[0].data.transpose(0,2,1).conj(),rho_conj[0].inds,tags=rho_conj[0].tags)\n",
    "rho_conj[1]=qtn.Tensor(rho[1].data.transpose(0,1,3,2).conj(),rho_conj[1].inds,tags=rho_conj[1].tags)"
   ]
  },
  {
   "cell_type": "code",
   "execution_count": 16,
   "metadata": {},
   "outputs": [
    {
     "name": "stdout",
     "output_type": "stream",
     "text": [
      "1\n",
      "2\n",
      "3\n",
      "4\n",
      "5\n",
      "6\n",
      "7\n",
      "8\n",
      "9\n"
     ]
    }
   ],
   "source": [
    "#Get the First Left side\n",
    "left_sides=[]\n",
    "for j in range(len(left_mpos)):\n",
    "    ltensors=[rho[0],rho_conj[0],left_mpos[j][0],right_mpos[j][0]]\n",
    "    left_sides.append([qtn.tensor_contract(*ltensors)])\n",
    "\n",
    "for i in range(1,length-2):\n",
    "    print(i)\n",
    "    left_inds=[rho_conj[i].inds[0],rho_conj[i].inds[2],rho_conj[i].inds[3],rho_conj[i+1].inds[1],rho_conj[i+1].inds[2],rho_conj[i+1].inds[3]]\n",
    "    right_inds=[rho[i].inds[0],rho[i].inds[2],rho[i].inds[3],rho[i+1].inds[1],rho[i+1].inds[2],rho[i+1].inds[3]]\n",
    "    vec0=qtn.tensor_contract(rho[i],rho[i+1]).transpose(*right_inds).data.reshape(-1)\n",
    "    def matvec(vec):\n",
    "        vec_tens=qtn.Tensor(vec.reshape((rho[i].shape[0],*rho[i].shape[-2:],*rho[i+1].shape[-3:])),right_inds)\n",
    "        result_vec=np.zeros(vec.shape,dtype=np.complex128)\n",
    "        for j in range(len(left_mpos)):\n",
    "            tens=[vec_tens,left_mpos[j][i],left_mpos[j][i+1],right_mpos[j][i],right_mpos[j][i+1],left_sides[j][-1],right_sides[j][-i-1]]\n",
    "            result_vec+=qtn.tensor_contract(*tens).transpose(*left_inds).data.reshape(-1)\n",
    "        return result_vec\n",
    "    linop=sla.LinearOperator(shape=(len(vec0),len(vec0)),matvec=matvec)\n",
    "    _,new_vec=sla.eigsh(linop,k=1,which='SM',v0=vec0,tol=1e-7,maxiter=100)\n",
    "    new_tens=qtn.Tensor(new_vec.reshape((rho[i].shape[0],*rho[i].shape[-2:],*rho[i+1].shape[-3:])),right_inds)\n",
    "    split_opts={'method':'svd','cutoff':1e-7,'cutoff_mode':'rel','max_bond':100}\n",
    "    splited=new_tens.split([right_inds[0]]+right_inds[:3],absorb=\"right\",**split_opts,ltags=rho[i].tags,rtags=rho[i+1].tags)\n",
    "    rho[i]=splited.tensors[0]\n",
    "    rho[i]=rho[i].transpose(rho[i].inds[0],rho[i].inds[3],rho[i].inds[1],rho[i].inds[2])\n",
    "    rho[i+1]=splited.tensors[1]\n",
    "    rho_conj[i]=qtn.Tensor(rho[i].data.transpose(0,1,3,2).conj(),rho_conj[i].inds,tags=rho_conj[i].tags)\n",
    "    rho_conj[i+1]=qtn.Tensor(rho[i+1].data.transpose(0,1,3,2).conj(),rho_conj[i+1].inds,tags=rho_conj[i+1].tags)\n",
    "    for j in range(len(left_mpos)):\n",
    "        ltensors=[rho[i],rho_conj[i],left_mpos[j][i],right_mpos[j][i],left_sides[j][-1]]\n",
    "        left_sides[j].append(qtn.tensor_contract(*ltensors))\n",
    "\n"
   ]
  },
  {
   "cell_type": "code",
   "execution_count": 17,
   "metadata": {},
   "outputs": [],
   "source": [
    "#Defie the linear operator\n",
    "left_inds=[rho_conj[-2].inds[0],rho_conj[-2].inds[2],rho_conj[-2].inds[3],rho_conj[-1].inds[1],rho_conj[-1].inds[2]]\n",
    "right_inds=[rho[-2].inds[0],rho[-2].inds[2],rho[-2].inds[3],rho[-1].inds[1],rho[-1].inds[2]]\n",
    "vec0=qtn.tensor_contract(rho[-2],rho[-1]).transpose(*right_inds).data.reshape(-1)\n",
    "tens_shape=(rho[-2].shape[0],rho[-2].shape[2],rho[-2].shape[3],rho[-1].shape[1],rho[-1].shape[2])\n",
    "def matvec(vec):\n",
    "    vec_tens=qtn.Tensor(vec.reshape(tens_shape),right_inds)\n",
    "    result_vec=np.zeros(vec.shape,dtype=np.complex128)\n",
    "    for i in range(len(left_mpos)):\n",
    "        tens=[vec_tens,left_mpos[i][-2],left_mpos[i][-1],right_mpos[i][-2],right_mpos[i][-1],left_sides[i][-1]]\n",
    "        result_vec+=qtn.tensor_contract(*tens).transpose(*left_inds).data.reshape(-1)\n",
    "    return result_vec\n",
    "linop=sla.LinearOperator(shape=(len(vec0),len(vec0)),matvec=matvec)\n"
   ]
  },
  {
   "cell_type": "code",
   "execution_count": 18,
   "metadata": {},
   "outputs": [],
   "source": [
    "#Find the eigenvectors of the first part and put them in the MPO\n",
    "_,new_vec=sla.eigsh(linop,which='LA',v0=vec0,tol=1e-7,maxiter=100)\n",
    "new_tens=qtn.Tensor(new_vec.T[0].reshape(tens_shape),right_inds)\n",
    "split_opts={'method':'svd','cutoff':1e-7,'cutoff_mode':'rel','max_bond':100}\n",
    "splited=new_tens.split([right_inds[0]]+right_inds[:3],absorb=\"left\",**split_opts,ltags=rho[-2].tags,rtags=rho[-1].tags)\n",
    "rho[-2]=splited.tensors[0]\n",
    "rho[-2]=rho[-2].transpose(rho[-2].inds[0],rho[-2].inds[3],rho[-2].inds[1],rho[-2].inds[2])\n",
    "rho[-1]=splited.tensors[1]\n",
    "rho_conj[-2]=qtn.Tensor(rho[-2].data.transpose(0,1,3,2).conj(),rho_conj[-2].inds,tags=rho_conj[-2].tags)\n",
    "rho_conj[-1]=qtn.Tensor(rho[-1].data.transpose(0,2,1).conj(),rho_conj[-1].inds,tags=rho_conj[-1].tags)"
   ]
  },
  {
   "cell_type": "code",
   "execution_count": 19,
   "metadata": {},
   "outputs": [
    {
     "name": "stdout",
     "output_type": "stream",
     "text": [
      "2\n",
      "3\n",
      "4\n",
      "5\n",
      "6\n",
      "7\n",
      "8\n",
      "9\n"
     ]
    }
   ],
   "source": [
    "#Get the First Left side\n",
    "right_sides=[]\n",
    "for j in range(len(left_mpos)):\n",
    "    rtensors=[rho[-1],rho_conj[-1],left_mpos[j][-1],right_mpos[j][-1]]\n",
    "    right_sides.append([qtn.tensor_contract(*rtensors)])\n",
    "\n",
    "for i in range(2,length-2):\n",
    "    print(i)\n",
    "    left_inds=[rho_conj[-(i+1)].inds[0],rho_conj[-(i+1)].inds[2],rho_conj[-(i+1)].inds[3],rho_conj[-i].inds[1],rho_conj[-i].inds[2],rho_conj[-i].inds[3]]\n",
    "    right_inds=[rho[-(i+1)].inds[0],rho[-(i+1)].inds[2],rho[-(i+1)].inds[3],rho[-i].inds[1],rho[-i].inds[2],rho[-i].inds[3]]\n",
    "    vec0=qtn.tensor_contract(rho[-i],rho[-(i+1)]).transpose(*right_inds).data.reshape(-1)\n",
    "    ten_shape=(rho[-(i+1)].shape[0],*rho[-(i+1)].shape[-2:],*rho[-i].shape[-3:])\n",
    "    def matvec(vec):\n",
    "        vec_tens=qtn.Tensor(vec.reshape(ten_shape),right_inds)\n",
    "        result_vec=np.zeros(vec.shape,dtype=np.complex128)\n",
    "        for j in range(len(left_mpos)):\n",
    "            tens=[vec_tens,left_mpos[j][-(i+1)],left_mpos[j][-i],right_mpos[j][-(i+1)],right_mpos[j][-i],left_sides[j][-i],right_sides[j][-1]]\n",
    "            result_vec+=qtn.tensor_contract(*tens).transpose(*left_inds).data.reshape(-1)\n",
    "        return result_vec\n",
    "    linop=sla.LinearOperator(shape=(len(vec0),len(vec0)),matvec=matvec)\n",
    "    _,new_vec=sla.eigsh(linop,k=1,which='SM',v0=vec0,tol=1e-7,maxiter=100)\n",
    "    new_tens=qtn.Tensor(new_vec.reshape(ten_shape),right_inds)\n",
    "    split_opts={'method':'svd','cutoff':1e-7,'cutoff_mode':'abs','max_bond':100}\n",
    "    splited=new_tens.split([right_inds[0]]+right_inds[:3],absorb=\"left\",**split_opts,ltags=rho[-(i+1)].tags,rtags=rho[-i].tags)\n",
    "    rho[-(i+1)]=splited.tensors[0]\n",
    "    rho[-(i+1)]=rho[-(i+1)].transpose(rho[-(i+1)].inds[0],rho[-(i+1)].inds[3],rho[-(i+1)].inds[1],rho[-(i+1)].inds[2])\n",
    "    rho[-i]=splited.tensors[1]\n",
    "    rho_conj[-(i+1)]=qtn.Tensor(rho[-(i+1)].data.transpose(0,1,3,2).conj(),rho_conj[-(i+1)].inds,tags=rho_conj[-(i+1)].tags)\n",
    "    rho_conj[-i]=qtn.Tensor(rho[-i].data.transpose(0,1,3,2).conj(),rho_conj[-i].inds,tags=rho_conj[-i].tags)\n",
    "    for j in range(len(left_mpos)):\n",
    "        rtensors=[rho[-i],rho_conj[-i],left_mpos[j][-i],right_mpos[j][-i],right_sides[j][-1]]\n",
    "        right_sides[j].append(qtn.tensor_contract(*rtensors))\n"
   ]
  }
 ],
 "metadata": {
  "kernelspec": {
   "display_name": "gibbssampler",
   "language": "python",
   "name": "python3"
  },
  "language_info": {
   "codemirror_mode": {
    "name": "ipython",
    "version": 3
   },
   "file_extension": ".py",
   "mimetype": "text/x-python",
   "name": "python",
   "nbconvert_exporter": "python",
   "pygments_lexer": "ipython3",
   "version": "3.12.8"
  }
 },
 "nbformat": 4,
 "nbformat_minor": 2
}
